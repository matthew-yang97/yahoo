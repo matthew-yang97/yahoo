{
  "nbformat": 4,
  "nbformat_minor": 0,
  "metadata": {
    "colab": {
      "name": "final1.ipynb",
      "provenance": []
    },
    "kernelspec": {
      "name": "python3",
      "display_name": "Python 3"
    },
    "language_info": {
      "name": "python"
    }
  },
  "cells": [
    {
      "cell_type": "code",
      "metadata": {
        "id": "9blgr0GeorYh"
      },
      "source": [
        "import numpy as np\n",
        "import pandas as pd\n",
        "import seaborn as sns\n",
        "import matplotlib\n",
        "import matplotlib.pyplot as plt\n",
        "import torch\n",
        "matplotlib.rc(\"font\", family=\"MS Gothic\")"
      ],
      "execution_count": 1,
      "outputs": []
    },
    {
      "cell_type": "code",
      "metadata": {
        "id": "BBBbetn7oygv"
      },
      "source": [
        "df = pd.read_csv(\"population.csv\", parse_dates=[0], index_col=0)"
      ],
      "execution_count": 2,
      "outputs": []
    },
    {
      "cell_type": "code",
      "metadata": {
        "id": "G9pvjrDbo1tk"
      },
      "source": [
        "df1 = pd.DataFrame()\n",
        "df1['渋谷'] = df['渋谷'][305:]\n",
        "df2 = pd.DataFrame()\n",
        "df2['新宿'] = df['新宿'][305:]\n",
        "df3 = pd.DataFrame()\n",
        "df3['丸の内'] = df['丸の内'][305:]\n",
        "df4 = pd.DataFrame()\n",
        "df4['品川'] = df['品川'][305:]\n",
        "df5 = pd.DataFrame()\n",
        "df5['下北沢'] = df['下北沢'][305:]\n",
        "df6 = pd.DataFrame()\n",
        "df6['八王子'] = df['八王子'][305:]\n",
        "df7 = pd.DataFrame()\n",
        "df7['大阪難波'] = df['大阪難波'][305:]\n",
        "df8 = pd.DataFrame()\n",
        "df8['札幌大通'] = df['札幌大通'][305:]\n",
        "df9 = pd.DataFrame()\n",
        "df9['仙台駅'] = df['仙台駅'][305:]\n",
        "df10 = pd.DataFrame()\n",
        "df10['福岡天神'] = df['福岡天神'][305:]"
      ],
      "execution_count": 3,
      "outputs": []
    },
    {
      "cell_type": "code",
      "metadata": {
        "id": "moMsnOh1pWlv"
      },
      "source": [
        "pd_x = pd.read_csv(\"word.csv\", parse_dates=[0], index_col=0)\n",
        "#pd_x['day_of_week'] = pd_x.index.dayofweek\n",
        "#pd_x['day_of_month'] = pd_x.index.day\n",
        "#pd_x['month'] = pd_x.index.month"
      ],
      "execution_count": 4,
      "outputs": []
    },
    {
      "cell_type": "code",
      "metadata": {
        "id": "0J7WdV1eqMdJ"
      },
      "source": [
        "#pd_e = pd.read_csv(\"emergency.csv\", parse_dates=[0], index_col=0)\n",
        "#pd_x['新宿_e'] = pd_e['新宿'] \n",
        "#pd_x['下北沢_e'] = pd_e['下北沢'] \n",
        "#pd_x['八王子_e'] = pd_e['八王子'] \n",
        "#pd_x['大阪難波_e'] = pd_e['大阪難波'] \n",
        "#pd_x['札幌大通_e'] = pd_e['札幌大通']\n",
        "#pd_x['仙台駅_e'] = pd_e['仙台駅'] \n",
        "#pd_x['福岡天神_e'] = pd_e['福岡天神'] \n",
        "#pd_w = pd.read_csv(\"5_level_larger.csv\", parse_dates=[0], index_col=0)\n",
        "#pd_x['新宿_w'] = pd_w['新宿'] \n",
        "#pd_x['下北沢_w'] = pd_w['下北沢'] \n",
        "#pd_x['八王子_w'] = pd_w['八王子'] \n",
        "#pd_x['大阪難波_w'] = pd_w['大阪難波'] \n",
        "#pd_x['札幌大通_w'] = pd_w['札幌大通']\n",
        "#pd_x['仙台駅_w'] = pd_w['仙台駅'] \n",
        "#pd_x['福岡天神_w'] = pd_w['福岡天神'] \n",
        "#pd_i = pd.read_csv(\"covid_increase.csv\", parse_dates=[0], index_col=0)\n",
        "#pd_x['increase'] = pd_i['日本']"
      ],
      "execution_count": null,
      "outputs": []
    },
    {
      "cell_type": "code",
      "metadata": {
        "id": "I_MuOsEirXo_"
      },
      "source": [
        "pd_day = pd.read_csv(\"off_day.csv\", parse_dates=[0], index_col=0)\n",
        "pd_x['off'] = pd_day['off'] "
      ],
      "execution_count": 5,
      "outputs": []
    },
    {
      "cell_type": "code",
      "metadata": {
        "colab": {
          "base_uri": "https://localhost:8080/",
          "height": 837
        },
        "id": "cqHQQ6W2rhwd",
        "outputId": "b11a72fe-7bbb-41ca-b13c-07caaa6ff55b"
      },
      "source": [
        "pd_x"
      ],
      "execution_count": 6,
      "outputs": [
        {
          "output_type": "execute_result",
          "data": {
            "text/html": [
              "<div>\n",
              "<style scoped>\n",
              "    .dataframe tbody tr th:only-of-type {\n",
              "        vertical-align: middle;\n",
              "    }\n",
              "\n",
              "    .dataframe tbody tr th {\n",
              "        vertical-align: top;\n",
              "    }\n",
              "\n",
              "    .dataframe thead th {\n",
              "        text-align: right;\n",
              "    }\n",
              "</style>\n",
              "<table border=\"1\" class=\"dataframe\">\n",
              "  <thead>\n",
              "    <tr style=\"text-align: right;\">\n",
              "      <th></th>\n",
              "      <th>渋谷</th>\n",
              "      <th>新宿</th>\n",
              "      <th>丸の内</th>\n",
              "      <th>品川</th>\n",
              "      <th>下北沢</th>\n",
              "      <th>八王子</th>\n",
              "      <th>大阪</th>\n",
              "      <th>札幌</th>\n",
              "      <th>仙台</th>\n",
              "      <th>福岡</th>\n",
              "      <th>東京 コロナ</th>\n",
              "      <th>コロナ 感染者数</th>\n",
              "      <th>コロナ ワクチン</th>\n",
              "      <th>コロナ 初期症状</th>\n",
              "      <th>コロナ 潜伏期間</th>\n",
              "      <th>緊急事態宣言</th>\n",
              "      <th>緊急事態宣言 東京</th>\n",
              "      <th>緊急事態宣言 再発令</th>\n",
              "      <th>緊急事態宣言とは</th>\n",
              "      <th>緊急事態宣言 解除</th>\n",
              "      <th>緊急事態宣言 仕事</th>\n",
              "      <th>大阪府 コロナウイルス感染者</th>\n",
              "      <th>大阪府 緊急事態宣言</th>\n",
              "      <th>北海道 コロナウイルス感染者</th>\n",
              "      <th>北海道 緊急事態宣言</th>\n",
              "      <th>宮城県 コロナウイルス感染者</th>\n",
              "      <th>宮城県 緊急事態宣言</th>\n",
              "      <th>福岡県 コロナウイルス感染者</th>\n",
              "      <th>福岡県 緊急事態宣言</th>\n",
              "      <th>デルタ株</th>\n",
              "      <th>ラムダ株</th>\n",
              "      <th>リモート とは</th>\n",
              "      <th>リモートワーク</th>\n",
              "      <th>リモート飲み会</th>\n",
              "      <th>居酒屋</th>\n",
              "      <th>飲み会</th>\n",
              "      <th>旅行</th>\n",
              "      <th>飲食店</th>\n",
              "      <th>営業時間</th>\n",
              "      <th>デリバリー</th>\n",
              "      <th>テイクアウト</th>\n",
              "      <th>コンビニ</th>\n",
              "      <th>マスク</th>\n",
              "      <th>アルコール</th>\n",
              "      <th>ランチ</th>\n",
              "      <th>美容院</th>\n",
              "      <th>カラオケ</th>\n",
              "      <th>温泉</th>\n",
              "      <th>チケット</th>\n",
              "      <th>新幹線</th>\n",
              "      <th>飛行機</th>\n",
              "      <th>レストラン</th>\n",
              "      <th>レシピ</th>\n",
              "      <th>動画</th>\n",
              "      <th>漫画</th>\n",
              "      <th>ゲーム</th>\n",
              "      <th>公園</th>\n",
              "      <th>自転車</th>\n",
              "      <th>台風</th>\n",
              "      <th>大雨</th>\n",
              "      <th>off</th>\n",
              "    </tr>\n",
              "    <tr>\n",
              "      <th>日付</th>\n",
              "      <th></th>\n",
              "      <th></th>\n",
              "      <th></th>\n",
              "      <th></th>\n",
              "      <th></th>\n",
              "      <th></th>\n",
              "      <th></th>\n",
              "      <th></th>\n",
              "      <th></th>\n",
              "      <th></th>\n",
              "      <th></th>\n",
              "      <th></th>\n",
              "      <th></th>\n",
              "      <th></th>\n",
              "      <th></th>\n",
              "      <th></th>\n",
              "      <th></th>\n",
              "      <th></th>\n",
              "      <th></th>\n",
              "      <th></th>\n",
              "      <th></th>\n",
              "      <th></th>\n",
              "      <th></th>\n",
              "      <th></th>\n",
              "      <th></th>\n",
              "      <th></th>\n",
              "      <th></th>\n",
              "      <th></th>\n",
              "      <th></th>\n",
              "      <th></th>\n",
              "      <th></th>\n",
              "      <th></th>\n",
              "      <th></th>\n",
              "      <th></th>\n",
              "      <th></th>\n",
              "      <th></th>\n",
              "      <th></th>\n",
              "      <th></th>\n",
              "      <th></th>\n",
              "      <th></th>\n",
              "      <th></th>\n",
              "      <th></th>\n",
              "      <th></th>\n",
              "      <th></th>\n",
              "      <th></th>\n",
              "      <th></th>\n",
              "      <th></th>\n",
              "      <th></th>\n",
              "      <th></th>\n",
              "      <th></th>\n",
              "      <th></th>\n",
              "      <th></th>\n",
              "      <th></th>\n",
              "      <th></th>\n",
              "      <th></th>\n",
              "      <th></th>\n",
              "      <th></th>\n",
              "      <th></th>\n",
              "      <th></th>\n",
              "      <th></th>\n",
              "      <th></th>\n",
              "    </tr>\n",
              "  </thead>\n",
              "  <tbody>\n",
              "    <tr>\n",
              "      <th>2020-01-01</th>\n",
              "      <td>2400</td>\n",
              "      <td>2700</td>\n",
              "      <td>160</td>\n",
              "      <td>260</td>\n",
              "      <td>330</td>\n",
              "      <td>1200</td>\n",
              "      <td>5400</td>\n",
              "      <td>3500</td>\n",
              "      <td>1600</td>\n",
              "      <td>1600</td>\n",
              "      <td>0</td>\n",
              "      <td>0</td>\n",
              "      <td>0</td>\n",
              "      <td>0</td>\n",
              "      <td>0</td>\n",
              "      <td>0</td>\n",
              "      <td>0</td>\n",
              "      <td>0</td>\n",
              "      <td>0</td>\n",
              "      <td>0</td>\n",
              "      <td>0</td>\n",
              "      <td>0</td>\n",
              "      <td>0</td>\n",
              "      <td>0</td>\n",
              "      <td>0</td>\n",
              "      <td>0</td>\n",
              "      <td>0</td>\n",
              "      <td>0</td>\n",
              "      <td>0</td>\n",
              "      <td>0</td>\n",
              "      <td>0</td>\n",
              "      <td>0</td>\n",
              "      <td>90</td>\n",
              "      <td>0</td>\n",
              "      <td>380</td>\n",
              "      <td>30</td>\n",
              "      <td>1200</td>\n",
              "      <td>210</td>\n",
              "      <td>30</td>\n",
              "      <td>370</td>\n",
              "      <td>120</td>\n",
              "      <td>2100</td>\n",
              "      <td>250</td>\n",
              "      <td>250</td>\n",
              "      <td>250</td>\n",
              "      <td>510</td>\n",
              "      <td>2000</td>\n",
              "      <td>1700</td>\n",
              "      <td>450</td>\n",
              "      <td>3600</td>\n",
              "      <td>990</td>\n",
              "      <td>110</td>\n",
              "      <td>850</td>\n",
              "      <td>1300</td>\n",
              "      <td>3700</td>\n",
              "      <td>2400</td>\n",
              "      <td>180</td>\n",
              "      <td>1600</td>\n",
              "      <td>120</td>\n",
              "      <td>0</td>\n",
              "      <td>1</td>\n",
              "    </tr>\n",
              "    <tr>\n",
              "      <th>2020-01-02</th>\n",
              "      <td>1500</td>\n",
              "      <td>3400</td>\n",
              "      <td>230</td>\n",
              "      <td>260</td>\n",
              "      <td>390</td>\n",
              "      <td>1400</td>\n",
              "      <td>5800</td>\n",
              "      <td>4000</td>\n",
              "      <td>1900</td>\n",
              "      <td>1800</td>\n",
              "      <td>0</td>\n",
              "      <td>0</td>\n",
              "      <td>0</td>\n",
              "      <td>0</td>\n",
              "      <td>0</td>\n",
              "      <td>0</td>\n",
              "      <td>0</td>\n",
              "      <td>0</td>\n",
              "      <td>0</td>\n",
              "      <td>0</td>\n",
              "      <td>0</td>\n",
              "      <td>0</td>\n",
              "      <td>0</td>\n",
              "      <td>0</td>\n",
              "      <td>0</td>\n",
              "      <td>0</td>\n",
              "      <td>0</td>\n",
              "      <td>0</td>\n",
              "      <td>0</td>\n",
              "      <td>0</td>\n",
              "      <td>0</td>\n",
              "      <td>0</td>\n",
              "      <td>50</td>\n",
              "      <td>0</td>\n",
              "      <td>800</td>\n",
              "      <td>10</td>\n",
              "      <td>1200</td>\n",
              "      <td>270</td>\n",
              "      <td>50</td>\n",
              "      <td>370</td>\n",
              "      <td>140</td>\n",
              "      <td>1400</td>\n",
              "      <td>310</td>\n",
              "      <td>140</td>\n",
              "      <td>470</td>\n",
              "      <td>790</td>\n",
              "      <td>2200</td>\n",
              "      <td>1700</td>\n",
              "      <td>510</td>\n",
              "      <td>4700</td>\n",
              "      <td>1000</td>\n",
              "      <td>150</td>\n",
              "      <td>960</td>\n",
              "      <td>1500</td>\n",
              "      <td>4100</td>\n",
              "      <td>2500</td>\n",
              "      <td>200</td>\n",
              "      <td>1800</td>\n",
              "      <td>230</td>\n",
              "      <td>0</td>\n",
              "      <td>0</td>\n",
              "    </tr>\n",
              "    <tr>\n",
              "      <th>2020-01-03</th>\n",
              "      <td>1900</td>\n",
              "      <td>3800</td>\n",
              "      <td>200</td>\n",
              "      <td>340</td>\n",
              "      <td>540</td>\n",
              "      <td>1400</td>\n",
              "      <td>6300</td>\n",
              "      <td>4000</td>\n",
              "      <td>2000</td>\n",
              "      <td>1800</td>\n",
              "      <td>0</td>\n",
              "      <td>0</td>\n",
              "      <td>0</td>\n",
              "      <td>0</td>\n",
              "      <td>0</td>\n",
              "      <td>0</td>\n",
              "      <td>0</td>\n",
              "      <td>0</td>\n",
              "      <td>0</td>\n",
              "      <td>0</td>\n",
              "      <td>0</td>\n",
              "      <td>0</td>\n",
              "      <td>0</td>\n",
              "      <td>0</td>\n",
              "      <td>0</td>\n",
              "      <td>0</td>\n",
              "      <td>0</td>\n",
              "      <td>0</td>\n",
              "      <td>0</td>\n",
              "      <td>0</td>\n",
              "      <td>0</td>\n",
              "      <td>0</td>\n",
              "      <td>80</td>\n",
              "      <td>0</td>\n",
              "      <td>760</td>\n",
              "      <td>20</td>\n",
              "      <td>1300</td>\n",
              "      <td>230</td>\n",
              "      <td>70</td>\n",
              "      <td>480</td>\n",
              "      <td>140</td>\n",
              "      <td>1300</td>\n",
              "      <td>330</td>\n",
              "      <td>180</td>\n",
              "      <td>510</td>\n",
              "      <td>1000</td>\n",
              "      <td>2200</td>\n",
              "      <td>1800</td>\n",
              "      <td>520</td>\n",
              "      <td>5500</td>\n",
              "      <td>1100</td>\n",
              "      <td>130</td>\n",
              "      <td>1000</td>\n",
              "      <td>1700</td>\n",
              "      <td>4700</td>\n",
              "      <td>2200</td>\n",
              "      <td>300</td>\n",
              "      <td>2100</td>\n",
              "      <td>120</td>\n",
              "      <td>0</td>\n",
              "      <td>0</td>\n",
              "    </tr>\n",
              "    <tr>\n",
              "      <th>2020-01-04</th>\n",
              "      <td>1800</td>\n",
              "      <td>3600</td>\n",
              "      <td>200</td>\n",
              "      <td>350</td>\n",
              "      <td>660</td>\n",
              "      <td>1400</td>\n",
              "      <td>6500</td>\n",
              "      <td>4000</td>\n",
              "      <td>1900</td>\n",
              "      <td>1800</td>\n",
              "      <td>0</td>\n",
              "      <td>0</td>\n",
              "      <td>0</td>\n",
              "      <td>0</td>\n",
              "      <td>0</td>\n",
              "      <td>0</td>\n",
              "      <td>0</td>\n",
              "      <td>0</td>\n",
              "      <td>0</td>\n",
              "      <td>0</td>\n",
              "      <td>0</td>\n",
              "      <td>0</td>\n",
              "      <td>0</td>\n",
              "      <td>0</td>\n",
              "      <td>0</td>\n",
              "      <td>0</td>\n",
              "      <td>0</td>\n",
              "      <td>0</td>\n",
              "      <td>0</td>\n",
              "      <td>0</td>\n",
              "      <td>0</td>\n",
              "      <td>0</td>\n",
              "      <td>60</td>\n",
              "      <td>0</td>\n",
              "      <td>810</td>\n",
              "      <td>20</td>\n",
              "      <td>1300</td>\n",
              "      <td>210</td>\n",
              "      <td>10</td>\n",
              "      <td>450</td>\n",
              "      <td>200</td>\n",
              "      <td>1300</td>\n",
              "      <td>790</td>\n",
              "      <td>240</td>\n",
              "      <td>560</td>\n",
              "      <td>1200</td>\n",
              "      <td>2100</td>\n",
              "      <td>1700</td>\n",
              "      <td>540</td>\n",
              "      <td>5700</td>\n",
              "      <td>1100</td>\n",
              "      <td>150</td>\n",
              "      <td>1100</td>\n",
              "      <td>1800</td>\n",
              "      <td>4500</td>\n",
              "      <td>2000</td>\n",
              "      <td>280</td>\n",
              "      <td>2400</td>\n",
              "      <td>110</td>\n",
              "      <td>0</td>\n",
              "      <td>1</td>\n",
              "    </tr>\n",
              "    <tr>\n",
              "      <th>2020-01-05</th>\n",
              "      <td>1400</td>\n",
              "      <td>2900</td>\n",
              "      <td>160</td>\n",
              "      <td>590</td>\n",
              "      <td>660</td>\n",
              "      <td>1400</td>\n",
              "      <td>6300</td>\n",
              "      <td>4000</td>\n",
              "      <td>1600</td>\n",
              "      <td>2700</td>\n",
              "      <td>0</td>\n",
              "      <td>0</td>\n",
              "      <td>0</td>\n",
              "      <td>0</td>\n",
              "      <td>0</td>\n",
              "      <td>0</td>\n",
              "      <td>0</td>\n",
              "      <td>0</td>\n",
              "      <td>0</td>\n",
              "      <td>0</td>\n",
              "      <td>0</td>\n",
              "      <td>0</td>\n",
              "      <td>0</td>\n",
              "      <td>0</td>\n",
              "      <td>0</td>\n",
              "      <td>0</td>\n",
              "      <td>0</td>\n",
              "      <td>0</td>\n",
              "      <td>0</td>\n",
              "      <td>0</td>\n",
              "      <td>0</td>\n",
              "      <td>10</td>\n",
              "      <td>100</td>\n",
              "      <td>0</td>\n",
              "      <td>560</td>\n",
              "      <td>20</td>\n",
              "      <td>1500</td>\n",
              "      <td>270</td>\n",
              "      <td>10</td>\n",
              "      <td>450</td>\n",
              "      <td>170</td>\n",
              "      <td>1300</td>\n",
              "      <td>520</td>\n",
              "      <td>200</td>\n",
              "      <td>500</td>\n",
              "      <td>1100</td>\n",
              "      <td>2100</td>\n",
              "      <td>1500</td>\n",
              "      <td>550</td>\n",
              "      <td>5300</td>\n",
              "      <td>1200</td>\n",
              "      <td>50</td>\n",
              "      <td>1200</td>\n",
              "      <td>1800</td>\n",
              "      <td>4600</td>\n",
              "      <td>1800</td>\n",
              "      <td>260</td>\n",
              "      <td>2500</td>\n",
              "      <td>120</td>\n",
              "      <td>0</td>\n",
              "      <td>1</td>\n",
              "    </tr>\n",
              "    <tr>\n",
              "      <th>...</th>\n",
              "      <td>...</td>\n",
              "      <td>...</td>\n",
              "      <td>...</td>\n",
              "      <td>...</td>\n",
              "      <td>...</td>\n",
              "      <td>...</td>\n",
              "      <td>...</td>\n",
              "      <td>...</td>\n",
              "      <td>...</td>\n",
              "      <td>...</td>\n",
              "      <td>...</td>\n",
              "      <td>...</td>\n",
              "      <td>...</td>\n",
              "      <td>...</td>\n",
              "      <td>...</td>\n",
              "      <td>...</td>\n",
              "      <td>...</td>\n",
              "      <td>...</td>\n",
              "      <td>...</td>\n",
              "      <td>...</td>\n",
              "      <td>...</td>\n",
              "      <td>...</td>\n",
              "      <td>...</td>\n",
              "      <td>...</td>\n",
              "      <td>...</td>\n",
              "      <td>...</td>\n",
              "      <td>...</td>\n",
              "      <td>...</td>\n",
              "      <td>...</td>\n",
              "      <td>...</td>\n",
              "      <td>...</td>\n",
              "      <td>...</td>\n",
              "      <td>...</td>\n",
              "      <td>...</td>\n",
              "      <td>...</td>\n",
              "      <td>...</td>\n",
              "      <td>...</td>\n",
              "      <td>...</td>\n",
              "      <td>...</td>\n",
              "      <td>...</td>\n",
              "      <td>...</td>\n",
              "      <td>...</td>\n",
              "      <td>...</td>\n",
              "      <td>...</td>\n",
              "      <td>...</td>\n",
              "      <td>...</td>\n",
              "      <td>...</td>\n",
              "      <td>...</td>\n",
              "      <td>...</td>\n",
              "      <td>...</td>\n",
              "      <td>...</td>\n",
              "      <td>...</td>\n",
              "      <td>...</td>\n",
              "      <td>...</td>\n",
              "      <td>...</td>\n",
              "      <td>...</td>\n",
              "      <td>...</td>\n",
              "      <td>...</td>\n",
              "      <td>...</td>\n",
              "      <td>...</td>\n",
              "      <td>...</td>\n",
              "    </tr>\n",
              "    <tr>\n",
              "      <th>2021-09-18</th>\n",
              "      <td>820</td>\n",
              "      <td>1500</td>\n",
              "      <td>160</td>\n",
              "      <td>260</td>\n",
              "      <td>450</td>\n",
              "      <td>1500</td>\n",
              "      <td>1300</td>\n",
              "      <td>2400</td>\n",
              "      <td>620</td>\n",
              "      <td>910</td>\n",
              "      <td>62100</td>\n",
              "      <td>32400</td>\n",
              "      <td>16400</td>\n",
              "      <td>8900</td>\n",
              "      <td>3200</td>\n",
              "      <td>17100</td>\n",
              "      <td>600</td>\n",
              "      <td>30</td>\n",
              "      <td>20</td>\n",
              "      <td>570</td>\n",
              "      <td>0</td>\n",
              "      <td>240</td>\n",
              "      <td>50</td>\n",
              "      <td>20</td>\n",
              "      <td>430</td>\n",
              "      <td>50</td>\n",
              "      <td>190</td>\n",
              "      <td>11400</td>\n",
              "      <td>220</td>\n",
              "      <td>420</td>\n",
              "      <td>110</td>\n",
              "      <td>420</td>\n",
              "      <td>300</td>\n",
              "      <td>20</td>\n",
              "      <td>270</td>\n",
              "      <td>30</td>\n",
              "      <td>690</td>\n",
              "      <td>250</td>\n",
              "      <td>40</td>\n",
              "      <td>680</td>\n",
              "      <td>940</td>\n",
              "      <td>1100</td>\n",
              "      <td>3400</td>\n",
              "      <td>380</td>\n",
              "      <td>760</td>\n",
              "      <td>1500</td>\n",
              "      <td>1300</td>\n",
              "      <td>1000</td>\n",
              "      <td>600</td>\n",
              "      <td>6300</td>\n",
              "      <td>580</td>\n",
              "      <td>410</td>\n",
              "      <td>1400</td>\n",
              "      <td>2700</td>\n",
              "      <td>5300</td>\n",
              "      <td>2400</td>\n",
              "      <td>410</td>\n",
              "      <td>3100</td>\n",
              "      <td>63900</td>\n",
              "      <td>220</td>\n",
              "      <td>1</td>\n",
              "    </tr>\n",
              "    <tr>\n",
              "      <th>2021-09-19</th>\n",
              "      <td>820</td>\n",
              "      <td>1600</td>\n",
              "      <td>200</td>\n",
              "      <td>230</td>\n",
              "      <td>580</td>\n",
              "      <td>1600</td>\n",
              "      <td>1200</td>\n",
              "      <td>2400</td>\n",
              "      <td>560</td>\n",
              "      <td>840</td>\n",
              "      <td>57600</td>\n",
              "      <td>34000</td>\n",
              "      <td>14200</td>\n",
              "      <td>8500</td>\n",
              "      <td>2900</td>\n",
              "      <td>18700</td>\n",
              "      <td>680</td>\n",
              "      <td>10</td>\n",
              "      <td>30</td>\n",
              "      <td>860</td>\n",
              "      <td>0</td>\n",
              "      <td>260</td>\n",
              "      <td>100</td>\n",
              "      <td>20</td>\n",
              "      <td>370</td>\n",
              "      <td>40</td>\n",
              "      <td>150</td>\n",
              "      <td>13400</td>\n",
              "      <td>190</td>\n",
              "      <td>320</td>\n",
              "      <td>120</td>\n",
              "      <td>400</td>\n",
              "      <td>240</td>\n",
              "      <td>10</td>\n",
              "      <td>260</td>\n",
              "      <td>0</td>\n",
              "      <td>610</td>\n",
              "      <td>270</td>\n",
              "      <td>30</td>\n",
              "      <td>560</td>\n",
              "      <td>950</td>\n",
              "      <td>1100</td>\n",
              "      <td>3000</td>\n",
              "      <td>310</td>\n",
              "      <td>840</td>\n",
              "      <td>1300</td>\n",
              "      <td>1400</td>\n",
              "      <td>1000</td>\n",
              "      <td>340</td>\n",
              "      <td>2300</td>\n",
              "      <td>420</td>\n",
              "      <td>440</td>\n",
              "      <td>1200</td>\n",
              "      <td>2300</td>\n",
              "      <td>5000</td>\n",
              "      <td>2100</td>\n",
              "      <td>970</td>\n",
              "      <td>4000</td>\n",
              "      <td>6600</td>\n",
              "      <td>0</td>\n",
              "      <td>1</td>\n",
              "    </tr>\n",
              "    <tr>\n",
              "      <th>2021-09-20</th>\n",
              "      <td>770</td>\n",
              "      <td>1600</td>\n",
              "      <td>140</td>\n",
              "      <td>140</td>\n",
              "      <td>550</td>\n",
              "      <td>1600</td>\n",
              "      <td>1200</td>\n",
              "      <td>2200</td>\n",
              "      <td>500</td>\n",
              "      <td>760</td>\n",
              "      <td>52100</td>\n",
              "      <td>35800</td>\n",
              "      <td>13600</td>\n",
              "      <td>9500</td>\n",
              "      <td>3200</td>\n",
              "      <td>21900</td>\n",
              "      <td>930</td>\n",
              "      <td>0</td>\n",
              "      <td>40</td>\n",
              "      <td>1800</td>\n",
              "      <td>0</td>\n",
              "      <td>250</td>\n",
              "      <td>110</td>\n",
              "      <td>20</td>\n",
              "      <td>370</td>\n",
              "      <td>60</td>\n",
              "      <td>130</td>\n",
              "      <td>12500</td>\n",
              "      <td>170</td>\n",
              "      <td>460</td>\n",
              "      <td>130</td>\n",
              "      <td>470</td>\n",
              "      <td>290</td>\n",
              "      <td>20</td>\n",
              "      <td>220</td>\n",
              "      <td>20</td>\n",
              "      <td>630</td>\n",
              "      <td>240</td>\n",
              "      <td>20</td>\n",
              "      <td>700</td>\n",
              "      <td>720</td>\n",
              "      <td>1000</td>\n",
              "      <td>3100</td>\n",
              "      <td>390</td>\n",
              "      <td>840</td>\n",
              "      <td>1300</td>\n",
              "      <td>1200</td>\n",
              "      <td>1100</td>\n",
              "      <td>370</td>\n",
              "      <td>2400</td>\n",
              "      <td>540</td>\n",
              "      <td>400</td>\n",
              "      <td>1300</td>\n",
              "      <td>2400</td>\n",
              "      <td>4800</td>\n",
              "      <td>2300</td>\n",
              "      <td>840</td>\n",
              "      <td>4300</td>\n",
              "      <td>1900</td>\n",
              "      <td>0</td>\n",
              "      <td>1</td>\n",
              "    </tr>\n",
              "    <tr>\n",
              "      <th>2021-09-21</th>\n",
              "      <td>580</td>\n",
              "      <td>1100</td>\n",
              "      <td>160</td>\n",
              "      <td>140</td>\n",
              "      <td>610</td>\n",
              "      <td>1600</td>\n",
              "      <td>1200</td>\n",
              "      <td>2200</td>\n",
              "      <td>500</td>\n",
              "      <td>620</td>\n",
              "      <td>54400</td>\n",
              "      <td>36400</td>\n",
              "      <td>15700</td>\n",
              "      <td>9700</td>\n",
              "      <td>3400</td>\n",
              "      <td>24800</td>\n",
              "      <td>1300</td>\n",
              "      <td>0</td>\n",
              "      <td>20</td>\n",
              "      <td>2200</td>\n",
              "      <td>0</td>\n",
              "      <td>300</td>\n",
              "      <td>150</td>\n",
              "      <td>40</td>\n",
              "      <td>430</td>\n",
              "      <td>50</td>\n",
              "      <td>160</td>\n",
              "      <td>12500</td>\n",
              "      <td>260</td>\n",
              "      <td>490</td>\n",
              "      <td>120</td>\n",
              "      <td>470</td>\n",
              "      <td>350</td>\n",
              "      <td>0</td>\n",
              "      <td>230</td>\n",
              "      <td>10</td>\n",
              "      <td>560</td>\n",
              "      <td>260</td>\n",
              "      <td>70</td>\n",
              "      <td>390</td>\n",
              "      <td>380</td>\n",
              "      <td>970</td>\n",
              "      <td>3300</td>\n",
              "      <td>300</td>\n",
              "      <td>510</td>\n",
              "      <td>1200</td>\n",
              "      <td>790</td>\n",
              "      <td>640</td>\n",
              "      <td>310</td>\n",
              "      <td>1800</td>\n",
              "      <td>420</td>\n",
              "      <td>310</td>\n",
              "      <td>1100</td>\n",
              "      <td>2200</td>\n",
              "      <td>4200</td>\n",
              "      <td>1700</td>\n",
              "      <td>230</td>\n",
              "      <td>3300</td>\n",
              "      <td>2000</td>\n",
              "      <td>10</td>\n",
              "      <td>0</td>\n",
              "    </tr>\n",
              "    <tr>\n",
              "      <th>2021-09-22</th>\n",
              "      <td>670</td>\n",
              "      <td>1300</td>\n",
              "      <td>140</td>\n",
              "      <td>140</td>\n",
              "      <td>480</td>\n",
              "      <td>2200</td>\n",
              "      <td>1100</td>\n",
              "      <td>2400</td>\n",
              "      <td>650</td>\n",
              "      <td>590</td>\n",
              "      <td>75000</td>\n",
              "      <td>38800</td>\n",
              "      <td>15400</td>\n",
              "      <td>8800</td>\n",
              "      <td>2900</td>\n",
              "      <td>26200</td>\n",
              "      <td>1100</td>\n",
              "      <td>0</td>\n",
              "      <td>0</td>\n",
              "      <td>2600</td>\n",
              "      <td>0</td>\n",
              "      <td>240</td>\n",
              "      <td>170</td>\n",
              "      <td>30</td>\n",
              "      <td>440</td>\n",
              "      <td>40</td>\n",
              "      <td>130</td>\n",
              "      <td>11700</td>\n",
              "      <td>250</td>\n",
              "      <td>480</td>\n",
              "      <td>70</td>\n",
              "      <td>470</td>\n",
              "      <td>280</td>\n",
              "      <td>0</td>\n",
              "      <td>280</td>\n",
              "      <td>20</td>\n",
              "      <td>520</td>\n",
              "      <td>230</td>\n",
              "      <td>30</td>\n",
              "      <td>390</td>\n",
              "      <td>400</td>\n",
              "      <td>1000</td>\n",
              "      <td>3300</td>\n",
              "      <td>280</td>\n",
              "      <td>540</td>\n",
              "      <td>1600</td>\n",
              "      <td>1000</td>\n",
              "      <td>740</td>\n",
              "      <td>470</td>\n",
              "      <td>1800</td>\n",
              "      <td>480</td>\n",
              "      <td>340</td>\n",
              "      <td>1200</td>\n",
              "      <td>2300</td>\n",
              "      <td>4100</td>\n",
              "      <td>1900</td>\n",
              "      <td>350</td>\n",
              "      <td>3000</td>\n",
              "      <td>2100</td>\n",
              "      <td>120</td>\n",
              "      <td>0</td>\n",
              "    </tr>\n",
              "  </tbody>\n",
              "</table>\n",
              "<p>631 rows × 61 columns</p>\n",
              "</div>"
            ],
            "text/plain": [
              "              渋谷    新宿  丸の内   品川  下北沢   八王子  ...   ゲーム   公園   自転車     台風   大雨  off\n",
              "日付                                           ...                                  \n",
              "2020-01-01  2400  2700  160  260  330  1200  ...  2400  180  1600    120    0    1\n",
              "2020-01-02  1500  3400  230  260  390  1400  ...  2500  200  1800    230    0    0\n",
              "2020-01-03  1900  3800  200  340  540  1400  ...  2200  300  2100    120    0    0\n",
              "2020-01-04  1800  3600  200  350  660  1400  ...  2000  280  2400    110    0    1\n",
              "2020-01-05  1400  2900  160  590  660  1400  ...  1800  260  2500    120    0    1\n",
              "...          ...   ...  ...  ...  ...   ...  ...   ...  ...   ...    ...  ...  ...\n",
              "2021-09-18   820  1500  160  260  450  1500  ...  2400  410  3100  63900  220    1\n",
              "2021-09-19   820  1600  200  230  580  1600  ...  2100  970  4000   6600    0    1\n",
              "2021-09-20   770  1600  140  140  550  1600  ...  2300  840  4300   1900    0    1\n",
              "2021-09-21   580  1100  160  140  610  1600  ...  1700  230  3300   2000   10    0\n",
              "2021-09-22   670  1300  140  140  480  2200  ...  1900  350  3000   2100  120    0\n",
              "\n",
              "[631 rows x 61 columns]"
            ]
          },
          "metadata": {},
          "execution_count": 6
        }
      ]
    },
    {
      "cell_type": "code",
      "metadata": {
        "colab": {
          "base_uri": "https://localhost:8080/"
        },
        "id": "7DVr8oVyrm3B",
        "outputId": "144e586e-2910-427f-eaad-4e5dc6143e58"
      },
      "source": [
        "from scipy.stats import pearsonr\n",
        "all_list = set()\n",
        "cols = np.array(pd_x.columns)\n",
        "shibuya_list_plus = []\n",
        "shibuya_list_minus = []\n",
        "for col in cols:\n",
        "  r, p = pearsonr(pd_x[col][-len(df1['渋谷']):], df1['渋谷'])\n",
        "  #print(r, p)\n",
        "  if r >= 0.6 and p < 0.05:\n",
        "    shibuya_list_plus.append((col, abs(r)))\n",
        "  if r <= -0.6 and p < 0.05:\n",
        "    shibuya_list_minus.append((col, abs(r)))\n",
        "print('渋谷')\n",
        "shibuya_list = sorted((shibuya_list_plus + shibuya_list_minus), key=lambda x:x[1], reverse=True)[:4]\n",
        "print(shibuya_list)\n",
        "all_list.update(shibuya_list)\n",
        "shinjuku_list_plus = []\n",
        "shinjuku_list_minus = []\n",
        "for col in cols:\n",
        "  r, p = pearsonr(pd_x[col][-len(df2['新宿']):], df2['新宿'])\n",
        "  if r >= 0.6 and p < 0.05:\n",
        "    shinjuku_list_plus.append((col, abs(r)))\n",
        "  if r <= -0.6 and p < 0.05:\n",
        "    shinjuku_list_minus.append((col, abs(r)))\n",
        "print('新宿')\n",
        "shinjuku_list = sorted((shinjuku_list_plus + shinjuku_list_minus), key=lambda x:x[1], reverse=True)[:4]\n",
        "all_list.update(shinjuku_list)\n",
        "print(shinjuku_list)\n",
        "maru_list_plus = []\n",
        "maru_list_minus = []\n",
        "for col in cols:\n",
        "  r, p = pearsonr(pd_x[col][-len(df3['丸の内']):], df3['丸の内'])\n",
        "  if r >= 0.6 and p < 0.05:\n",
        "    maru_list_plus.append((col, abs(r)))\n",
        "  if r <= -0.6 and p < 0.05:\n",
        "    maru_list_minus.append((col, abs(r)))\n",
        "print('丸の内')\n",
        "maru_list = sorted((maru_list_plus + maru_list_minus), key=lambda x:x[1], reverse=True)[:4]\n",
        "print(maru_list)\n",
        "all_list.update(maru_list)\n",
        "\n",
        "Shinagawa_list_plus = []\n",
        "Shinagawa_list_minus = []\n",
        "for col in cols:\n",
        "  r, p = pearsonr(pd_x[col][-len(df4['品川']):], df4['品川'])\n",
        "  if r >= 0.6 and p < 0.05:\n",
        "    Shinagawa_list_plus.append((col, abs(r)))\n",
        "  if r <= -0.6 and p < 0.05:\n",
        "    Shinagawa_list_minus.append((col, abs(r)))\n",
        "print('品川')\n",
        "Shinagawa_list = sorted((Shinagawa_list_plus + Shinagawa_list_minus), key=lambda x:x[1], reverse=True)[:4]\n",
        "print(Shinagawa_list)\n",
        "all_list.update(Shinagawa_list)\n",
        "\n",
        "Shimokitazawa_list_plus = []\n",
        "Shimokitazawa_list_minus = []\n",
        "for col in cols:\n",
        "  r, p = pearsonr(pd_x[col][-len(df5['下北沢']):], df5['下北沢'])\n",
        "  if r >= 0.6 and p < 0.05:\n",
        "    Shimokitazawa_list_plus.append((col, abs(r)))\n",
        "  if r <= -0.6 and p < 0.05:\n",
        "    Shimokitazawa_list_minus.append((col, abs(r)))\n",
        "print('下北沢')\n",
        "Shimokitazawa_list = sorted((Shimokitazawa_list_plus + Shimokitazawa_list_minus), key=lambda x:x[1], reverse=True)[:4]\n",
        "print(Shimokitazawa_list)\n",
        "all_list.update(Shimokitazawa_list)\n",
        "\n",
        "hachi_list_plus = []\n",
        "hachi_list_minus = []\n",
        "for col in cols:\n",
        "  r, p = pearsonr(pd_x[col][-len(df6['八王子']):], df6['八王子'])\n",
        "  if r >= 0.6 and p < 0.05:\n",
        "    hachi_list_plus.append((col, abs(r)))\n",
        "  if r <= -0.6 and p < 0.05:\n",
        "    hachi_list_minus.append((col, abs(r)))\n",
        "print('八王子')\n",
        "hachi_list = sorted((hachi_list_plus + hachi_list_minus), key=lambda x:x[1], reverse=True)[:4]\n",
        "print(hachi_list)\n",
        "all_list.update(hachi_list)\n",
        "\n",
        "osaka_list_plus = []\n",
        "osaka_list_minus = []\n",
        "for col in cols:\n",
        "  r, p = pearsonr(pd_x[col][-len(df7['大阪難波']):], df7['大阪難波'])\n",
        "  if r >= 0.6 and p < 0.05:\n",
        "    osaka_list_plus.append((col, abs(r)))\n",
        "  if r <= -0.6 and p < 0.05:\n",
        "    osaka_list_minus.append((col, abs(r)))\n",
        "print('大阪難波')\n",
        "osaka_list = sorted((osaka_list_plus + osaka_list_minus), key=lambda x:x[1], reverse=True)[:4]\n",
        "print(osaka_list)\n",
        "all_list.update(osaka_list)\n",
        "\n",
        "zha_list_plus = []\n",
        "zha_list_minus = []\n",
        "for col in cols:\n",
        "  r, p = pearsonr(pd_x[col][-len(df8['札幌大通']):], df8['札幌大通'])\n",
        "  if r >= 0.6 and p < 0.05:\n",
        "    zha_list_plus.append((col, abs(r)))\n",
        "  if r <= -0.6 and p < 0.05:\n",
        "    zha_list_minus.append((col, abs(r)))\n",
        "print('札幌大通')\n",
        "zha_list = sorted((zha_list_plus + zha_list_minus), key=lambda x:x[1], reverse=True)[:2]\n",
        "print(zha_list)\n",
        "all_list.update(zha_list)\n",
        "\n",
        "xian_list_plus = []\n",
        "xian_list_minus = []\n",
        "for col in cols:\n",
        "  r, p = pearsonr(pd_x[col][-len(df9['仙台駅']):], df9['仙台駅'])\n",
        "  if r >= 0.6 and p < 0.05:\n",
        "    xian_list_plus.append((col, abs(r)))\n",
        "  if r <= -0.6 and p < 0.05:\n",
        "    xian_list_minus.append((col, abs(r)))\n",
        "print('仙台駅')\n",
        "xian_list = sorted((xian_list_plus + xian_list_minus), key=lambda x:x[1], reverse=True)[:4]\n",
        "print(xian_list)\n",
        "all_list.update(xian_list)\n",
        "\n",
        "fu_list_plus = []\n",
        "fu_list_minus = []\n",
        "for col in cols:\n",
        "  r, p = pearsonr(pd_x[col][-len(df10['福岡天神']):], df10['福岡天神'])\n",
        "  if r >= 0.6 and p < 0.05:\n",
        "    fu_list_plus.append((col, abs(r)))\n",
        "  if r <= -0.6 and p < 0.05:\n",
        "    fu_list_minus.append((col, abs(r)))\n",
        "print('福岡天神')\n",
        "fu_list = sorted((fu_list_plus + fu_list_minus), key=lambda x:x[1], reverse=True)[:4]\n",
        "print(fu_list)\n",
        "all_list.update(fu_list)"
      ],
      "execution_count": 7,
      "outputs": [
        {
          "output_type": "stream",
          "name": "stdout",
          "text": [
            "渋谷\n",
            "[('漫画', 0.6449774343988869), ('デリバリー', 0.614692215273665)]\n",
            "新宿\n",
            "[('デリバリー', 0.6071751326878582)]\n",
            "丸の内\n",
            "[('漫画', 0.7959580721204929), ('off', 0.7815297697856907), ('デリバリー', 0.7170211761864481), ('テイクアウト', 0.7051302139691021)]\n",
            "品川\n",
            "[('off', 0.8538262439020786), ('漫画', 0.8175033569864423), ('デリバリー', 0.6988706939771254), ('テイクアウト', 0.6776495841564594)]\n",
            "下北沢\n",
            "[('漫画', 0.6847100198900334)]\n",
            "八王子\n",
            "[('漫画', 0.744519496359541), ('デリバリー', 0.6318950724254151), ('off', 0.6060270626519079)]\n",
            "大阪難波\n",
            "[('デリバリー', 0.6561327859370172)]\n",
            "札幌大通\n",
            "[('off', 0.8772718907700721), ('漫画', 0.7170913344698691)]\n",
            "仙台駅\n",
            "[('漫画', 0.7039892814161941), ('off', 0.6937502305670351), ('テイクアウト', 0.6430642610975731), ('デリバリー', 0.6042137288990909)]\n",
            "福岡天神\n",
            "[('漫画', 0.7713491358797535), ('off', 0.7680880097850256), ('デリバリー', 0.6775329226927985), ('テイクアウト', 0.6669689407478031)]\n"
          ]
        }
      ]
    },
    {
      "cell_type": "code",
      "metadata": {
        "id": "Gf0zi-dQuIv5",
        "colab": {
          "base_uri": "https://localhost:8080/"
        },
        "outputId": "4d993a05-c10a-4718-a0b6-ac1ac10f43b2"
      },
      "source": [
        "from collections import defaultdict\n",
        "order_dict = defaultdict(list)\n",
        "import statsmodels.api as sm\n",
        "#plt.figure(figsize=[15, 7])\n",
        "#sm.tsa.seasonal_decompose(pd_x['off'][300:330]).plot()\n",
        "\n",
        "import warnings\n",
        "import itertools\n",
        "import statsmodels.api as sm\n",
        "warnings.filterwarnings(\"ignore\")"
      ],
      "execution_count": 8,
      "outputs": [
        {
          "output_type": "stream",
          "name": "stderr",
          "text": [
            "/usr/local/lib/python3.7/dist-packages/statsmodels/tools/_testing.py:19: FutureWarning: pandas.util.testing is deprecated. Use the functions in the public API at pandas.testing instead.\n",
            "  import pandas.util.testing as tm\n"
          ]
        }
      ]
    },
    {
      "cell_type": "code",
      "metadata": {
        "colab": {
          "base_uri": "https://localhost:8080/"
        },
        "id": "67wkx01xwiDW",
        "outputId": "0a4a62bc-89a4-4668-f72a-aa831f41f9c6"
      },
      "source": [
        "for cols in all_list:\n",
        "  col, r = cols\n",
        "  if col in order_dict:\n",
        "    continue\n",
        "  if col == 'off' or col == '新宿_e' or col == '大阪難波_e':\n",
        "    continue\n",
        "  \n",
        "  d=q=range(0, 2)\n",
        "  p = range(0,2)\n",
        "  pdq=list(itertools.product(p,d,q))\n",
        "  pdq_x_PDQs = [(x[0], x[1], x[2], 7) for x in list(itertools.product(p,d,q))]\n",
        "  a=[]\n",
        "  b=[]\n",
        "  c=[]\n",
        "  wf=[]\n",
        "  for param in pdq:\n",
        "    for seasonal_param in pdq_x_PDQs:\n",
        "      try:\n",
        "        mod = sm.tsa.statespace.SARIMAX(pd_x[col][305:], order=param, seasonal_order=seasonal_param,enforce_invertibility=False, enforce_stationarity=False)\n",
        "        results = mod.fit()\n",
        "        #print('ARIMA{}x{} - AIC:{}'.format(param, seasonal_param, results.aic))\n",
        "        a = param\n",
        "        b = seasonal_param\n",
        "        c = results.aic\n",
        "        wf.append((c,a,b))\n",
        "      except:\n",
        "        continue\n",
        "  order_dict[col] = sorted(wf)[:10]\n",
        "order_dict"
      ],
      "execution_count": null,
      "outputs": [
        {
          "output_type": "execute_result",
          "data": {
            "text/plain": [
              "defaultdict(list,\n",
              "            {'テイクアウト': [(4068.0968190111544, (1, 1, 1), (0, 1, 1, 7)),\n",
              "              (4069.8883721612165, (1, 1, 1), (1, 1, 1, 7)),\n",
              "              (4073.1271740682605, (0, 1, 1), (0, 1, 1, 7)),\n",
              "              (4075.0864408481093, (0, 1, 1), (1, 1, 1, 7)),\n",
              "              (4079.618783247003, (1, 0, 1), (0, 1, 1, 7)),\n",
              "              (4081.6187122431656, (1, 0, 1), (1, 1, 1, 7)),\n",
              "              (4109.622240867189, (1, 1, 0), (0, 1, 1, 7)),\n",
              "              (4110.941256301358, (1, 1, 0), (1, 1, 1, 7)),\n",
              "              (4119.443984631444, (1, 0, 0), (0, 1, 1, 7)),\n",
              "              (4121.368146480433, (1, 0, 0), (1, 1, 1, 7))],\n",
              "             'デリバリー': [(3921.616097513276, (1, 1, 1), (1, 1, 1, 7)),\n",
              "              (3921.8779535831727, (0, 1, 1), (1, 1, 1, 7)),\n",
              "              (3922.5498823546964, (1, 1, 1), (0, 1, 1, 7)),\n",
              "              (3922.613079923055, (0, 1, 1), (0, 1, 1, 7)),\n",
              "              (3925.3999781766333, (1, 0, 1), (0, 1, 1, 7)),\n",
              "              (3925.672744885463, (1, 0, 1), (1, 1, 1, 7)),\n",
              "              (3971.368746765497, (1, 0, 0), (0, 1, 1, 7)),\n",
              "              (3972.125250985715, (1, 1, 0), (1, 1, 1, 7)),\n",
              "              (3972.194757757492, (1, 1, 0), (0, 1, 1, 7)),\n",
              "              (3973.3619755313866, (1, 0, 0), (1, 1, 1, 7))],\n",
              "             '漫画': [(4393.63092087792, (1, 1, 1), (0, 1, 1, 7)),\n",
              "              (4395.142019350929, (1, 1, 1), (1, 1, 1, 7)),\n",
              "              (4401.87799415352, (0, 1, 1), (0, 1, 1, 7)),\n",
              "              (4403.269450733469, (0, 1, 1), (1, 1, 1, 7)),\n",
              "              (4408.4543540973145, (1, 0, 1), (0, 1, 1, 7)),\n",
              "              (4409.102569458828, (1, 0, 1), (1, 1, 1, 7)),\n",
              "              (4438.70119350841, (1, 0, 0), (1, 1, 1, 7)),\n",
              "              (4448.987015721485, (1, 0, 0), (0, 1, 1, 7)),\n",
              "              (4450.928634799785, (1, 1, 0), (1, 1, 1, 7)),\n",
              "              (4451.039442027649, (1, 1, 0), (0, 1, 1, 7))]})"
            ]
          },
          "metadata": {},
          "execution_count": 55
        }
      ]
    },
    {
      "cell_type": "code",
      "metadata": {
        "id": "ywfOEeRnXI7g"
      },
      "source": [
        "def generate_cv_ex(train, min_train_size, horizon, steps):\n",
        "  res = []\n",
        "  for i in range(0,len(train) - min_train_size - horizon + 1 - 4, steps):\n",
        "    split_train = train[:min_train_size + i]\n",
        "    split_val = train[min_train_size + i + 4:min_train_size+i+horizon + 4]\n",
        "    start = train.index[min_train_size + i + 4]\n",
        "    end = train.index[min_train_size+i + horizon - 1 + 4]\n",
        "    yield split_train, split_val, start, end"
      ],
      "execution_count": 9,
      "outputs": []
    },
    {
      "cell_type": "code",
      "metadata": {
        "id": "wCjY4LAoYxpn"
      },
      "source": [
        "cv_curr = generate_cv_ex(pd_x['漫画'][305:], 210,9,9)\n",
        "#for a, b, start, end in cv_curr:\n",
        "#  print(b)\n",
        "\n",
        "\n"
      ],
      "execution_count": 10,
      "outputs": []
    },
    {
      "cell_type": "code",
      "metadata": {
        "id": "XFk-1BmzZKWF"
      },
      "source": [
        "def cv_score(cv, order):\n",
        "  _, o, s = order\n",
        "  scores = []\n",
        "  for cv_train, cv_test, ex_train, ex_val, start, end in cv:\n",
        "    model = sm.tsa.statespace.SARIMAX(cv_train, exog=ex_train, order=o, seasonal_order=s)\n",
        "    fit = model.fit()\n",
        "    start = pd.to_datetime(start)\n",
        "    end = pd.to_datetime(end)\n",
        "    #print(start, end)\n",
        "    pred = fit.predict(start=start, end = end, exog = ex_val)\n",
        "    #print(pred.values, cv_test.values)\n",
        "    scores.append(100 * (abs(pred.values - cv_test.values) / cv_test.values).sum() / len(cv_test))\n",
        "    print(100 * (abs(pred.values - cv_test.values) / cv_test.values).sum() / len(cv_test))\n",
        "  return scores\n"
      ],
      "execution_count": 28,
      "outputs": []
    },
    {
      "cell_type": "code",
      "metadata": {
        "id": "YBjR6dLsZmqR"
      },
      "source": [
        "def cv_score_ex(cv, order):\n",
        "  _, o, s = order\n",
        "  scores = []\n",
        "  for cv_train, cv_test, start, end in cv:\n",
        "    try:\n",
        "      model = sm.tsa.statespace.SARIMAX(cv_train, order=o, seasonal_order=s)\n",
        "      fit = model.fit()\n",
        "      start = pd.to_datetime(start)\n",
        "      end = pd.to_datetime(end)\n",
        "      pred = fit.predict(start=start, end = end)\n",
        "      print(start, end)\n",
        "      scores.append(100 * (abs(pred.values - cv_test.values) / cv_test.values).sum() / len(cv_test))\n",
        "      #print(100 * (abs(pred.values - cv_test.values) / cv_test.values).sum() / len(cv_test))\n",
        "    except:\n",
        "      continue\n",
        "  return scores\n"
      ],
      "execution_count": 25,
      "outputs": []
    },
    {
      "cell_type": "code",
      "metadata": {
        "colab": {
          "base_uri": "https://localhost:8080/"
        },
        "id": "sQyWGrrvXaS1",
        "outputId": "b3b3e339-0bb1-4a42-9220-029f2ac277f7"
      },
      "source": [
        "best_orders = defaultdict(tuple)\n",
        "for key, values in order_dict.items():\n",
        "  if key == 'テイクアウト':\n",
        "    continue\n",
        "    \n",
        "  scores_curr = []\n",
        "  for v in values:\n",
        "    cv_curr = generate_cv_ex(pd_x[key][305:], 210,9,9)\n",
        "    new_score = cv_score_ex(cv_curr, v)\n",
        "    print(pd.DataFrame(new_score).std(), pd.DataFrame(new_score).mean())\n",
        "    scores_curr.append(sum(new_score) / len(new_score))\n",
        "\n",
        "  best_orders[key] = order_dict[key][scores_curr.index(min(scores_curr))]\n",
        "best_orders"
      ],
      "execution_count": null,
      "outputs": [
        {
          "output_type": "stream",
          "name": "stdout",
          "text": [
            "2021-06-03 00:00:00 2021-06-11 00:00:00\n",
            "2021-06-12 00:00:00 2021-06-20 00:00:00\n",
            "2021-06-21 00:00:00 2021-06-29 00:00:00\n",
            "2021-06-30 00:00:00 2021-07-08 00:00:00\n",
            "2021-07-09 00:00:00 2021-07-17 00:00:00\n",
            "2021-07-18 00:00:00 2021-07-26 00:00:00\n",
            "2021-07-27 00:00:00 2021-08-04 00:00:00\n",
            "2021-08-05 00:00:00 2021-08-13 00:00:00\n",
            "2021-08-14 00:00:00 2021-08-22 00:00:00\n",
            "2021-08-23 00:00:00 2021-08-31 00:00:00\n",
            "2021-09-01 00:00:00 2021-09-09 00:00:00\n",
            "2021-09-10 00:00:00 2021-09-18 00:00:00\n",
            "0    5.117773\n",
            "dtype: float64 0    16.703221\n",
            "dtype: float64\n",
            "2021-06-03 00:00:00 2021-06-11 00:00:00\n",
            "2021-06-12 00:00:00 2021-06-20 00:00:00\n",
            "2021-06-21 00:00:00 2021-06-29 00:00:00\n",
            "2021-06-30 00:00:00 2021-07-08 00:00:00\n",
            "2021-07-09 00:00:00 2021-07-17 00:00:00\n",
            "2021-07-18 00:00:00 2021-07-26 00:00:00\n",
            "2021-07-27 00:00:00 2021-08-04 00:00:00\n",
            "2021-08-05 00:00:00 2021-08-13 00:00:00\n",
            "2021-08-14 00:00:00 2021-08-22 00:00:00\n",
            "2021-08-23 00:00:00 2021-08-31 00:00:00\n",
            "2021-09-01 00:00:00 2021-09-09 00:00:00\n",
            "2021-09-10 00:00:00 2021-09-18 00:00:00\n",
            "0    4.796642\n",
            "dtype: float64 0    16.660153\n",
            "dtype: float64\n",
            "2021-06-03 00:00:00 2021-06-11 00:00:00\n",
            "2021-06-12 00:00:00 2021-06-20 00:00:00\n",
            "2021-06-21 00:00:00 2021-06-29 00:00:00\n",
            "2021-06-30 00:00:00 2021-07-08 00:00:00\n",
            "2021-07-09 00:00:00 2021-07-17 00:00:00\n",
            "2021-07-18 00:00:00 2021-07-26 00:00:00\n",
            "2021-07-27 00:00:00 2021-08-04 00:00:00\n",
            "2021-08-05 00:00:00 2021-08-13 00:00:00\n",
            "2021-08-14 00:00:00 2021-08-22 00:00:00\n",
            "2021-08-23 00:00:00 2021-08-31 00:00:00\n",
            "2021-09-01 00:00:00 2021-09-09 00:00:00\n",
            "2021-09-10 00:00:00 2021-09-18 00:00:00\n",
            "0    4.960159\n",
            "dtype: float64 0    16.74769\n",
            "dtype: float64\n",
            "2021-06-03 00:00:00 2021-06-11 00:00:00\n",
            "2021-06-12 00:00:00 2021-06-20 00:00:00\n",
            "2021-06-21 00:00:00 2021-06-29 00:00:00\n",
            "2021-06-30 00:00:00 2021-07-08 00:00:00\n",
            "2021-07-09 00:00:00 2021-07-17 00:00:00\n",
            "2021-07-18 00:00:00 2021-07-26 00:00:00\n",
            "2021-07-27 00:00:00 2021-08-04 00:00:00\n",
            "2021-08-05 00:00:00 2021-08-13 00:00:00\n",
            "2021-08-14 00:00:00 2021-08-22 00:00:00\n",
            "2021-08-23 00:00:00 2021-08-31 00:00:00\n",
            "2021-09-01 00:00:00 2021-09-09 00:00:00\n",
            "2021-09-10 00:00:00 2021-09-18 00:00:00\n",
            "0    4.843505\n",
            "dtype: float64 0    16.780131\n",
            "dtype: float64\n",
            "2021-06-03 00:00:00 2021-06-11 00:00:00\n",
            "2021-06-12 00:00:00 2021-06-20 00:00:00\n",
            "2021-06-21 00:00:00 2021-06-29 00:00:00\n",
            "2021-06-30 00:00:00 2021-07-08 00:00:00\n",
            "2021-07-09 00:00:00 2021-07-17 00:00:00\n",
            "2021-07-18 00:00:00 2021-07-26 00:00:00\n",
            "2021-07-27 00:00:00 2021-08-04 00:00:00\n",
            "2021-08-05 00:00:00 2021-08-13 00:00:00\n",
            "2021-08-14 00:00:00 2021-08-22 00:00:00\n",
            "2021-08-23 00:00:00 2021-08-31 00:00:00\n",
            "2021-09-01 00:00:00 2021-09-09 00:00:00\n",
            "2021-09-10 00:00:00 2021-09-18 00:00:00\n",
            "0    6.372472\n",
            "dtype: float64 0    12.741915\n",
            "dtype: float64\n",
            "2021-06-03 00:00:00 2021-06-11 00:00:00\n",
            "2021-06-12 00:00:00 2021-06-20 00:00:00\n",
            "2021-06-21 00:00:00 2021-06-29 00:00:00\n",
            "2021-06-30 00:00:00 2021-07-08 00:00:00\n",
            "2021-07-09 00:00:00 2021-07-17 00:00:00\n",
            "2021-07-18 00:00:00 2021-07-26 00:00:00\n",
            "2021-07-27 00:00:00 2021-08-04 00:00:00\n",
            "2021-08-05 00:00:00 2021-08-13 00:00:00\n",
            "2021-08-14 00:00:00 2021-08-22 00:00:00\n",
            "2021-08-23 00:00:00 2021-08-31 00:00:00\n",
            "2021-09-01 00:00:00 2021-09-09 00:00:00\n",
            "2021-09-10 00:00:00 2021-09-18 00:00:00\n",
            "0    4.743706\n",
            "dtype: float64 0    15.124933\n",
            "dtype: float64\n",
            "2021-06-03 00:00:00 2021-06-11 00:00:00\n",
            "2021-06-12 00:00:00 2021-06-20 00:00:00\n",
            "2021-06-21 00:00:00 2021-06-29 00:00:00\n",
            "2021-06-30 00:00:00 2021-07-08 00:00:00\n",
            "2021-07-09 00:00:00 2021-07-17 00:00:00\n",
            "2021-07-18 00:00:00 2021-07-26 00:00:00\n",
            "2021-07-27 00:00:00 2021-08-04 00:00:00\n",
            "2021-08-05 00:00:00 2021-08-13 00:00:00\n",
            "2021-08-14 00:00:00 2021-08-22 00:00:00\n",
            "2021-08-23 00:00:00 2021-08-31 00:00:00\n",
            "2021-09-01 00:00:00 2021-09-09 00:00:00\n",
            "2021-09-10 00:00:00 2021-09-18 00:00:00\n",
            "0    6.360887\n",
            "dtype: float64 0    14.600574\n",
            "dtype: float64\n",
            "2021-06-03 00:00:00 2021-06-11 00:00:00\n",
            "2021-06-12 00:00:00 2021-06-20 00:00:00\n",
            "2021-06-21 00:00:00 2021-06-29 00:00:00\n",
            "2021-06-30 00:00:00 2021-07-08 00:00:00\n",
            "2021-07-09 00:00:00 2021-07-17 00:00:00\n",
            "2021-07-18 00:00:00 2021-07-26 00:00:00\n",
            "2021-07-27 00:00:00 2021-08-04 00:00:00\n",
            "2021-08-05 00:00:00 2021-08-13 00:00:00\n",
            "2021-08-14 00:00:00 2021-08-22 00:00:00\n",
            "2021-08-23 00:00:00 2021-08-31 00:00:00\n",
            "2021-09-01 00:00:00 2021-09-09 00:00:00\n",
            "2021-09-10 00:00:00 2021-09-18 00:00:00\n",
            "0    8.606933\n",
            "dtype: float64 0    17.945128\n",
            "dtype: float64\n",
            "2021-06-03 00:00:00 2021-06-11 00:00:00\n",
            "2021-06-12 00:00:00 2021-06-20 00:00:00\n",
            "2021-06-21 00:00:00 2021-06-29 00:00:00\n",
            "2021-06-30 00:00:00 2021-07-08 00:00:00\n",
            "2021-07-09 00:00:00 2021-07-17 00:00:00\n",
            "2021-07-18 00:00:00 2021-07-26 00:00:00\n",
            "2021-07-27 00:00:00 2021-08-04 00:00:00\n",
            "2021-08-05 00:00:00 2021-08-13 00:00:00\n",
            "2021-08-14 00:00:00 2021-08-22 00:00:00\n",
            "2021-08-23 00:00:00 2021-08-31 00:00:00\n",
            "2021-09-01 00:00:00 2021-09-09 00:00:00\n",
            "2021-09-10 00:00:00 2021-09-18 00:00:00\n",
            "0    9.193282\n",
            "dtype: float64 0    18.30936\n",
            "dtype: float64\n",
            "2021-06-03 00:00:00 2021-06-11 00:00:00\n",
            "2021-06-12 00:00:00 2021-06-20 00:00:00\n",
            "2021-06-21 00:00:00 2021-06-29 00:00:00\n",
            "2021-06-30 00:00:00 2021-07-08 00:00:00\n",
            "2021-07-09 00:00:00 2021-07-17 00:00:00\n",
            "2021-07-18 00:00:00 2021-07-26 00:00:00\n",
            "2021-07-27 00:00:00 2021-08-04 00:00:00\n",
            "2021-08-05 00:00:00 2021-08-13 00:00:00\n",
            "2021-08-14 00:00:00 2021-08-22 00:00:00\n",
            "2021-08-23 00:00:00 2021-08-31 00:00:00\n",
            "2021-09-01 00:00:00 2021-09-09 00:00:00\n",
            "2021-09-10 00:00:00 2021-09-18 00:00:00\n",
            "0    6.402212\n",
            "dtype: float64 0    14.627917\n",
            "dtype: float64\n",
            "2021-06-03 00:00:00 2021-06-11 00:00:00\n",
            "2021-06-12 00:00:00 2021-06-20 00:00:00\n",
            "2021-06-21 00:00:00 2021-06-29 00:00:00\n",
            "2021-06-30 00:00:00 2021-07-08 00:00:00\n",
            "2021-07-09 00:00:00 2021-07-17 00:00:00\n",
            "2021-07-18 00:00:00 2021-07-26 00:00:00\n",
            "2021-07-27 00:00:00 2021-08-04 00:00:00\n",
            "2021-08-05 00:00:00 2021-08-13 00:00:00\n",
            "2021-08-14 00:00:00 2021-08-22 00:00:00\n",
            "2021-08-23 00:00:00 2021-08-31 00:00:00\n",
            "2021-09-01 00:00:00 2021-09-09 00:00:00\n",
            "2021-09-10 00:00:00 2021-09-18 00:00:00\n",
            "0    2.873831\n",
            "dtype: float64 0    6.114251\n",
            "dtype: float64\n",
            "2021-06-03 00:00:00 2021-06-11 00:00:00\n",
            "2021-06-12 00:00:00 2021-06-20 00:00:00\n",
            "2021-06-21 00:00:00 2021-06-29 00:00:00\n",
            "2021-06-30 00:00:00 2021-07-08 00:00:00\n",
            "2021-07-09 00:00:00 2021-07-17 00:00:00\n",
            "2021-07-18 00:00:00 2021-07-26 00:00:00\n",
            "2021-07-27 00:00:00 2021-08-04 00:00:00\n",
            "2021-08-05 00:00:00 2021-08-13 00:00:00\n",
            "2021-08-14 00:00:00 2021-08-22 00:00:00\n",
            "2021-08-23 00:00:00 2021-08-31 00:00:00\n",
            "2021-09-01 00:00:00 2021-09-09 00:00:00\n",
            "2021-09-10 00:00:00 2021-09-18 00:00:00\n",
            "0    2.869038\n",
            "dtype: float64 0    6.138958\n",
            "dtype: float64\n",
            "2021-06-03 00:00:00 2021-06-11 00:00:00\n",
            "2021-06-12 00:00:00 2021-06-20 00:00:00\n",
            "2021-06-21 00:00:00 2021-06-29 00:00:00\n",
            "2021-06-30 00:00:00 2021-07-08 00:00:00\n",
            "2021-07-09 00:00:00 2021-07-17 00:00:00\n",
            "2021-07-18 00:00:00 2021-07-26 00:00:00\n",
            "2021-07-27 00:00:00 2021-08-04 00:00:00\n",
            "2021-08-05 00:00:00 2021-08-13 00:00:00\n",
            "2021-08-14 00:00:00 2021-08-22 00:00:00\n",
            "2021-08-23 00:00:00 2021-08-31 00:00:00\n",
            "2021-09-01 00:00:00 2021-09-09 00:00:00\n",
            "2021-09-10 00:00:00 2021-09-18 00:00:00\n",
            "0    2.865188\n",
            "dtype: float64 0    6.160987\n",
            "dtype: float64\n",
            "2021-06-03 00:00:00 2021-06-11 00:00:00\n",
            "2021-06-12 00:00:00 2021-06-20 00:00:00\n",
            "2021-06-21 00:00:00 2021-06-29 00:00:00\n",
            "2021-06-30 00:00:00 2021-07-08 00:00:00\n",
            "2021-07-09 00:00:00 2021-07-17 00:00:00\n",
            "2021-07-18 00:00:00 2021-07-26 00:00:00\n",
            "2021-07-27 00:00:00 2021-08-04 00:00:00\n",
            "2021-08-05 00:00:00 2021-08-13 00:00:00\n",
            "2021-08-14 00:00:00 2021-08-22 00:00:00\n",
            "2021-08-23 00:00:00 2021-08-31 00:00:00\n",
            "2021-09-01 00:00:00 2021-09-09 00:00:00\n",
            "2021-09-10 00:00:00 2021-09-18 00:00:00\n",
            "0    2.828537\n",
            "dtype: float64 0    6.130441\n",
            "dtype: float64\n",
            "2021-06-03 00:00:00 2021-06-11 00:00:00\n",
            "2021-06-12 00:00:00 2021-06-20 00:00:00\n",
            "2021-06-21 00:00:00 2021-06-29 00:00:00\n",
            "2021-06-30 00:00:00 2021-07-08 00:00:00\n",
            "2021-07-09 00:00:00 2021-07-17 00:00:00\n",
            "2021-07-18 00:00:00 2021-07-26 00:00:00\n",
            "2021-07-27 00:00:00 2021-08-04 00:00:00\n",
            "2021-08-05 00:00:00 2021-08-13 00:00:00\n",
            "2021-08-14 00:00:00 2021-08-22 00:00:00\n",
            "2021-08-23 00:00:00 2021-08-31 00:00:00\n",
            "2021-09-01 00:00:00 2021-09-09 00:00:00\n",
            "2021-09-10 00:00:00 2021-09-18 00:00:00\n",
            "0    2.808667\n",
            "dtype: float64 0    5.99283\n",
            "dtype: float64\n",
            "2021-06-03 00:00:00 2021-06-11 00:00:00\n",
            "2021-06-12 00:00:00 2021-06-20 00:00:00\n",
            "2021-06-21 00:00:00 2021-06-29 00:00:00\n",
            "2021-06-30 00:00:00 2021-07-08 00:00:00\n",
            "2021-07-09 00:00:00 2021-07-17 00:00:00\n",
            "2021-07-18 00:00:00 2021-07-26 00:00:00\n",
            "2021-07-27 00:00:00 2021-08-04 00:00:00\n",
            "2021-08-05 00:00:00 2021-08-13 00:00:00\n",
            "2021-08-14 00:00:00 2021-08-22 00:00:00\n",
            "2021-08-23 00:00:00 2021-08-31 00:00:00\n",
            "2021-09-01 00:00:00 2021-09-09 00:00:00\n",
            "2021-09-10 00:00:00 2021-09-18 00:00:00\n",
            "0    2.783994\n",
            "dtype: float64 0    5.966163\n",
            "dtype: float64\n",
            "2021-06-03 00:00:00 2021-06-11 00:00:00\n",
            "2021-06-12 00:00:00 2021-06-20 00:00:00\n",
            "2021-06-21 00:00:00 2021-06-29 00:00:00\n",
            "2021-06-30 00:00:00 2021-07-08 00:00:00\n",
            "2021-07-09 00:00:00 2021-07-17 00:00:00\n",
            "2021-07-18 00:00:00 2021-07-26 00:00:00\n",
            "2021-07-27 00:00:00 2021-08-04 00:00:00\n",
            "2021-08-05 00:00:00 2021-08-13 00:00:00\n",
            "2021-08-14 00:00:00 2021-08-22 00:00:00\n",
            "2021-08-23 00:00:00 2021-08-31 00:00:00\n",
            "2021-09-01 00:00:00 2021-09-09 00:00:00\n",
            "2021-09-10 00:00:00 2021-09-18 00:00:00\n",
            "0    2.576915\n",
            "dtype: float64 0    5.679005\n",
            "dtype: float64\n",
            "2021-06-03 00:00:00 2021-06-11 00:00:00\n",
            "2021-06-12 00:00:00 2021-06-20 00:00:00\n",
            "2021-06-21 00:00:00 2021-06-29 00:00:00\n",
            "2021-06-30 00:00:00 2021-07-08 00:00:00\n",
            "2021-07-09 00:00:00 2021-07-17 00:00:00\n",
            "2021-07-18 00:00:00 2021-07-26 00:00:00\n",
            "2021-07-27 00:00:00 2021-08-04 00:00:00\n",
            "2021-08-05 00:00:00 2021-08-13 00:00:00\n",
            "2021-08-14 00:00:00 2021-08-22 00:00:00\n",
            "2021-08-23 00:00:00 2021-08-31 00:00:00\n",
            "2021-09-01 00:00:00 2021-09-09 00:00:00\n",
            "2021-09-10 00:00:00 2021-09-18 00:00:00\n",
            "0    2.479224\n",
            "dtype: float64 0    5.589581\n",
            "dtype: float64\n",
            "2021-06-03 00:00:00 2021-06-11 00:00:00\n",
            "2021-06-12 00:00:00 2021-06-20 00:00:00\n",
            "2021-06-21 00:00:00 2021-06-29 00:00:00\n",
            "2021-06-30 00:00:00 2021-07-08 00:00:00\n",
            "2021-07-09 00:00:00 2021-07-17 00:00:00\n",
            "2021-07-18 00:00:00 2021-07-26 00:00:00\n",
            "2021-07-27 00:00:00 2021-08-04 00:00:00\n",
            "2021-08-05 00:00:00 2021-08-13 00:00:00\n",
            "2021-08-14 00:00:00 2021-08-22 00:00:00\n",
            "2021-08-23 00:00:00 2021-08-31 00:00:00\n",
            "2021-09-01 00:00:00 2021-09-09 00:00:00\n",
            "2021-09-10 00:00:00 2021-09-18 00:00:00\n",
            "0    3.708032\n",
            "dtype: float64 0    7.528692\n",
            "dtype: float64\n",
            "2021-06-03 00:00:00 2021-06-11 00:00:00\n",
            "2021-06-12 00:00:00 2021-06-20 00:00:00\n",
            "2021-06-21 00:00:00 2021-06-29 00:00:00\n",
            "2021-06-30 00:00:00 2021-07-08 00:00:00\n",
            "2021-07-09 00:00:00 2021-07-17 00:00:00\n",
            "2021-07-18 00:00:00 2021-07-26 00:00:00\n",
            "2021-07-27 00:00:00 2021-08-04 00:00:00\n",
            "2021-08-05 00:00:00 2021-08-13 00:00:00\n",
            "2021-08-14 00:00:00 2021-08-22 00:00:00\n",
            "2021-08-23 00:00:00 2021-08-31 00:00:00\n",
            "2021-09-01 00:00:00 2021-09-09 00:00:00\n",
            "2021-09-10 00:00:00 2021-09-18 00:00:00\n",
            "0    3.555518\n",
            "dtype: float64 0    7.509481\n",
            "dtype: float64\n"
          ]
        },
        {
          "output_type": "execute_result",
          "data": {
            "text/plain": [
              "defaultdict(tuple,\n",
              "            {'デリバリー': (3925.3999781766333, (1, 0, 1), (0, 1, 1, 7)),\n",
              "             '漫画': (4448.987015721485, (1, 0, 0), (0, 1, 1, 7))})"
            ]
          },
          "metadata": {},
          "execution_count": 60
        }
      ]
    },
    {
      "cell_type": "code",
      "metadata": {
        "colab": {
          "base_uri": "https://localhost:8080/",
          "height": 53
        },
        "id": "3zD1xEL8TtSd",
        "outputId": "0b2ec797-4154-4e16-d786-efcc7c8e5b21"
      },
      "source": [
        "import statsmodels.api as sm\n",
        "import warnings\n",
        "import itertools\n",
        "warnings.filterwarnings(\"ignore\")\n",
        "best_out_order = {}\n",
        "best_out_order['デリバリー'] = ((2,0,0), (2,1,1,7))\n",
        "best_out_order['漫画'] = ((2,0,0), (2,1,1,7))\n",
        "\"\"\"\n",
        "model=sm.tsa.statespace.SARIMAX(pd_x['公園'][305:], order=(1,0,1), seasonal_order=(1,1,1,7))\n",
        "fit = model.fit()\n",
        "start = pd.to_datetime('2021-09-08 00:00:00')\n",
        "end = pd.to_datetime('2021-09-16 00:00:00')\n",
        "pred_park = fit.predict(start=start, end=end)\n",
        "sns.lineplot(x='日付', y='公園',data=pd_x[-100:])\n",
        "sns.lineplot(data=pred_park)\n",
        "plt.xticks(rotation=90)\n",
        "pred_park\n",
        "\"\"\""
      ],
      "execution_count": 13,
      "outputs": [
        {
          "output_type": "execute_result",
          "data": {
            "application/vnd.google.colaboratory.intrinsic+json": {
              "type": "string"
            },
            "text/plain": [
              "\"\\nmodel=sm.tsa.statespace.SARIMAX(pd_x['公園'][305:], order=(1,0,1), seasonal_order=(1,1,1,7))\\nfit = model.fit()\\nstart = pd.to_datetime('2021-09-08 00:00:00')\\nend = pd.to_datetime('2021-09-16 00:00:00')\\npred_park = fit.predict(start=start, end=end)\\nsns.lineplot(x='日付', y='公園',data=pd_x[-100:])\\nsns.lineplot(data=pred_park)\\nplt.xticks(rotation=90)\\npred_park\\n\""
            ]
          },
          "metadata": {},
          "execution_count": 13
        }
      ]
    },
    {
      "cell_type": "code",
      "metadata": {
        "colab": {
          "base_uri": "https://localhost:8080/",
          "height": 86
        },
        "id": "RkqGArCWvbDL",
        "outputId": "d67be6b0-98b7-4a37-bf89-9bfe1aaea5bc"
      },
      "source": [
        "\"\"\"\n",
        "model=sm.tsa.statespace.SARIMAX(pd_x['ランチ'][305:], order=(1,0,0), seasonal_order=(1,1,1,7))\n",
        "fit = model.fit()\n",
        "start = pd.to_datetime('2021-09-08 00:00:00')\n",
        "end = pd.to_datetime('2021-09-16 00:00:00')\n",
        "pred_lunch = fit.predict(start=start, end=end)\n",
        "sns.lineplot(x='日付', y='ランチ',data=pd_x[-100:])\n",
        "sns.lineplot(data=pred_lunch)\n",
        "plt.xticks(rotation=90)\n",
        "pred_lunch\n",
        "\"\"\""
      ],
      "execution_count": null,
      "outputs": [
        {
          "output_type": "execute_result",
          "data": {
            "application/vnd.google.colaboratory.intrinsic+json": {
              "type": "string"
            },
            "text/plain": [
              "\"\\nmodel=sm.tsa.statespace.SARIMAX(pd_x['ランチ'][305:], order=(1,0,0), seasonal_order=(1,1,1,7))\\nfit = model.fit()\\nstart = pd.to_datetime('2021-09-08 00:00:00')\\nend = pd.to_datetime('2021-09-16 00:00:00')\\npred_lunch = fit.predict(start=start, end=end)\\nsns.lineplot(x='日付', y='ランチ',data=pd_x[-100:])\\nsns.lineplot(data=pred_lunch)\\nplt.xticks(rotation=90)\\npred_lunch\\n\""
            ]
          },
          "metadata": {},
          "execution_count": 83
        }
      ]
    },
    {
      "cell_type": "code",
      "metadata": {
        "colab": {
          "base_uri": "https://localhost:8080/",
          "height": 86
        },
        "id": "t7R1HzqrvHy-",
        "outputId": "41a72b99-f302-457f-d352-12de0c28e005"
      },
      "source": [
        "\"\"\"\n",
        "model=sm.tsa.statespace.SARIMAX(pd_x['コンビニ'][305:], order=(1,0,1), seasonal_order=(1,1,1,7))\n",
        "fit = model.fit()\n",
        "start = pd.to_datetime('2021-09-08 00:00:00')\n",
        "end = pd.to_datetime('2021-09-16 00:00:00')\n",
        "pred_store = fit.predict(start=start, end=end)\n",
        "sns.lineplot(x='日付', y='コンビニ',data=pd_x[-100:])\n",
        "sns.lineplot(data=pred_store)\n",
        "plt.xticks(rotation=90)\n",
        "pred_store\n",
        "\"\"\""
      ],
      "execution_count": null,
      "outputs": [
        {
          "output_type": "execute_result",
          "data": {
            "application/vnd.google.colaboratory.intrinsic+json": {
              "type": "string"
            },
            "text/plain": [
              "\"\\nmodel=sm.tsa.statespace.SARIMAX(pd_x['コンビニ'][305:], order=(1,0,1), seasonal_order=(1,1,1,7))\\nfit = model.fit()\\nstart = pd.to_datetime('2021-09-08 00:00:00')\\nend = pd.to_datetime('2021-09-16 00:00:00')\\npred_store = fit.predict(start=start, end=end)\\nsns.lineplot(x='日付', y='コンビニ',data=pd_x[-100:])\\nsns.lineplot(data=pred_store)\\nplt.xticks(rotation=90)\\npred_store\\n\""
            ]
          },
          "metadata": {},
          "execution_count": 70
        }
      ]
    },
    {
      "cell_type": "code",
      "metadata": {
        "colab": {
          "base_uri": "https://localhost:8080/",
          "height": 86
        },
        "id": "5IaBipkFu467",
        "outputId": "c2542347-9ea9-427f-986b-d21ecce7228d"
      },
      "source": [
        "\"\"\"\n",
        "model=sm.tsa.statespace.SARIMAX(pd_x['カラオケ'][305:], order=(1,0,0), seasonal_order=(1,1,1,7))\n",
        "fit = model.fit()\n",
        "start = pd.to_datetime('2021-09-08 00:00:00')\n",
        "end = pd.to_datetime('2021-09-16 00:00:00')\n",
        "pred_sing = fit.predict(start=start, end=end)\n",
        "sns.lineplot(x='日付', y='カラオケ',data=pd_x[-100:])\n",
        "sns.lineplot(data=pred_sing)\n",
        "plt.xticks(rotation=90)\n",
        "pred_sing\n",
        "\"\"\""
      ],
      "execution_count": null,
      "outputs": [
        {
          "output_type": "execute_result",
          "data": {
            "application/vnd.google.colaboratory.intrinsic+json": {
              "type": "string"
            },
            "text/plain": [
              "\"\\nmodel=sm.tsa.statespace.SARIMAX(pd_x['カラオケ'][305:], order=(1,0,0), seasonal_order=(1,1,1,7))\\nfit = model.fit()\\nstart = pd.to_datetime('2021-09-08 00:00:00')\\nend = pd.to_datetime('2021-09-16 00:00:00')\\npred_sing = fit.predict(start=start, end=end)\\nsns.lineplot(x='日付', y='カラオケ',data=pd_x[-100:])\\nsns.lineplot(data=pred_sing)\\nplt.xticks(rotation=90)\\npred_sing\\n\""
            ]
          },
          "metadata": {},
          "execution_count": 71
        }
      ]
    },
    {
      "cell_type": "code",
      "metadata": {
        "colab": {
          "base_uri": "https://localhost:8080/",
          "height": 86
        },
        "id": "0jOezvy-uvkT",
        "outputId": "ff016056-e50a-424d-e61e-12cd3dd0a0f3"
      },
      "source": [
        "\"\"\"\n",
        "model=sm.tsa.statespace.SARIMAX(pd_x['ゲーム'][305:], order=(1,0,1), seasonal_order=(1,1,1,7))\n",
        "fit = model.fit()\n",
        "start = pd.to_datetime('2021-09-08 00:00:00')\n",
        "end = pd.to_datetime('2021-09-16 00:00:00')\n",
        "pred_game = fit.predict(start=start, end=end)\n",
        "sns.lineplot(x='日付', y='ゲーム',data=pd_x[-100:])\n",
        "sns.lineplot(data=pred_game)\n",
        "plt.xticks(rotation=90)\n",
        "pred_game\n",
        "\"\"\""
      ],
      "execution_count": null,
      "outputs": [
        {
          "output_type": "execute_result",
          "data": {
            "application/vnd.google.colaboratory.intrinsic+json": {
              "type": "string"
            },
            "text/plain": [
              "\"\\nmodel=sm.tsa.statespace.SARIMAX(pd_x['ゲーム'][305:], order=(1,0,1), seasonal_order=(1,1,1,7))\\nfit = model.fit()\\nstart = pd.to_datetime('2021-09-08 00:00:00')\\nend = pd.to_datetime('2021-09-16 00:00:00')\\npred_game = fit.predict(start=start, end=end)\\nsns.lineplot(x='日付', y='ゲーム',data=pd_x[-100:])\\nsns.lineplot(data=pred_game)\\nplt.xticks(rotation=90)\\npred_game\\n\""
            ]
          },
          "metadata": {},
          "execution_count": 72
        }
      ]
    },
    {
      "cell_type": "code",
      "metadata": {
        "colab": {
          "base_uri": "https://localhost:8080/",
          "height": 86
        },
        "id": "i8zImCvFui_4",
        "outputId": "87715e87-884d-4701-de94-526045fe1acf"
      },
      "source": [
        "\"\"\"\n",
        "model=sm.tsa.statespace.SARIMAX(pd_x['レシピ'][305:], order=(1,0,1), seasonal_order=(0,1,1,7))\n",
        "fit = model.fit()\n",
        "start = pd.to_datetime('2021-09-08 00:00:00')\n",
        "end = pd.to_datetime('2021-09-16 00:00:00')\n",
        "pred_len = fit.predict(start=start, end=end)\n",
        "sns.lineplot(x='日付', y='レシピ',data=pd_x[-100:])\n",
        "sns.lineplot(data=pred_len)\n",
        "plt.xticks(rotation=90)\n",
        "pred_len\n",
        "\"\"\""
      ],
      "execution_count": null,
      "outputs": [
        {
          "output_type": "execute_result",
          "data": {
            "application/vnd.google.colaboratory.intrinsic+json": {
              "type": "string"
            },
            "text/plain": [
              "\"\\nmodel=sm.tsa.statespace.SARIMAX(pd_x['レシピ'][305:], order=(1,0,1), seasonal_order=(0,1,1,7))\\nfit = model.fit()\\nstart = pd.to_datetime('2021-09-08 00:00:00')\\nend = pd.to_datetime('2021-09-16 00:00:00')\\npred_len = fit.predict(start=start, end=end)\\nsns.lineplot(x='日付', y='レシピ',data=pd_x[-100:])\\nsns.lineplot(data=pred_len)\\nplt.xticks(rotation=90)\\npred_len\\n\""
            ]
          },
          "metadata": {},
          "execution_count": 73
        }
      ]
    },
    {
      "cell_type": "code",
      "metadata": {
        "colab": {
          "base_uri": "https://localhost:8080/",
          "height": 86
        },
        "id": "IlDABiYwtsV3",
        "outputId": "5b4ddbb8-4c74-47d6-92cd-48c251118f22"
      },
      "source": [
        "\"\"\"\n",
        "model=sm.tsa.statespace.SARIMAX(pd_x['動画'][305:], order=(1,0,1), seasonal_order=(0,1,1,7))\n",
        "fit = model.fit()\n",
        "start = pd.to_datetime('2021-09-08 00:00:00')\n",
        "end = pd.to_datetime('2021-09-16 00:00:00')\n",
        "pred_anime = fit.predict(start=start, end=end)\n",
        "sns.lineplot(x='日付', y='動画',data=pd_x[-100:])\n",
        "sns.lineplot(data=pred_anime)\n",
        "plt.xticks(rotation=90)\n",
        "pred_anime\n",
        "\"\"\""
      ],
      "execution_count": null,
      "outputs": [
        {
          "output_type": "execute_result",
          "data": {
            "application/vnd.google.colaboratory.intrinsic+json": {
              "type": "string"
            },
            "text/plain": [
              "\"\\nmodel=sm.tsa.statespace.SARIMAX(pd_x['動画'][305:], order=(1,0,1), seasonal_order=(0,1,1,7))\\nfit = model.fit()\\nstart = pd.to_datetime('2021-09-08 00:00:00')\\nend = pd.to_datetime('2021-09-16 00:00:00')\\npred_anime = fit.predict(start=start, end=end)\\nsns.lineplot(x='日付', y='動画',data=pd_x[-100:])\\nsns.lineplot(data=pred_anime)\\nplt.xticks(rotation=90)\\npred_anime\\n\""
            ]
          },
          "metadata": {},
          "execution_count": 74
        }
      ]
    },
    {
      "cell_type": "code",
      "metadata": {
        "colab": {
          "base_uri": "https://localhost:8080/",
          "height": 574
        },
        "id": "vXh8YkQgboUC",
        "outputId": "c863d99b-6cb7-42b2-d532-6c418a7391a0"
      },
      "source": [
        "model=sm.tsa.statespace.SARIMAX(pd_x['デリバリー'][305:], order=(2,0,0), seasonal_order=(2,1,1,7))\n",
        "fit = model.fit()\n",
        "start = pd.to_datetime('2021-09-23 00:00:00')\n",
        "end = pd.to_datetime('2021-10-05 00:00:00')\n",
        "pred_deli = fit.predict(start=start, end=end)\n",
        "sns.lineplot(x='日付', y='デリバリー',data=pd_x[-100:])\n",
        "sns.lineplot(data=pred_deli)\n",
        "plt.xticks(rotation=90)\n",
        "pred_deli"
      ],
      "execution_count": 14,
      "outputs": [
        {
          "output_type": "execute_result",
          "data": {
            "text/plain": [
              "2021-09-23    441.855513\n",
              "2021-09-24    450.744598\n",
              "2021-09-25    633.421185\n",
              "2021-09-26    636.731061\n",
              "2021-09-27    393.914398\n",
              "2021-09-28    424.303441\n",
              "2021-09-29    429.857054\n",
              "2021-09-30    460.336679\n",
              "2021-10-01    473.656713\n",
              "2021-10-02    652.041535\n",
              "2021-10-03    648.798255\n",
              "2021-10-04    420.029137\n",
              "2021-10-05    427.999884\n",
              "Freq: D, dtype: float64"
            ]
          },
          "metadata": {},
          "execution_count": 14
        },
        {
          "output_type": "stream",
          "name": "stderr",
          "text": [
            "findfont: Font family ['MS Gothic'] not found. Falling back to DejaVu Sans.\n"
          ]
        },
        {
          "output_type": "display_data",
          "data": {
            "image/png": "[encoded data removed]",
            "text/plain": [
              "<Figure size 432x288 with 1 Axes>"
            ]
          },
          "metadata": {
            "needs_background": "light"
          }
        }
      ]
    },
    {
      "cell_type": "code",
      "metadata": {
        "colab": {
          "base_uri": "https://localhost:8080/",
          "height": 86
        },
        "id": "2CSP8ojPV48A",
        "outputId": "19a9f46e-a4fb-4f74-e959-8c3715172eba"
      },
      "source": [
        "\"\"\"\n",
        "model=sm.tsa.statespace.SARIMAX(pd_x['テイクアウト'][305:], order=(0,1,1), seasonal_order=(0,1,1,7))\n",
        "fit = model.fit()\n",
        "start = pd.to_datetime('2021-09-08 00:00:00')\n",
        "end = pd.to_datetime('2021-09-16 00:00:00')\n",
        "pred_take = fit.predict(start=start, end=end)\n",
        "sns.lineplot(x='日付', y='テイクアウト',data=pd_x[-100:])\n",
        "sns.lineplot(data=pred_take)\n",
        "plt.xticks(rotation=90)\n",
        "pred_take\n",
        "\"\"\""
      ],
      "execution_count": null,
      "outputs": [
        {
          "output_type": "execute_result",
          "data": {
            "application/vnd.google.colaboratory.intrinsic+json": {
              "type": "string"
            },
            "text/plain": [
              "\"\\nmodel=sm.tsa.statespace.SARIMAX(pd_x['テイクアウト'][305:], order=(0,1,1), seasonal_order=(0,1,1,7))\\nfit = model.fit()\\nstart = pd.to_datetime('2021-09-08 00:00:00')\\nend = pd.to_datetime('2021-09-16 00:00:00')\\npred_take = fit.predict(start=start, end=end)\\nsns.lineplot(x='日付', y='テイクアウト',data=pd_x[-100:])\\nsns.lineplot(data=pred_take)\\nplt.xticks(rotation=90)\\npred_take\\n\""
            ]
          },
          "metadata": {},
          "execution_count": 85
        }
      ]
    },
    {
      "cell_type": "code",
      "metadata": {
        "colab": {
          "base_uri": "https://localhost:8080/",
          "height": 574
        },
        "id": "TRlC-hrXa3Xq",
        "outputId": "6debc3ab-2293-4d19-90d4-8948c8efd679"
      },
      "source": [
        "model=sm.tsa.statespace.SARIMAX(pd_x['漫画'][305:], order=(2,0,0), seasonal_order=(2,1,1,7))\n",
        "fit = model.fit()\n",
        "start = pd.to_datetime('2021-09-23 00:00:00')\n",
        "end = pd.to_datetime('2021-10-05 00:00:00')\n",
        "pred_comic = fit.predict(start=start, end=end)\n",
        "sns.lineplot(x='日付', y='漫画',data=pd_x[-100:])\n",
        "sns.lineplot(data=pred_comic)\n",
        "plt.xticks(rotation=90)\n",
        "pred_comic"
      ],
      "execution_count": 15,
      "outputs": [
        {
          "output_type": "execute_result",
          "data": {
            "text/plain": [
              "2021-09-23    4170.348298\n",
              "2021-09-24    4205.517642\n",
              "2021-09-25    4910.569576\n",
              "2021-09-26    4848.201867\n",
              "2021-09-27    4219.244648\n",
              "2021-09-28    4091.220697\n",
              "2021-09-29    4096.047758\n",
              "2021-09-30    4145.322291\n",
              "2021-10-01    4231.620766\n",
              "2021-10-02    4899.893344\n",
              "2021-10-03    4852.524501\n",
              "2021-10-04    4255.255303\n",
              "2021-10-05    4107.752670\n",
              "Freq: D, dtype: float64"
            ]
          },
          "metadata": {},
          "execution_count": 15
        },
        {
          "output_type": "display_data",
          "data": {
            "image/png": "[encoded data removed]",
            "text/plain": [
              "<Figure size 432x288 with 1 Axes>"
            ]
          },
          "metadata": {
            "needs_background": "light"
          }
        }
      ]
    },
    {
      "cell_type": "code",
      "metadata": {
        "id": "TTU_zK_xc5bw"
      },
      "source": [
        "\"\"\"\n",
        "defaultdict(<class 'tuple'>, {'コンビニ':           pdq    pdq_x_PDQs          aic\n",
        "defaultdict(<class 'tuple'>, {'デリバリー':           pdq    pdq_x_PDQs          aic\n",
        "63  (1, 1, 1)  (1, 1, 1, 7)  3736.478868, 'テイクアウト':           pdq    pdq_x_PDQs          aic\n",
        "59  (1, 1, 1)  (0, 1, 1, 7)  3880.665245, 'off':           pdq    pdq_x_PDQs         aic\n",
        "39  (1, 0, 0)  (1, 1, 1, 7) -138.925319, '漫画':           pdq    pdq_x_PDQs          aic\n",
        "59  (1, 1, 1)  (0, 1, 1, 7)  4181.985145, '大阪難波_e':           pdq    pdq_x_PDQs         aic\n",
        "48  (1, 1, 0)  (0, 0, 0, 7)  111.911853, '公園':           pdq    pdq_x_PDQs          aic\n",
        "63  (1, 1, 1)  (1, 1, 1, 7)  3680.194906, ''新宿_e:           pdq    pdq_x_PDQs         aic\n",
        "48  (1, 1, 0)  (0, 0, 0, 7)  111.911853})\n",
        "\"\"\"\n",
        "pred = pd.DataFrame()\n",
        "def syntex(pred):\n",
        "\n",
        "  pred['日付'] = pd.date_range(start='09/23/2021', periods=13, freq='D')\n",
        "  #pred['ランチ'] = pred_lunch.values\n",
        "  pred['漫画'] = pred_comic.values\n",
        "  pred['デリバリー'] = pred_deli.values\n",
        "  #pred['カラオケ'] = pred_sing.values\n",
        "  #pred['ゲーム'] = pred_game.values\n",
        "  #pred['レシピ'] = pred_len.values\n",
        "  #pred['コンビニ'] = pred_store.values\n",
        "  #pred['公園'] = pred_park.values\n",
        "  #pred['テイクアウト'] = pred_take.values\n",
        "  pred['off'] = [0,0,1,1,0,0,0,0,0,1,1,0,0]\n",
        "  #pred['大阪難波_e'] = [2,2,2,2,2,2,2,2,2]\n",
        "  #pred['新宿_e']=[2,2,2,2,2,2,2,2,2]\n",
        "  #pred['動画'] = pred_anime.values\n",
        "  pred = pred.set_index('日付')\n"
      ],
      "execution_count": 18,
      "outputs": []
    },
    {
      "cell_type": "code",
      "metadata": {
        "colab": {
          "base_uri": "https://localhost:8080/",
          "height": 234
        },
        "id": "qjnzjk_XjW-C",
        "outputId": "946dffb8-25d0-4c9d-9f79-844db6c12c7b"
      },
      "source": [
        "exog_list = set()\n",
        "exog_df = pd.DataFrame()\n",
        "exog_df['日付'] = pd.date_range(start='01/01/2020', periods=631, freq='D')\n",
        "for cols in all_list:\n",
        "  col, r = cols\n",
        "  if col in exog_list:\n",
        "    continue\n",
        "  exog_list.add(col)\n",
        "  exog_df[col] = pd_x[col].values\n",
        "\n",
        "exog_df = exog_df.set_index('日付')\n",
        "\n",
        "exog_df.tail()\n"
      ],
      "execution_count": 16,
      "outputs": [
        {
          "output_type": "execute_result",
          "data": {
            "text/html": [
              "<div>\n",
              "<style scoped>\n",
              "    .dataframe tbody tr th:only-of-type {\n",
              "        vertical-align: middle;\n",
              "    }\n",
              "\n",
              "    .dataframe tbody tr th {\n",
              "        vertical-align: top;\n",
              "    }\n",
              "\n",
              "    .dataframe thead th {\n",
              "        text-align: right;\n",
              "    }\n",
              "</style>\n",
              "<table border=\"1\" class=\"dataframe\">\n",
              "  <thead>\n",
              "    <tr style=\"text-align: right;\">\n",
              "      <th></th>\n",
              "      <th>漫画</th>\n",
              "      <th>off</th>\n",
              "      <th>デリバリー</th>\n",
              "      <th>テイクアウト</th>\n",
              "    </tr>\n",
              "    <tr>\n",
              "      <th>日付</th>\n",
              "      <th></th>\n",
              "      <th></th>\n",
              "      <th></th>\n",
              "      <th></th>\n",
              "    </tr>\n",
              "  </thead>\n",
              "  <tbody>\n",
              "    <tr>\n",
              "      <th>2021-09-18</th>\n",
              "      <td>5300</td>\n",
              "      <td>1</td>\n",
              "      <td>680</td>\n",
              "      <td>940</td>\n",
              "    </tr>\n",
              "    <tr>\n",
              "      <th>2021-09-19</th>\n",
              "      <td>5000</td>\n",
              "      <td>1</td>\n",
              "      <td>560</td>\n",
              "      <td>950</td>\n",
              "    </tr>\n",
              "    <tr>\n",
              "      <th>2021-09-20</th>\n",
              "      <td>4800</td>\n",
              "      <td>1</td>\n",
              "      <td>700</td>\n",
              "      <td>720</td>\n",
              "    </tr>\n",
              "    <tr>\n",
              "      <th>2021-09-21</th>\n",
              "      <td>4200</td>\n",
              "      <td>0</td>\n",
              "      <td>390</td>\n",
              "      <td>380</td>\n",
              "    </tr>\n",
              "    <tr>\n",
              "      <th>2021-09-22</th>\n",
              "      <td>4100</td>\n",
              "      <td>0</td>\n",
              "      <td>390</td>\n",
              "      <td>400</td>\n",
              "    </tr>\n",
              "  </tbody>\n",
              "</table>\n",
              "</div>"
            ],
            "text/plain": [
              "              漫画  off  デリバリー  テイクアウト\n",
              "日付                                  \n",
              "2021-09-18  5300    1    680     940\n",
              "2021-09-19  5000    1    560     950\n",
              "2021-09-20  4800    1    700     720\n",
              "2021-09-21  4200    0    390     380\n",
              "2021-09-22  4100    0    390     400"
            ]
          },
          "metadata": {},
          "execution_count": 16
        }
      ]
    },
    {
      "cell_type": "code",
      "metadata": {
        "colab": {
          "base_uri": "https://localhost:8080/",
          "height": 480
        },
        "id": "39GulNuHmBdc",
        "outputId": "8299917e-ab24-4650-d76e-fa20d405c749"
      },
      "source": [
        "pred = pd.DataFrame()\n",
        "syntex(pred)\n",
        "exog_shibuya = pd.DataFrame()\n",
        "exog_shibuya['日付'] = pd.date_range(start='01/01/2020', periods=631, freq='D')\n",
        "pred_exog_shibuya = pd.DataFrame()\n",
        "pred_exog_shibuya['日付'] = pd.date_range(start='09/23/2020', periods=13, freq='D')\n",
        "for cols in shibuya_list:\n",
        "  col, r = cols\n",
        "  if col not in pred.columns:\n",
        "    continue\n",
        "  exog_shibuya[col] = pd_x[col].values\n",
        "  pred_exog_shibuya[col] = pred[col].values\n",
        "exog_shibuya = exog_shibuya.set_index('日付')\n",
        "pred_exog_shibuya = pred_exog_shibuya.set_index('日付')\n",
        "\n",
        "pred_exog_shibuya.tail(13)"
      ],
      "execution_count": 19,
      "outputs": [
        {
          "output_type": "execute_result",
          "data": {
            "text/html": [
              "<div>\n",
              "<style scoped>\n",
              "    .dataframe tbody tr th:only-of-type {\n",
              "        vertical-align: middle;\n",
              "    }\n",
              "\n",
              "    .dataframe tbody tr th {\n",
              "        vertical-align: top;\n",
              "    }\n",
              "\n",
              "    .dataframe thead th {\n",
              "        text-align: right;\n",
              "    }\n",
              "</style>\n",
              "<table border=\"1\" class=\"dataframe\">\n",
              "  <thead>\n",
              "    <tr style=\"text-align: right;\">\n",
              "      <th></th>\n",
              "      <th>漫画</th>\n",
              "      <th>デリバリー</th>\n",
              "    </tr>\n",
              "    <tr>\n",
              "      <th>日付</th>\n",
              "      <th></th>\n",
              "      <th></th>\n",
              "    </tr>\n",
              "  </thead>\n",
              "  <tbody>\n",
              "    <tr>\n",
              "      <th>2020-09-23</th>\n",
              "      <td>4170.348298</td>\n",
              "      <td>441.855513</td>\n",
              "    </tr>\n",
              "    <tr>\n",
              "      <th>2020-09-24</th>\n",
              "      <td>4205.517642</td>\n",
              "      <td>450.744598</td>\n",
              "    </tr>\n",
              "    <tr>\n",
              "      <th>2020-09-25</th>\n",
              "      <td>4910.569576</td>\n",
              "      <td>633.421185</td>\n",
              "    </tr>\n",
              "    <tr>\n",
              "      <th>2020-09-26</th>\n",
              "      <td>4848.201867</td>\n",
              "      <td>636.731061</td>\n",
              "    </tr>\n",
              "    <tr>\n",
              "      <th>2020-09-27</th>\n",
              "      <td>4219.244648</td>\n",
              "      <td>393.914398</td>\n",
              "    </tr>\n",
              "    <tr>\n",
              "      <th>2020-09-28</th>\n",
              "      <td>4091.220697</td>\n",
              "      <td>424.303441</td>\n",
              "    </tr>\n",
              "    <tr>\n",
              "      <th>2020-09-29</th>\n",
              "      <td>4096.047758</td>\n",
              "      <td>429.857054</td>\n",
              "    </tr>\n",
              "    <tr>\n",
              "      <th>2020-09-30</th>\n",
              "      <td>4145.322291</td>\n",
              "      <td>460.336679</td>\n",
              "    </tr>\n",
              "    <tr>\n",
              "      <th>2020-10-01</th>\n",
              "      <td>4231.620766</td>\n",
              "      <td>473.656713</td>\n",
              "    </tr>\n",
              "    <tr>\n",
              "      <th>2020-10-02</th>\n",
              "      <td>4899.893344</td>\n",
              "      <td>652.041535</td>\n",
              "    </tr>\n",
              "    <tr>\n",
              "      <th>2020-10-03</th>\n",
              "      <td>4852.524501</td>\n",
              "      <td>648.798255</td>\n",
              "    </tr>\n",
              "    <tr>\n",
              "      <th>2020-10-04</th>\n",
              "      <td>4255.255303</td>\n",
              "      <td>420.029137</td>\n",
              "    </tr>\n",
              "    <tr>\n",
              "      <th>2020-10-05</th>\n",
              "      <td>4107.752670</td>\n",
              "      <td>427.999884</td>\n",
              "    </tr>\n",
              "  </tbody>\n",
              "</table>\n",
              "</div>"
            ],
            "text/plain": [
              "                     漫画       デリバリー\n",
              "日付                                 \n",
              "2020-09-23  4170.348298  441.855513\n",
              "2020-09-24  4205.517642  450.744598\n",
              "2020-09-25  4910.569576  633.421185\n",
              "2020-09-26  4848.201867  636.731061\n",
              "2020-09-27  4219.244648  393.914398\n",
              "2020-09-28  4091.220697  424.303441\n",
              "2020-09-29  4096.047758  429.857054\n",
              "2020-09-30  4145.322291  460.336679\n",
              "2020-10-01  4231.620766  473.656713\n",
              "2020-10-02  4899.893344  652.041535\n",
              "2020-10-03  4852.524501  648.798255\n",
              "2020-10-04  4255.255303  420.029137\n",
              "2020-10-05  4107.752670  427.999884"
            ]
          },
          "metadata": {},
          "execution_count": 19
        }
      ]
    },
    {
      "cell_type": "code",
      "metadata": {
        "colab": {
          "base_uri": "https://localhost:8080/"
        },
        "id": "I9mAitO6jGfy",
        "outputId": "5cc20707-8868-4659-aa83-53a754981c96"
      },
      "source": [
        "d=q=range(0, 2)\n",
        "p = range(0,3)\n",
        "pdq=list(itertools.product(p,d,q))\n",
        "pdq_x_PDQs = [(x[0], x[1], x[2], 7) for x in list(itertools.product(p,d,q))]\n",
        "a=[]\n",
        "b=[]\n",
        "c=[]\n",
        "wf=[]\n",
        "for param in pdq:\n",
        "  for seasonal_param in pdq_x_PDQs:\n",
        "    try:\n",
        "      mod = sm.tsa.statespace.SARIMAX(df1['渋谷'],exog=exog_shibuya[305:], order=param, seasonal_order=seasonal_param,enforce_invertibility=False, enforce_stationarity=False)\n",
        "      results = mod.fit()\n",
        "      #print('ARIMA{}x{} - AIC:{}'.format(param, seasonal_param, results.aic))\n",
        "      a = param\n",
        "      b = seasonal_param\n",
        "      c = results.aic\n",
        "      wf.append((c,a,b))\n",
        "    except:\n",
        "      continue\n",
        "\n",
        "shibuya_pdq_list = sorted(wf, key=lambda x:x[0])[:10]\n",
        "shibuya_pdq_list"
      ],
      "execution_count": 26,
      "outputs": [
        {
          "output_type": "execute_result",
          "data": {
            "text/plain": [
              "[(6111.802679512442, (2, 1, 1), (2, 1, 1, 7)),\n",
              " (6115.484847208176, (2, 0, 0), (2, 1, 1, 7)),\n",
              " (6117.414273203363, (2, 0, 0), (2, 1, 0, 7)),\n",
              " (6117.726478762654, (2, 0, 1), (2, 1, 0, 7)),\n",
              " (6118.205096216446, (2, 0, 1), (2, 1, 1, 7)),\n",
              " (6123.328324077625, (2, 1, 1), (2, 1, 0, 7)),\n",
              " (6125.620875896377, (2, 1, 0), (2, 1, 1, 7)),\n",
              " (6130.289115933507, (1, 1, 1), (2, 1, 1, 7)),\n",
              " (6131.841235997303, (1, 0, 1), (2, 1, 1, 7)),\n",
              " (6132.726631392356, (2, 1, 0), (2, 1, 0, 7))]"
            ]
          },
          "metadata": {},
          "execution_count": 26
        }
      ]
    },
    {
      "cell_type": "code",
      "metadata": {
        "id": "1p5PfiIniOTJ"
      },
      "source": [
        "def generate_cv(train, min_train_size, horizon, steps, ex):\n",
        "  for i in range(0,len(train) - min_train_size - horizon + 1 - 4, steps):\n",
        "    split_train = train[:min_train_size + i]\n",
        "    ex_train = ex[:min_train_size + i]\n",
        "    split_val = train[min_train_size + i + 4:min_train_size+i+horizon + 4]\n",
        "    #ex_val = ex[min_train_size + i + 4:min_train_size+i+horizon + 4]\n",
        "    start = train.index[min_train_size + i + 4]\n",
        "    end = train.index[min_train_size+i+horizon - 1 + 4]\n",
        "    ex_val = pd.DataFrame()\n",
        "    ex_val['日付'] = pd.date_range(start=train.index[min_train_size + i], periods=13, freq='D')\n",
        "    for col in ex.columns:\n",
        "      if col == 'off':\n",
        "        continue\n",
        "      o,s = best_out_order[col]\n",
        "      model=sm.tsa.statespace.SARIMAX(pd_x[col][305:305 + min_train_size + i], order=o, seasonal_order=s)\n",
        "      fit = model.fit()\n",
        "      start = pd.to_datetime(train.index[min_train_size + i])\n",
        "      end = pd.to_datetime(end)\n",
        "      pred = fit.predict(start=start, end=end)\n",
        "      ex_val[col] = pred.values\n",
        "    if 'off' in ex.columns:\n",
        "      ex_val['off'] = ex['off'][min_train_size + i:min_train_size+i+horizon + 4].values\n",
        "    ex_val = ex_val.set_index('日付')\n",
        "    start = train.index[min_train_size + i + 4]\n",
        "    yield split_train, split_val, ex_train, ex_val, start, end"
      ],
      "execution_count": 20,
      "outputs": []
    },
    {
      "cell_type": "code",
      "metadata": {
        "id": "K_zHds-xkPUh"
      },
      "source": [
        "cv_shibuya = generate_cv(df1['渋谷'], 210, 9,9, exog_shibuya[305:])\n",
        "#for cv_train, cv_test, ex_train, ex_val, start, end in cv_shibuya:\n",
        "#  print(start)\n",
        "#  print(end)"
      ],
      "execution_count": 22,
      "outputs": []
    },
    {
      "cell_type": "code",
      "metadata": {
        "colab": {
          "base_uri": "https://localhost:8080/"
        },
        "id": "ZONvHDm2puAN",
        "outputId": "dab97051-ce4f-457d-f4a1-7485ee8b50e1"
      },
      "source": [
        "scores_shibuya = []\n",
        "for pdq in shibuya_pdq_list:\n",
        "  cv_shibuya = generate_cv(df1['渋谷'], 207, 9,9, exog_shibuya[305:])\n",
        "  new_score = cv_score(cv_shibuya, pdq)\n",
        "  scores_shibuya.append(sum(new_score) / len(new_score))\n",
        "  print(scores_shibuya)"
      ],
      "execution_count": null,
      "outputs": [
        {
          "output_type": "stream",
          "name": "stdout",
          "text": [
            "7.139731754160642\n",
            "5.735555549382697\n",
            "5.750432443371917\n",
            "16.000957979135634\n",
            "13.246844863785741\n",
            "7.825408706557452\n",
            "13.056157622503196\n",
            "18.56956099657621\n",
            "28.41374542456409\n",
            "20.512474357709955\n",
            "17.607814390429464\n",
            "15.622249577256431\n",
            "[14.12341113878612]\n",
            "4.286446161885383\n",
            "6.976761882862873\n",
            "8.788283869360896\n",
            "11.154462976767247\n",
            "5.619219533759283\n",
            "9.551599555281019\n",
            "7.571099847037877\n",
            "15.957982114582986\n",
            "25.92424635066931\n",
            "3.120461297507921\n",
            "12.18586700006092\n",
            "2.5869541564558407\n",
            "[14.12341113878612, 9.47694872885263]\n",
            "5.130522107115684\n",
            "7.385594855806971\n",
            "7.177970223687502\n",
            "12.554309330135549\n",
            "6.875580304634565\n",
            "9.978314502741874\n",
            "11.052099455063807\n",
            "18.31187982078136\n",
            "26.551215110768243\n",
            "8.174892670037485\n",
            "8.932252565018379\n",
            "3.8370263269165585\n",
            "[14.12341113878612, 9.47694872885263, 10.496804772725664]\n",
            "5.286227743515736\n",
            "7.40234024035234\n",
            "7.315026482526416\n",
            "12.51431152907887\n",
            "7.5177611697153\n",
            "9.883077557900926\n",
            "11.537347685697513\n",
            "17.565062085797855\n",
            "25.61970630014298\n",
            "9.854743966288131\n",
            "9.249728211815734\n",
            "3.8220604658179673\n",
            "[14.12341113878612, 9.47694872885263, 10.496804772725664, 10.63061611988748]\n",
            "5.955524356252928\n",
            "7.838869965990524\n",
            "5.675870924891044\n",
            "12.232998043834666\n",
            "6.898958640367872\n",
            "8.989380502548583\n",
            "9.636579678920912\n",
            "16.978201104820112\n",
            "25.785515227388178\n",
            "9.25874183174063\n",
            "8.102545414335765\n",
            "4.334075139446089\n",
            "[14.12341113878612, 9.47694872885263, 10.496804772725664, 10.63061611988748, 10.140605069211441]\n",
            "4.1334566362834915\n",
            "5.10823097049908\n",
            "5.7709843270497645\n",
            "19.61536489483827\n",
            "11.623116303787082\n",
            "9.491787902817602\n",
            "13.344213546561676\n",
            "18.644924878480175\n",
            "28.24927797183887\n",
            "11.429243332576547\n",
            "11.211550924245838\n",
            "14.128743244911508\n",
            "[14.12341113878612, 9.47694872885263, 10.496804772725664, 10.63061611988748, 10.140605069211441, 12.729241244490824]\n",
            "6.8787633087885744\n",
            "5.728787998524421\n",
            "5.592690021425421\n",
            "16.065264811371314\n",
            "14.848559029462649\n",
            "7.818670644156252\n"
          ]
        }
      ]
    },
    {
      "cell_type": "code",
      "metadata": {
        "colab": {
          "base_uri": "https://localhost:8080/",
          "height": 500
        },
        "id": "wUeTujk_7JHj",
        "outputId": "4066ac5f-641d-494e-e214-a030f6158e64"
      },
      "source": [
        "\n",
        "result = []\n",
        "model=sm.tsa.statespace.SARIMAX(df1['渋谷'],exog=exog_shibuya[305:], order=(1,0,1), seasonal_order=(1,1,1,7))\n",
        "fit = model.fit()\n",
        "start = pd.to_datetime('2021-09-27 00:00:00')\n",
        "end = pd.to_datetime('2021-10-05 00:00:00')\n",
        "pred = fit.predict(start=start, end=end, exog=pred_exog_shibuya)\n",
        "result.append(pred)\n",
        "sns.lineplot(x='日付', y='渋谷',data=df1[-50:])\n",
        "sns.lineplot(data=pred)\n",
        "plt.xticks(rotation=90)\n",
        "pred"
      ],
      "execution_count": null,
      "outputs": [
        {
          "output_type": "execute_result",
          "data": {
            "text/plain": [
              "2021-09-27    62155.731031\n",
              "2021-09-28    63095.175981\n",
              "2021-09-29    65021.982225\n",
              "2021-09-30    64171.442375\n",
              "2021-10-01    68374.974690\n",
              "2021-10-02    59400.436350\n",
              "2021-10-03    52925.906980\n",
              "2021-10-04    61728.257993\n",
              "2021-10-05    63225.071944\n",
              "Freq: D, dtype: float64"
            ]
          },
          "metadata": {},
          "execution_count": 20
        },
        {
          "output_type": "display_data",
          "data": {
            "image/png": "[encoded data removed]",
            "text/plain": [
              "<Figure size 432x288 with 1 Axes>"
            ]
          },
          "metadata": {
            "needs_background": "light"
          }
        }
      ]
    },
    {
      "cell_type": "markdown",
      "metadata": {
        "id": "1Uutsuod-64i"
      },
      "source": [
        "1. To extract other factors for each area\n",
        "\n",
        "  exog_area = other factors for training\n",
        "  pred_exog_area = other factors for prediction"
      ]
    },
    {
      "cell_type": "code",
      "metadata": {
        "colab": {
          "base_uri": "https://localhost:8080/",
          "height": 297
        },
        "id": "TiHOeUen-2FN",
        "outputId": "a54726c4-7956-4859-c250-e70d9f79d367"
      },
      "source": [
        "pred = pd.DataFrame()\n",
        "syntex(pred)\n",
        "exog_shinjuku = pd.DataFrame()\n",
        "exog_shinjuku['日付'] = pd.date_range(start='01/01/2020', periods=631, freq='D')\n",
        "pred_exog_shinjuku = pd.DataFrame()\n",
        "pred_exog_shinjuku['日付'] = pd.date_range(start='09/23/2020', periods=13, freq='D')\n",
        "for cols in shinjuku_list:\n",
        "  col, r = cols\n",
        "  if col not in pred.columns:\n",
        "    continue\n",
        "  exog_shinjuku[col] = pd_x[col].values\n",
        "  pred_exog_shinjuku[col] = pred[col].values\n",
        "exog_shinjuku = exog_shinjuku.set_index('日付')\n",
        "pred_exog_shinjuku = pred_exog_shinjuku.set_index('日付')\n",
        "pred_exog_shinjuku.tail(7)"
      ],
      "execution_count": null,
      "outputs": [
        {
          "output_type": "execute_result",
          "data": {
            "text/html": [
              "<div>\n",
              "<style scoped>\n",
              "    .dataframe tbody tr th:only-of-type {\n",
              "        vertical-align: middle;\n",
              "    }\n",
              "\n",
              "    .dataframe tbody tr th {\n",
              "        vertical-align: top;\n",
              "    }\n",
              "\n",
              "    .dataframe thead th {\n",
              "        text-align: right;\n",
              "    }\n",
              "</style>\n",
              "<table border=\"1\" class=\"dataframe\">\n",
              "  <thead>\n",
              "    <tr style=\"text-align: right;\">\n",
              "      <th></th>\n",
              "      <th>デリバリー</th>\n",
              "    </tr>\n",
              "    <tr>\n",
              "      <th>日付</th>\n",
              "      <th></th>\n",
              "    </tr>\n",
              "  </thead>\n",
              "  <tbody>\n",
              "    <tr>\n",
              "      <th>2020-09-29</th>\n",
              "      <td>429.857054</td>\n",
              "    </tr>\n",
              "    <tr>\n",
              "      <th>2020-09-30</th>\n",
              "      <td>460.336679</td>\n",
              "    </tr>\n",
              "    <tr>\n",
              "      <th>2020-10-01</th>\n",
              "      <td>473.656713</td>\n",
              "    </tr>\n",
              "    <tr>\n",
              "      <th>2020-10-02</th>\n",
              "      <td>652.041535</td>\n",
              "    </tr>\n",
              "    <tr>\n",
              "      <th>2020-10-03</th>\n",
              "      <td>648.798255</td>\n",
              "    </tr>\n",
              "    <tr>\n",
              "      <th>2020-10-04</th>\n",
              "      <td>420.029137</td>\n",
              "    </tr>\n",
              "    <tr>\n",
              "      <th>2020-10-05</th>\n",
              "      <td>427.999884</td>\n",
              "    </tr>\n",
              "  </tbody>\n",
              "</table>\n",
              "</div>"
            ],
            "text/plain": [
              "                 デリバリー\n",
              "日付                    \n",
              "2020-09-29  429.857054\n",
              "2020-09-30  460.336679\n",
              "2020-10-01  473.656713\n",
              "2020-10-02  652.041535\n",
              "2020-10-03  648.798255\n",
              "2020-10-04  420.029137\n",
              "2020-10-05  427.999884"
            ]
          },
          "metadata": {},
          "execution_count": 21
        }
      ]
    },
    {
      "cell_type": "markdown",
      "metadata": {
        "id": "yEyVJtkf_35l"
      },
      "source": [
        "2. Find best Order and Seasonal Order\n",
        "\n",
        "  a. Change endog variable\n",
        "  \n",
        "  b. Change exog variable\n"
      ]
    },
    {
      "cell_type": "code",
      "metadata": {
        "colab": {
          "base_uri": "https://localhost:8080/"
        },
        "id": "pwrhcwPl_x-B",
        "outputId": "820e6c39-c7c1-4cc4-d378-03a69a662a0f"
      },
      "source": [
        "d=q=range(0, 2)\n",
        "p = range(0,3)\n",
        "pdq=list(itertools.product(p,d,q))\n",
        "pdq_x_PDQs = [(x[0], x[1], x[2], 7) for x in list(itertools.product(p,d,q))]\n",
        "a=[]\n",
        "b=[]\n",
        "c=[]\n",
        "wf=[]\n",
        "for param in pdq:\n",
        "  for seasonal_param in pdq_x_PDQs:\n",
        "    try:\n",
        "      mod = sm.tsa.statespace.SARIMAX(df2['新宿'],exog=exog_shinjuku[305:],order=param, seasonal_order=seasonal_param,enforce_invertibility=False, enforce_stationarity=False)\n",
        "      results = mod.fit()\n",
        "      #print('ARIMA{}x{} - AIC:{}'.format(param, seasonal_param, results.aic))\n",
        "      a = param\n",
        "      b = seasonal_param\n",
        "      c = results.aic\n",
        "      wf.append((c,a,b))\n",
        "    except:\n",
        "      continue\n",
        "\n",
        "shinjuku_pdq_list = sorted(wf, key=lambda x:x[0])[:10]\n",
        "shinjuku_pdq_list"
      ],
      "execution_count": null,
      "outputs": [
        {
          "output_type": "execute_result",
          "data": {
            "text/plain": [
              "[(5906.921868546506, (2, 1, 0), (2, 1, 1, 7)),\n",
              " (5922.2823501294715, (2, 1, 0), (2, 1, 0, 7)),\n",
              " (5929.091946382887, (1, 1, 1), (2, 1, 1, 7)),\n",
              " (5938.008088033352, (2, 1, 1), (2, 1, 1, 7)),\n",
              " (5939.5556304620595, (2, 0, 1), (2, 1, 1, 7)),\n",
              " (5940.579585150423, (2, 0, 0), (2, 1, 1, 7)),\n",
              " (5941.036444506132, (2, 0, 1), (2, 1, 0, 7)),\n",
              " (5941.662207943474, (1, 0, 0), (2, 1, 0, 7)),\n",
              " (5942.956602191272, (2, 0, 0), (2, 1, 0, 7)),\n",
              " (5944.438659447821, (2, 1, 1), (2, 1, 0, 7))]"
            ]
          },
          "metadata": {},
          "execution_count": 82
        }
      ]
    },
    {
      "cell_type": "markdown",
      "metadata": {
        "id": "4Qhgib5J8pYP"
      },
      "source": [
        ""
      ]
    },
    {
      "cell_type": "code",
      "metadata": {
        "colab": {
          "base_uri": "https://localhost:8080/"
        },
        "id": "8TCKkJ1guFoB",
        "outputId": "75aa0544-c090-40a6-f0d4-19d01fde60f8"
      },
      "source": [
        "scores_shinjuku = []\n",
        "for pdq in shinjuku_pdq_list:\n",
        "  cv_shinjuku = generate_cv(df2['新宿'], 210, 9,9, exog_shinjuku[305:])\n",
        "  new_score = cv_score(cv_shinjuku, pdq)\n",
        "  scores_shinjuku.append(sum(new_score) / len(new_score))\n",
        "  print(scores_shinjuku)\n",
        "print(scores_shinjuku)"
      ],
      "execution_count": null,
      "outputs": [
        {
          "output_type": "stream",
          "name": "stdout",
          "text": [
            "2021-06-03 00:00:00 2021-06-11 00:00:00\n",
            "2021-06-12 00:00:00 2021-06-20 00:00:00\n",
            "2021-06-21 00:00:00 2021-06-29 00:00:00\n",
            "2021-06-30 00:00:00 2021-07-08 00:00:00\n",
            "2021-07-09 00:00:00 2021-07-17 00:00:00\n",
            "2021-07-18 00:00:00 2021-07-26 00:00:00\n",
            "2021-07-27 00:00:00 2021-08-04 00:00:00\n",
            "2021-08-05 00:00:00 2021-08-13 00:00:00\n",
            "2021-08-14 00:00:00 2021-08-22 00:00:00\n",
            "2021-08-23 00:00:00 2021-08-31 00:00:00\n",
            "2021-09-01 00:00:00 2021-09-09 00:00:00\n",
            "2021-09-10 00:00:00 2021-09-18 00:00:00\n",
            "[10.078399026191876]\n",
            "2021-06-03 00:00:00 2021-06-11 00:00:00\n",
            "2021-06-12 00:00:00 2021-06-20 00:00:00\n",
            "2021-06-21 00:00:00 2021-06-29 00:00:00\n",
            "2021-06-30 00:00:00 2021-07-08 00:00:00\n",
            "2021-07-09 00:00:00 2021-07-17 00:00:00\n",
            "2021-07-18 00:00:00 2021-07-26 00:00:00\n",
            "2021-07-27 00:00:00 2021-08-04 00:00:00\n",
            "2021-08-05 00:00:00 2021-08-13 00:00:00\n",
            "2021-08-14 00:00:00 2021-08-22 00:00:00\n",
            "2021-08-23 00:00:00 2021-08-31 00:00:00\n",
            "2021-09-01 00:00:00 2021-09-09 00:00:00\n",
            "2021-09-10 00:00:00 2021-09-18 00:00:00\n",
            "[10.078399026191876, 12.56695494268967]\n",
            "2021-06-03 00:00:00 2021-06-11 00:00:00\n",
            "2021-06-12 00:00:00 2021-06-20 00:00:00\n",
            "2021-06-21 00:00:00 2021-06-29 00:00:00\n",
            "2021-06-30 00:00:00 2021-07-08 00:00:00\n",
            "2021-07-09 00:00:00 2021-07-17 00:00:00\n",
            "2021-07-18 00:00:00 2021-07-26 00:00:00\n",
            "2021-07-27 00:00:00 2021-08-04 00:00:00\n",
            "2021-08-05 00:00:00 2021-08-13 00:00:00\n",
            "2021-08-14 00:00:00 2021-08-22 00:00:00\n",
            "2021-08-23 00:00:00 2021-08-31 00:00:00\n",
            "2021-09-01 00:00:00 2021-09-09 00:00:00\n",
            "2021-09-10 00:00:00 2021-09-18 00:00:00\n",
            "[10.078399026191876, 12.56695494268967, 9.838300834388482]\n",
            "2021-06-03 00:00:00 2021-06-11 00:00:00\n",
            "2021-06-12 00:00:00 2021-06-20 00:00:00\n",
            "2021-06-21 00:00:00 2021-06-29 00:00:00\n",
            "2021-06-30 00:00:00 2021-07-08 00:00:00\n",
            "2021-07-09 00:00:00 2021-07-17 00:00:00\n",
            "2021-07-18 00:00:00 2021-07-26 00:00:00\n",
            "2021-07-27 00:00:00 2021-08-04 00:00:00\n",
            "2021-08-05 00:00:00 2021-08-13 00:00:00\n",
            "2021-08-14 00:00:00 2021-08-22 00:00:00\n",
            "2021-08-23 00:00:00 2021-08-31 00:00:00\n",
            "2021-09-01 00:00:00 2021-09-09 00:00:00\n",
            "2021-09-10 00:00:00 2021-09-18 00:00:00\n",
            "[10.078399026191876, 12.56695494268967, 9.838300834388482, 10.042321234043284]\n",
            "2021-06-03 00:00:00 2021-06-11 00:00:00\n",
            "2021-06-12 00:00:00 2021-06-20 00:00:00\n",
            "2021-06-21 00:00:00 2021-06-29 00:00:00\n",
            "2021-06-30 00:00:00 2021-07-08 00:00:00\n",
            "2021-07-09 00:00:00 2021-07-17 00:00:00\n",
            "2021-07-18 00:00:00 2021-07-26 00:00:00\n",
            "2021-07-27 00:00:00 2021-08-04 00:00:00\n",
            "2021-08-05 00:00:00 2021-08-13 00:00:00\n",
            "2021-08-14 00:00:00 2021-08-22 00:00:00\n",
            "2021-08-23 00:00:00 2021-08-31 00:00:00\n",
            "2021-09-01 00:00:00 2021-09-09 00:00:00\n",
            "2021-09-10 00:00:00 2021-09-18 00:00:00\n",
            "[10.078399026191876, 12.56695494268967, 9.838300834388482, 10.042321234043284, 9.540197494122879]\n",
            "2021-06-03 00:00:00 2021-06-11 00:00:00\n",
            "2021-06-12 00:00:00 2021-06-20 00:00:00\n",
            "2021-06-21 00:00:00 2021-06-29 00:00:00\n",
            "2021-06-30 00:00:00 2021-07-08 00:00:00\n",
            "2021-07-09 00:00:00 2021-07-17 00:00:00\n",
            "2021-07-18 00:00:00 2021-07-26 00:00:00\n",
            "2021-07-27 00:00:00 2021-08-04 00:00:00\n",
            "2021-08-05 00:00:00 2021-08-13 00:00:00\n",
            "2021-08-14 00:00:00 2021-08-22 00:00:00\n",
            "2021-08-23 00:00:00 2021-08-31 00:00:00\n",
            "2021-09-01 00:00:00 2021-09-09 00:00:00\n",
            "2021-09-10 00:00:00 2021-09-18 00:00:00\n",
            "[10.078399026191876, 12.56695494268967, 9.838300834388482, 10.042321234043284, 9.540197494122879, 9.553611914084305]\n",
            "2021-06-03 00:00:00 2021-06-11 00:00:00\n",
            "2021-06-12 00:00:00 2021-06-20 00:00:00\n",
            "2021-06-21 00:00:00 2021-06-29 00:00:00\n",
            "2021-06-30 00:00:00 2021-07-08 00:00:00\n",
            "2021-07-09 00:00:00 2021-07-17 00:00:00\n",
            "2021-07-18 00:00:00 2021-07-26 00:00:00\n",
            "2021-07-27 00:00:00 2021-08-04 00:00:00\n",
            "2021-08-05 00:00:00 2021-08-13 00:00:00\n",
            "2021-08-14 00:00:00 2021-08-22 00:00:00\n",
            "2021-08-23 00:00:00 2021-08-31 00:00:00\n",
            "2021-09-01 00:00:00 2021-09-09 00:00:00\n",
            "2021-09-10 00:00:00 2021-09-18 00:00:00\n",
            "[10.078399026191876, 12.56695494268967, 9.838300834388482, 10.042321234043284, 9.540197494122879, 9.553611914084305, 9.717149160216668]\n",
            "2021-06-03 00:00:00 2021-06-11 00:00:00\n",
            "2021-06-12 00:00:00 2021-06-20 00:00:00\n",
            "2021-06-21 00:00:00 2021-06-29 00:00:00\n",
            "2021-06-30 00:00:00 2021-07-08 00:00:00\n",
            "2021-07-09 00:00:00 2021-07-17 00:00:00\n",
            "2021-07-18 00:00:00 2021-07-26 00:00:00\n",
            "2021-07-27 00:00:00 2021-08-04 00:00:00\n",
            "2021-08-05 00:00:00 2021-08-13 00:00:00\n",
            "2021-08-14 00:00:00 2021-08-22 00:00:00\n",
            "2021-08-23 00:00:00 2021-08-31 00:00:00\n",
            "2021-09-01 00:00:00 2021-09-09 00:00:00\n",
            "2021-09-10 00:00:00 2021-09-18 00:00:00\n",
            "[10.078399026191876, 12.56695494268967, 9.838300834388482, 10.042321234043284, 9.540197494122879, 9.553611914084305, 9.717149160216668, 9.66423552046267]\n",
            "2021-06-03 00:00:00 2021-06-11 00:00:00\n",
            "2021-06-12 00:00:00 2021-06-20 00:00:00\n",
            "2021-06-21 00:00:00 2021-06-29 00:00:00\n",
            "2021-06-30 00:00:00 2021-07-08 00:00:00\n",
            "2021-07-09 00:00:00 2021-07-17 00:00:00\n",
            "2021-07-18 00:00:00 2021-07-26 00:00:00\n",
            "2021-07-27 00:00:00 2021-08-04 00:00:00\n",
            "2021-08-05 00:00:00 2021-08-13 00:00:00\n",
            "2021-08-14 00:00:00 2021-08-22 00:00:00\n",
            "2021-08-23 00:00:00 2021-08-31 00:00:00\n",
            "2021-09-01 00:00:00 2021-09-09 00:00:00\n",
            "2021-09-10 00:00:00 2021-09-18 00:00:00\n",
            "[10.078399026191876, 12.56695494268967, 9.838300834388482, 10.042321234043284, 9.540197494122879, 9.553611914084305, 9.717149160216668, 9.66423552046267, 9.631998139509225]\n",
            "2021-06-03 00:00:00 2021-06-11 00:00:00\n",
            "2021-06-12 00:00:00 2021-06-20 00:00:00\n",
            "2021-06-21 00:00:00 2021-06-29 00:00:00\n",
            "2021-06-30 00:00:00 2021-07-08 00:00:00\n",
            "2021-07-09 00:00:00 2021-07-17 00:00:00\n",
            "2021-07-18 00:00:00 2021-07-26 00:00:00\n",
            "2021-07-27 00:00:00 2021-08-04 00:00:00\n",
            "2021-08-05 00:00:00 2021-08-13 00:00:00\n",
            "2021-08-14 00:00:00 2021-08-22 00:00:00\n",
            "2021-08-23 00:00:00 2021-08-31 00:00:00\n",
            "2021-09-01 00:00:00 2021-09-09 00:00:00\n",
            "2021-09-10 00:00:00 2021-09-18 00:00:00\n",
            "[10.078399026191876, 12.56695494268967, 9.838300834388482, 10.042321234043284, 9.540197494122879, 9.553611914084305, 9.717149160216668, 9.66423552046267, 9.631998139509225, 12.214641732376073]\n",
            "[10.078399026191876, 12.56695494268967, 9.838300834388482, 10.042321234043284, 9.540197494122879, 9.553611914084305, 9.717149160216668, 9.66423552046267, 9.631998139509225, 12.214641732376073]\n"
          ]
        }
      ]
    },
    {
      "cell_type": "code",
      "metadata": {
        "colab": {
          "base_uri": "https://localhost:8080/",
          "height": 498
        },
        "id": "vUNFzQ7SdQRF",
        "outputId": "b02dae60-695a-4d56-f510-54583e0d67cc"
      },
      "source": [
        "#010 2227\n",
        "model=sm.tsa.statespace.SARIMAX(df2['新宿'],exog=exog_shinjuku[305:], order=(2,0,1), seasonal_order=(2,1,1,7))\n",
        "fit = model.fit()\n",
        "start = pd.to_datetime('2021-09-27 00:00:00')\n",
        "end = pd.to_datetime('2021-10-05 00:00:00')\n",
        "pred = fit.predict(start=start, end=end, exog=pred_exog_shinjuku)\n",
        "result.append(pred)\n",
        "sns.lineplot(x='日付', y='新宿',data=df2[-100:])\n",
        "sns.lineplot(data=pred)\n",
        "plt.xticks(rotation=90)\n",
        "pred"
      ],
      "execution_count": null,
      "outputs": [
        {
          "output_type": "execute_result",
          "data": {
            "text/plain": [
              "2021-09-27    45732.119221\n",
              "2021-09-28    46125.807639\n",
              "2021-09-29    47311.216278\n",
              "2021-09-30    46542.679921\n",
              "2021-10-01    50461.987450\n",
              "2021-10-02    44815.743756\n",
              "2021-10-03    39750.074204\n",
              "2021-10-04    45294.153638\n",
              "2021-10-05    46017.902626\n",
              "Freq: D, dtype: float64"
            ]
          },
          "metadata": {},
          "execution_count": 22
        },
        {
          "output_type": "display_data",
          "data": {
            "image/png": "[encoded data removed]",
            "text/plain": [
              "<Figure size 432x288 with 1 Axes>"
            ]
          },
          "metadata": {
            "needs_background": "light"
          }
        }
      ]
    },
    {
      "cell_type": "code",
      "metadata": {
        "colab": {
          "base_uri": "https://localhost:8080/",
          "height": 483
        },
        "id": "ILevCPJQe1p1",
        "outputId": "614d2d3d-8a36-4946-880b-593fb4e4360a"
      },
      "source": [
        "pred = pd.DataFrame()\n",
        "syntex(pred)\n",
        "exog_maru = pd.DataFrame()\n",
        "exog_maru['日付'] = pd.date_range(start='01/01/2020', periods=631, freq='D')\n",
        "pred_exog_maru = pd.DataFrame()\n",
        "pred_exog_maru['日付'] = pd.date_range(start='09/23/2020', periods=13, freq='D')\n",
        "found = 0\n",
        "for cols in maru_list:\n",
        "  col, r = cols\n",
        "  if col not in pred.columns:\n",
        "    continue\n",
        "  if col == 'off':\n",
        "    found = 1\n",
        "    continue\n",
        "  exog_maru[col] = pd_x[col].values\n",
        "  pred_exog_maru[col] = pred[col].values\n",
        "if found:\n",
        "  exog_maru['off'] = pd_x['off'].values\n",
        "  pred_exog_maru['off'] = pred['off'].values\n",
        "exog_maru = exog_maru.set_index('日付')\n",
        "pred_exog_maru = pred_exog_maru.set_index('日付')\n",
        "pred_exog_maru.tail(13)"
      ],
      "execution_count": null,
      "outputs": [
        {
          "output_type": "execute_result",
          "data": {
            "text/html": [
              "<div>\n",
              "<style scoped>\n",
              "    .dataframe tbody tr th:only-of-type {\n",
              "        vertical-align: middle;\n",
              "    }\n",
              "\n",
              "    .dataframe tbody tr th {\n",
              "        vertical-align: top;\n",
              "    }\n",
              "\n",
              "    .dataframe thead th {\n",
              "        text-align: right;\n",
              "    }\n",
              "</style>\n",
              "<table border=\"1\" class=\"dataframe\">\n",
              "  <thead>\n",
              "    <tr style=\"text-align: right;\">\n",
              "      <th></th>\n",
              "      <th>漫画</th>\n",
              "      <th>デリバリー</th>\n",
              "      <th>off</th>\n",
              "    </tr>\n",
              "    <tr>\n",
              "      <th>日付</th>\n",
              "      <th></th>\n",
              "      <th></th>\n",
              "      <th></th>\n",
              "    </tr>\n",
              "  </thead>\n",
              "  <tbody>\n",
              "    <tr>\n",
              "      <th>2020-09-23</th>\n",
              "      <td>4170.348298</td>\n",
              "      <td>441.855513</td>\n",
              "      <td>0</td>\n",
              "    </tr>\n",
              "    <tr>\n",
              "      <th>2020-09-24</th>\n",
              "      <td>4205.517642</td>\n",
              "      <td>450.744598</td>\n",
              "      <td>0</td>\n",
              "    </tr>\n",
              "    <tr>\n",
              "      <th>2020-09-25</th>\n",
              "      <td>4910.569576</td>\n",
              "      <td>633.421185</td>\n",
              "      <td>1</td>\n",
              "    </tr>\n",
              "    <tr>\n",
              "      <th>2020-09-26</th>\n",
              "      <td>4848.201867</td>\n",
              "      <td>636.731061</td>\n",
              "      <td>1</td>\n",
              "    </tr>\n",
              "    <tr>\n",
              "      <th>2020-09-27</th>\n",
              "      <td>4219.244648</td>\n",
              "      <td>393.914398</td>\n",
              "      <td>0</td>\n",
              "    </tr>\n",
              "    <tr>\n",
              "      <th>2020-09-28</th>\n",
              "      <td>4091.220697</td>\n",
              "      <td>424.303441</td>\n",
              "      <td>0</td>\n",
              "    </tr>\n",
              "    <tr>\n",
              "      <th>2020-09-29</th>\n",
              "      <td>4096.047758</td>\n",
              "      <td>429.857054</td>\n",
              "      <td>0</td>\n",
              "    </tr>\n",
              "    <tr>\n",
              "      <th>2020-09-30</th>\n",
              "      <td>4145.322291</td>\n",
              "      <td>460.336679</td>\n",
              "      <td>0</td>\n",
              "    </tr>\n",
              "    <tr>\n",
              "      <th>2020-10-01</th>\n",
              "      <td>4231.620766</td>\n",
              "      <td>473.656713</td>\n",
              "      <td>0</td>\n",
              "    </tr>\n",
              "    <tr>\n",
              "      <th>2020-10-02</th>\n",
              "      <td>4899.893344</td>\n",
              "      <td>652.041535</td>\n",
              "      <td>1</td>\n",
              "    </tr>\n",
              "    <tr>\n",
              "      <th>2020-10-03</th>\n",
              "      <td>4852.524501</td>\n",
              "      <td>648.798255</td>\n",
              "      <td>1</td>\n",
              "    </tr>\n",
              "    <tr>\n",
              "      <th>2020-10-04</th>\n",
              "      <td>4255.255303</td>\n",
              "      <td>420.029137</td>\n",
              "      <td>0</td>\n",
              "    </tr>\n",
              "    <tr>\n",
              "      <th>2020-10-05</th>\n",
              "      <td>4107.752670</td>\n",
              "      <td>427.999884</td>\n",
              "      <td>0</td>\n",
              "    </tr>\n",
              "  </tbody>\n",
              "</table>\n",
              "</div>"
            ],
            "text/plain": [
              "                     漫画       デリバリー  off\n",
              "日付                                      \n",
              "2020-09-23  4170.348298  441.855513    0\n",
              "2020-09-24  4205.517642  450.744598    0\n",
              "2020-09-25  4910.569576  633.421185    1\n",
              "2020-09-26  4848.201867  636.731061    1\n",
              "2020-09-27  4219.244648  393.914398    0\n",
              "2020-09-28  4091.220697  424.303441    0\n",
              "2020-09-29  4096.047758  429.857054    0\n",
              "2020-09-30  4145.322291  460.336679    0\n",
              "2020-10-01  4231.620766  473.656713    0\n",
              "2020-10-02  4899.893344  652.041535    1\n",
              "2020-10-03  4852.524501  648.798255    1\n",
              "2020-10-04  4255.255303  420.029137    0\n",
              "2020-10-05  4107.752670  427.999884    0"
            ]
          },
          "metadata": {},
          "execution_count": 23
        }
      ]
    },
    {
      "cell_type": "code",
      "metadata": {
        "colab": {
          "base_uri": "https://localhost:8080/"
        },
        "id": "X6nlSWbUfecW",
        "outputId": "b53e7d18-b6ec-4d06-acb1-cdbb75e347d8"
      },
      "source": [
        "d=q=range(0, 2)\n",
        "p = range(0,3)\n",
        "pdq=list(itertools.product(p,d,q))\n",
        "pdq_x_PDQs = [(x[0], x[1], x[2], 7) for x in list(itertools.product(p,d,q))]\n",
        "a=[]\n",
        "b=[]\n",
        "c=[]\n",
        "wf=[]\n",
        "for param in pdq:\n",
        "  for seasonal_param in pdq_x_PDQs:\n",
        "    try:\n",
        "      mod = sm.tsa.statespace.SARIMAX(df3['丸の内'],exog=exog_maru[305:], order=param, seasonal_order=seasonal_param,enforce_invertibility=False, enforce_stationarity=False)\n",
        "      results = mod.fit()\n",
        "      #print('ARIMA{}x{} - AIC:{}'.format(param, seasonal_param, results.aic))\n",
        "      a = param\n",
        "      b = seasonal_param\n",
        "      c = results.aic\n",
        "      wf.append((c,a,b))\n",
        "    except:\n",
        "      continue\n",
        "\n",
        "maru_pdq_list = sorted(wf, key=lambda x:x[0])[:10]\n",
        "maru_pdq_list"
      ],
      "execution_count": null,
      "outputs": [
        {
          "output_type": "execute_result",
          "data": {
            "text/plain": [
              "[(6196.456868266794, (2, 1, 1), (2, 1, 1, 7)),\n",
              " (6201.826876205299, (2, 0, 0), (2, 1, 1, 7)),\n",
              " (6205.842897953259, (2, 1, 0), (2, 1, 1, 7)),\n",
              " (6205.955265564721, (2, 0, 1), (2, 1, 0, 7)),\n",
              " (6206.416521825007, (2, 0, 0), (2, 1, 0, 7)),\n",
              " (6210.033557621893, (2, 1, 1), (2, 1, 0, 7)),\n",
              " (6215.027583189192, (2, 1, 0), (2, 1, 0, 7)),\n",
              " (6217.601453985348, (1, 1, 1), (2, 1, 1, 7)),\n",
              " (6218.2077646081125, (0, 1, 0), (2, 1, 1, 7)),\n",
              " (6220.906452740142, (1, 0, 0), (2, 1, 1, 7))]"
            ]
          },
          "metadata": {},
          "execution_count": 119
        }
      ]
    },
    {
      "cell_type": "code",
      "metadata": {
        "colab": {
          "base_uri": "https://localhost:8080/"
        },
        "id": "poqA9PeFwv_F",
        "outputId": "9e7f684e-ad6c-4528-c1f0-d0356ed785cd"
      },
      "source": [
        "scores_maru = []\n",
        "for pdq in maru_pdq_list:\n",
        "  cv_maru = generate_cv(df3['丸の内'], 210, 9,9, exog_maru[305:])\n",
        "  new_score = cv_score(cv_maru, pdq)\n",
        "  scores_maru.append(sum(new_score) / len(new_score))\n",
        "  print(scores_maru)\n",
        "print(scores_maru)"
      ],
      "execution_count": null,
      "outputs": [
        {
          "output_type": "stream",
          "name": "stdout",
          "text": [
            "2021-06-03 00:00:00 2021-06-11 00:00:00\n",
            "2021-06-12 00:00:00 2021-06-20 00:00:00\n",
            "2021-06-21 00:00:00 2021-06-29 00:00:00\n",
            "2021-06-30 00:00:00 2021-07-08 00:00:00\n",
            "2021-07-09 00:00:00 2021-07-17 00:00:00\n",
            "2021-07-18 00:00:00 2021-07-26 00:00:00\n",
            "2021-07-27 00:00:00 2021-08-04 00:00:00\n",
            "2021-08-05 00:00:00 2021-08-13 00:00:00\n",
            "2021-08-14 00:00:00 2021-08-22 00:00:00\n",
            "2021-08-23 00:00:00 2021-08-31 00:00:00\n",
            "2021-09-01 00:00:00 2021-09-09 00:00:00\n",
            "2021-09-10 00:00:00 2021-09-18 00:00:00\n",
            "[14.716316794105474]\n",
            "2021-06-03 00:00:00 2021-06-11 00:00:00\n",
            "2021-06-12 00:00:00 2021-06-20 00:00:00\n",
            "2021-06-21 00:00:00 2021-06-29 00:00:00\n",
            "2021-06-30 00:00:00 2021-07-08 00:00:00\n",
            "2021-07-09 00:00:00 2021-07-17 00:00:00\n",
            "2021-07-18 00:00:00 2021-07-26 00:00:00\n",
            "2021-07-27 00:00:00 2021-08-04 00:00:00\n",
            "2021-08-05 00:00:00 2021-08-13 00:00:00\n",
            "2021-08-14 00:00:00 2021-08-22 00:00:00\n",
            "2021-08-23 00:00:00 2021-08-31 00:00:00\n",
            "2021-09-01 00:00:00 2021-09-09 00:00:00\n",
            "2021-09-10 00:00:00 2021-09-18 00:00:00\n",
            "[14.716316794105474, 8.057839926835438]\n",
            "2021-06-03 00:00:00 2021-06-11 00:00:00\n",
            "2021-06-12 00:00:00 2021-06-20 00:00:00\n",
            "2021-06-21 00:00:00 2021-06-29 00:00:00\n",
            "2021-06-30 00:00:00 2021-07-08 00:00:00\n",
            "2021-07-09 00:00:00 2021-07-17 00:00:00\n",
            "2021-07-18 00:00:00 2021-07-26 00:00:00\n",
            "2021-07-27 00:00:00 2021-08-04 00:00:00\n",
            "2021-08-05 00:00:00 2021-08-13 00:00:00\n",
            "2021-08-14 00:00:00 2021-08-22 00:00:00\n",
            "2021-08-23 00:00:00 2021-08-31 00:00:00\n",
            "2021-09-01 00:00:00 2021-09-09 00:00:00\n",
            "2021-09-10 00:00:00 2021-09-18 00:00:00\n",
            "[14.716316794105474, 8.057839926835438, 14.806601569387448]\n",
            "2021-06-03 00:00:00 2021-06-11 00:00:00\n",
            "2021-06-12 00:00:00 2021-06-20 00:00:00\n",
            "2021-06-21 00:00:00 2021-06-29 00:00:00\n",
            "2021-06-30 00:00:00 2021-07-08 00:00:00\n",
            "2021-07-09 00:00:00 2021-07-17 00:00:00\n",
            "2021-07-18 00:00:00 2021-07-26 00:00:00\n",
            "2021-07-27 00:00:00 2021-08-04 00:00:00\n",
            "2021-08-05 00:00:00 2021-08-13 00:00:00\n",
            "2021-08-14 00:00:00 2021-08-22 00:00:00\n",
            "2021-08-23 00:00:00 2021-08-31 00:00:00\n",
            "2021-09-01 00:00:00 2021-09-09 00:00:00\n",
            "2021-09-10 00:00:00 2021-09-18 00:00:00\n",
            "[14.716316794105474, 8.057839926835438, 14.806601569387448, 9.346211989109802]\n",
            "2021-06-03 00:00:00 2021-06-11 00:00:00\n",
            "2021-06-12 00:00:00 2021-06-20 00:00:00\n",
            "2021-06-21 00:00:00 2021-06-29 00:00:00\n",
            "2021-06-30 00:00:00 2021-07-08 00:00:00\n",
            "2021-07-09 00:00:00 2021-07-17 00:00:00\n",
            "2021-07-18 00:00:00 2021-07-26 00:00:00\n",
            "2021-07-27 00:00:00 2021-08-04 00:00:00\n",
            "2021-08-05 00:00:00 2021-08-13 00:00:00\n",
            "2021-08-14 00:00:00 2021-08-22 00:00:00\n",
            "2021-08-23 00:00:00 2021-08-31 00:00:00\n",
            "2021-09-01 00:00:00 2021-09-09 00:00:00\n",
            "2021-09-10 00:00:00 2021-09-18 00:00:00\n",
            "[14.716316794105474, 8.057839926835438, 14.806601569387448, 9.346211989109802, 9.18861066685461]\n",
            "2021-06-03 00:00:00 2021-06-11 00:00:00\n",
            "2021-06-12 00:00:00 2021-06-20 00:00:00\n",
            "2021-06-21 00:00:00 2021-06-29 00:00:00\n",
            "2021-06-30 00:00:00 2021-07-08 00:00:00\n",
            "2021-07-09 00:00:00 2021-07-17 00:00:00\n",
            "2021-07-18 00:00:00 2021-07-26 00:00:00\n",
            "2021-07-27 00:00:00 2021-08-04 00:00:00\n",
            "2021-08-05 00:00:00 2021-08-13 00:00:00\n",
            "2021-08-14 00:00:00 2021-08-22 00:00:00\n",
            "2021-08-23 00:00:00 2021-08-31 00:00:00\n",
            "2021-09-01 00:00:00 2021-09-09 00:00:00\n",
            "2021-09-10 00:00:00 2021-09-18 00:00:00\n",
            "[14.716316794105474, 8.057839926835438, 14.806601569387448, 9.346211989109802, 9.18861066685461, 15.832660705265118]\n",
            "2021-06-03 00:00:00 2021-06-11 00:00:00\n",
            "2021-06-12 00:00:00 2021-06-20 00:00:00\n",
            "2021-06-21 00:00:00 2021-06-29 00:00:00\n",
            "2021-06-30 00:00:00 2021-07-08 00:00:00\n",
            "2021-07-09 00:00:00 2021-07-17 00:00:00\n",
            "2021-07-18 00:00:00 2021-07-26 00:00:00\n",
            "2021-07-27 00:00:00 2021-08-04 00:00:00\n",
            "2021-08-05 00:00:00 2021-08-13 00:00:00\n",
            "2021-08-14 00:00:00 2021-08-22 00:00:00\n",
            "2021-08-23 00:00:00 2021-08-31 00:00:00\n",
            "2021-09-01 00:00:00 2021-09-09 00:00:00\n",
            "2021-09-10 00:00:00 2021-09-18 00:00:00\n",
            "[14.716316794105474, 8.057839926835438, 14.806601569387448, 9.346211989109802, 9.18861066685461, 15.832660705265118, 17.852291958368312]\n",
            "2021-06-03 00:00:00 2021-06-11 00:00:00\n",
            "2021-06-12 00:00:00 2021-06-20 00:00:00\n",
            "2021-06-21 00:00:00 2021-06-29 00:00:00\n",
            "2021-06-30 00:00:00 2021-07-08 00:00:00\n",
            "2021-07-09 00:00:00 2021-07-17 00:00:00\n",
            "2021-07-18 00:00:00 2021-07-26 00:00:00\n",
            "2021-07-27 00:00:00 2021-08-04 00:00:00\n",
            "2021-08-05 00:00:00 2021-08-13 00:00:00\n",
            "2021-08-14 00:00:00 2021-08-22 00:00:00\n",
            "2021-08-23 00:00:00 2021-08-31 00:00:00\n",
            "2021-09-01 00:00:00 2021-09-09 00:00:00\n",
            "2021-09-10 00:00:00 2021-09-18 00:00:00\n",
            "[14.716316794105474, 8.057839926835438, 14.806601569387448, 9.346211989109802, 9.18861066685461, 15.832660705265118, 17.852291958368312, 14.759041091218911]\n",
            "2021-06-03 00:00:00 2021-06-11 00:00:00\n",
            "2021-06-12 00:00:00 2021-06-20 00:00:00\n",
            "2021-06-21 00:00:00 2021-06-29 00:00:00\n",
            "2021-06-30 00:00:00 2021-07-08 00:00:00\n",
            "2021-07-09 00:00:00 2021-07-17 00:00:00\n",
            "2021-07-18 00:00:00 2021-07-26 00:00:00\n",
            "2021-07-27 00:00:00 2021-08-04 00:00:00\n",
            "2021-08-05 00:00:00 2021-08-13 00:00:00\n",
            "2021-08-14 00:00:00 2021-08-22 00:00:00\n",
            "2021-08-23 00:00:00 2021-08-31 00:00:00\n",
            "2021-09-01 00:00:00 2021-09-09 00:00:00\n",
            "2021-09-10 00:00:00 2021-09-18 00:00:00\n",
            "[14.716316794105474, 8.057839926835438, 14.806601569387448, 9.346211989109802, 9.18861066685461, 15.832660705265118, 17.852291958368312, 14.759041091218911, 15.22183649037344]\n",
            "2021-06-03 00:00:00 2021-06-11 00:00:00\n",
            "2021-06-12 00:00:00 2021-06-20 00:00:00\n",
            "2021-06-21 00:00:00 2021-06-29 00:00:00\n",
            "2021-06-30 00:00:00 2021-07-08 00:00:00\n",
            "2021-07-09 00:00:00 2021-07-17 00:00:00\n",
            "2021-07-18 00:00:00 2021-07-26 00:00:00\n",
            "2021-07-27 00:00:00 2021-08-04 00:00:00\n",
            "2021-08-05 00:00:00 2021-08-13 00:00:00\n",
            "2021-08-14 00:00:00 2021-08-22 00:00:00\n",
            "2021-08-23 00:00:00 2021-08-31 00:00:00\n",
            "2021-09-01 00:00:00 2021-09-09 00:00:00\n",
            "2021-09-10 00:00:00 2021-09-18 00:00:00\n",
            "[14.716316794105474, 8.057839926835438, 14.806601569387448, 9.346211989109802, 9.18861066685461, 15.832660705265118, 17.852291958368312, 14.759041091218911, 15.22183649037344, 7.94535422934169]\n",
            "[14.716316794105474, 8.057839926835438, 14.806601569387448, 9.346211989109802, 9.18861066685461, 15.832660705265118, 17.852291958368312, 14.759041091218911, 15.22183649037344, 7.94535422934169]\n"
          ]
        }
      ]
    },
    {
      "cell_type": "code",
      "metadata": {
        "colab": {
          "base_uri": "https://localhost:8080/"
        },
        "id": "kA7zTCx7Mfmb",
        "outputId": "f1a15f62-33f2-4d5e-b834-4f74f07edc4e"
      },
      "source": [
        "  cv_maru = generate_cv(df3['丸の内'], 210, 9,9, exog_maru[305:])\n",
        "  new_score = cv_score(cv_maru, (1, (1,0,1),(1,1,1,7)))\n",
        "  scores_maru.append(sum(new_score) / len(new_score))\n",
        "  print(scores_maru)"
      ],
      "execution_count": null,
      "outputs": [
        {
          "output_type": "stream",
          "name": "stdout",
          "text": [
            "2021-06-03 00:00:00 2021-06-11 00:00:00\n",
            "2021-06-12 00:00:00 2021-06-20 00:00:00\n",
            "2021-06-21 00:00:00 2021-06-29 00:00:00\n",
            "2021-06-30 00:00:00 2021-07-08 00:00:00\n",
            "2021-07-09 00:00:00 2021-07-17 00:00:00\n",
            "2021-07-18 00:00:00 2021-07-26 00:00:00\n",
            "2021-07-27 00:00:00 2021-08-04 00:00:00\n",
            "2021-08-05 00:00:00 2021-08-13 00:00:00\n",
            "2021-08-14 00:00:00 2021-08-22 00:00:00\n",
            "2021-08-23 00:00:00 2021-08-31 00:00:00\n",
            "2021-09-01 00:00:00 2021-09-09 00:00:00\n",
            "2021-09-10 00:00:00 2021-09-18 00:00:00\n",
            "[14.716316794105474, 8.057839926835438, 14.806601569387448, 9.346211989109802, 9.18861066685461, 15.832660705265118, 17.852291958368312, 14.759041091218911, 15.22183649037344, 7.94535422934169, 8.077223934673698, 7.943490199878781]\n"
          ]
        }
      ]
    },
    {
      "cell_type": "code",
      "metadata": {
        "colab": {
          "base_uri": "https://localhost:8080/",
          "height": 497
        },
        "id": "jpX2nIqQxVee",
        "outputId": "fcb63c5b-3e4d-4b35-d165-14926498893e"
      },
      "source": [
        "model=sm.tsa.statespace.SARIMAX(df3['丸の内'],exog=exog_maru[305:], order=(1,0,0), seasonal_order=(2,1,1,7))\n",
        "fit = model.fit()\n",
        "start = pd.to_datetime('2021-09-27 00:00:00')\n",
        "end = pd.to_datetime('2021-10-05 00:00:00')\n",
        "pred = fit.predict(start=start, end=end, exog=pred_exog_maru)\n",
        "result.append(pred)\n",
        "sns.lineplot(x='日付', y='丸の内',data=df3[-50:])\n",
        "sns.lineplot(data=pred)\n",
        "plt.xticks(rotation=90)\n",
        "pred"
      ],
      "execution_count": null,
      "outputs": [
        {
          "output_type": "execute_result",
          "data": {
            "text/plain": [
              "2021-09-27    84639.283143\n",
              "2021-09-28    84071.066768\n",
              "2021-09-29    85221.251849\n",
              "2021-09-30    84915.013930\n",
              "2021-10-01    90068.108425\n",
              "2021-10-02    54715.424825\n",
              "2021-10-03    51541.636651\n",
              "2021-10-04    84002.085867\n",
              "2021-10-05    83881.296224\n",
              "Freq: D, dtype: float64"
            ]
          },
          "metadata": {},
          "execution_count": 24
        },
        {
          "output_type": "display_data",
          "data": {
            "image/png": "[encoded data removed]",
            "text/plain": [
              "<Figure size 432x288 with 1 Axes>"
            ]
          },
          "metadata": {
            "needs_background": "light"
          }
        }
      ]
    },
    {
      "cell_type": "code",
      "metadata": {
        "id": "R1MAJUDnej74",
        "colab": {
          "base_uri": "https://localhost:8080/",
          "height": 297
        },
        "outputId": "6526a2e1-c903-428e-b506-778832e3a170"
      },
      "source": [
        "pred = pd.DataFrame()\n",
        "syntex(pred)\n",
        "exog_shina = pd.DataFrame()\n",
        "exog_shina['日付'] = pd.date_range(start='01/01/2020', periods=631, freq='D')\n",
        "pred_exog_shina = pd.DataFrame()\n",
        "pred_exog_shina['日付'] = pd.date_range(start='09/23/2020', periods=13, freq='D')\n",
        "found = 0\n",
        "for cols in Shinagawa_list:\n",
        "  col, r = cols\n",
        "  if col not in pred.columns:\n",
        "    continue\n",
        "  if col == 'off':\n",
        "    found = 1\n",
        "    continue\n",
        "  exog_shina[col] = pd_x[col].values\n",
        "  pred_exog_shina[col] = pred[col].values\n",
        "if found:\n",
        "  exog_shina['off'] = pd_x['off'].values\n",
        "  pred_exog_shina['off'] = pred['off'].values\n",
        "exog_shina = exog_shina.set_index('日付')\n",
        "pred_exog_shina = pred_exog_shina.set_index('日付')\n",
        "pred_exog_shina.tail(7)"
      ],
      "execution_count": null,
      "outputs": [
        {
          "output_type": "execute_result",
          "data": {
            "text/html": [
              "<div>\n",
              "<style scoped>\n",
              "    .dataframe tbody tr th:only-of-type {\n",
              "        vertical-align: middle;\n",
              "    }\n",
              "\n",
              "    .dataframe tbody tr th {\n",
              "        vertical-align: top;\n",
              "    }\n",
              "\n",
              "    .dataframe thead th {\n",
              "        text-align: right;\n",
              "    }\n",
              "</style>\n",
              "<table border=\"1\" class=\"dataframe\">\n",
              "  <thead>\n",
              "    <tr style=\"text-align: right;\">\n",
              "      <th></th>\n",
              "      <th>漫画</th>\n",
              "      <th>デリバリー</th>\n",
              "      <th>off</th>\n",
              "    </tr>\n",
              "    <tr>\n",
              "      <th>日付</th>\n",
              "      <th></th>\n",
              "      <th></th>\n",
              "      <th></th>\n",
              "    </tr>\n",
              "  </thead>\n",
              "  <tbody>\n",
              "    <tr>\n",
              "      <th>2020-09-29</th>\n",
              "      <td>4096.047758</td>\n",
              "      <td>429.857054</td>\n",
              "      <td>0</td>\n",
              "    </tr>\n",
              "    <tr>\n",
              "      <th>2020-09-30</th>\n",
              "      <td>4145.322291</td>\n",
              "      <td>460.336679</td>\n",
              "      <td>0</td>\n",
              "    </tr>\n",
              "    <tr>\n",
              "      <th>2020-10-01</th>\n",
              "      <td>4231.620766</td>\n",
              "      <td>473.656713</td>\n",
              "      <td>0</td>\n",
              "    </tr>\n",
              "    <tr>\n",
              "      <th>2020-10-02</th>\n",
              "      <td>4899.893344</td>\n",
              "      <td>652.041535</td>\n",
              "      <td>1</td>\n",
              "    </tr>\n",
              "    <tr>\n",
              "      <th>2020-10-03</th>\n",
              "      <td>4852.524501</td>\n",
              "      <td>648.798255</td>\n",
              "      <td>1</td>\n",
              "    </tr>\n",
              "    <tr>\n",
              "      <th>2020-10-04</th>\n",
              "      <td>4255.255303</td>\n",
              "      <td>420.029137</td>\n",
              "      <td>0</td>\n",
              "    </tr>\n",
              "    <tr>\n",
              "      <th>2020-10-05</th>\n",
              "      <td>4107.752670</td>\n",
              "      <td>427.999884</td>\n",
              "      <td>0</td>\n",
              "    </tr>\n",
              "  </tbody>\n",
              "</table>\n",
              "</div>"
            ],
            "text/plain": [
              "                     漫画       デリバリー  off\n",
              "日付                                      \n",
              "2020-09-29  4096.047758  429.857054    0\n",
              "2020-09-30  4145.322291  460.336679    0\n",
              "2020-10-01  4231.620766  473.656713    0\n",
              "2020-10-02  4899.893344  652.041535    1\n",
              "2020-10-03  4852.524501  648.798255    1\n",
              "2020-10-04  4255.255303  420.029137    0\n",
              "2020-10-05  4107.752670  427.999884    0"
            ]
          },
          "metadata": {},
          "execution_count": 25
        }
      ]
    },
    {
      "cell_type": "code",
      "metadata": {
        "id": "VrE4HgtHyH8h"
      },
      "source": [
        "def get_list(data, ex):\n",
        "  d=q=range(0, 2)\n",
        "  p = range(0,2)\n",
        "  pdq=list(itertools.product(p,d,q))\n",
        "  pdq_x_PDQs = [(x[0], x[1], x[2], 7) for x in list(itertools.product(p,d,q))]\n",
        "  a=[]\n",
        "  b=[]\n",
        "  c=[]\n",
        "  wf=[]\n",
        "  for param in pdq:\n",
        "    for seasonal_param in pdq_x_PDQs:\n",
        "      try:\n",
        "        mod = sm.tsa.statespace.SARIMAX(data,exog=ex, order=param, seasonal_order=seasonal_param,enforce_invertibility=False, enforce_stationarity=False)\n",
        "        results = mod.fit()\n",
        "        #print('ARIMA{}x{} - AIC:{}'.format(param, seasonal_param, results.aic))\n",
        "        a = param\n",
        "        b = seasonal_param\n",
        "        c = results.aic\n",
        "        wf.append((c,a,b))\n",
        "      except:\n",
        "        continue\n",
        "\n",
        "  pdq_list = sorted(wf, key=lambda x:x[0])[:10]\n",
        "  return pdq_list"
      ],
      "execution_count": null,
      "outputs": []
    },
    {
      "cell_type": "code",
      "metadata": {
        "colab": {
          "base_uri": "https://localhost:8080/"
        },
        "id": "W6r6XUTSyW8q",
        "outputId": "570c870f-2fa0-4904-897d-5bc882acb72a"
      },
      "source": [
        "shinagawa_pdq_list = get_list(df4['品川'], exog_shina[305:])\n",
        "shinagawa_pdq_list"
      ],
      "execution_count": null,
      "outputs": [
        {
          "output_type": "execute_result",
          "data": {
            "text/plain": [
              "[(5938.108144665139, (1, 0, 1), (1, 1, 1, 7)),\n",
              " (5940.09626711526, (0, 1, 1), (1, 1, 1, 7)),\n",
              " (5943.370340579959, (0, 1, 1), (0, 1, 1, 7)),\n",
              " (5947.356548249341, (1, 1, 1), (0, 1, 1, 7)),\n",
              " (5948.282723092832, (1, 1, 1), (1, 1, 1, 7)),\n",
              " (5960.738027770007, (1, 1, 0), (1, 1, 1, 7)),\n",
              " (5962.746743760373, (1, 0, 1), (0, 1, 1, 7)),\n",
              " (5963.187575953034, (1, 1, 0), (0, 1, 1, 7)),\n",
              " (5967.415204206887, (1, 0, 0), (0, 1, 1, 7)),\n",
              " (5968.82590654392, (0, 1, 0), (1, 1, 1, 7))]"
            ]
          },
          "metadata": {},
          "execution_count": 137
        }
      ]
    },
    {
      "cell_type": "code",
      "metadata": {
        "id": "nMxCiuLlyy4H"
      },
      "source": [
        "def get_cv_scores(data, ex ,l):\n",
        "  score = []\n",
        "  for pdq in l:\n",
        "    cv = generate_cv(data, 210, 9,9, ex)\n",
        "    new_score = cv_score(cv, pdq)\n",
        "    score.append(sum(new_score) / len(new_score))\n",
        "\n",
        "  return score"
      ],
      "execution_count": null,
      "outputs": []
    },
    {
      "cell_type": "code",
      "metadata": {
        "colab": {
          "base_uri": "https://localhost:8080/"
        },
        "id": "bGbdo4VyzO_W",
        "outputId": "2953dc74-61ba-4d87-d061-db0845f84517"
      },
      "source": [
        "scores_shina = get_cv_scores(df4['品川'], exog_shina[305:], shinagawa_pdq_list)\n",
        "scores_shina"
      ],
      "execution_count": null,
      "outputs": [
        {
          "output_type": "stream",
          "name": "stdout",
          "text": [
            "2021-06-03 00:00:00 2021-06-11 00:00:00\n",
            "2021-06-12 00:00:00 2021-06-20 00:00:00\n",
            "2021-06-21 00:00:00 2021-06-29 00:00:00\n",
            "2021-06-30 00:00:00 2021-07-08 00:00:00\n",
            "2021-07-09 00:00:00 2021-07-17 00:00:00\n",
            "2021-07-18 00:00:00 2021-07-26 00:00:00\n",
            "2021-07-27 00:00:00 2021-08-04 00:00:00\n",
            "2021-08-05 00:00:00 2021-08-13 00:00:00\n",
            "2021-08-14 00:00:00 2021-08-22 00:00:00\n",
            "2021-08-23 00:00:00 2021-08-31 00:00:00\n",
            "2021-09-01 00:00:00 2021-09-09 00:00:00\n",
            "2021-09-10 00:00:00 2021-09-18 00:00:00\n",
            "2021-06-03 00:00:00 2021-06-11 00:00:00\n",
            "2021-06-12 00:00:00 2021-06-20 00:00:00\n",
            "2021-06-21 00:00:00 2021-06-29 00:00:00\n",
            "2021-06-30 00:00:00 2021-07-08 00:00:00\n",
            "2021-07-09 00:00:00 2021-07-17 00:00:00\n",
            "2021-07-18 00:00:00 2021-07-26 00:00:00\n",
            "2021-07-27 00:00:00 2021-08-04 00:00:00\n",
            "2021-08-05 00:00:00 2021-08-13 00:00:00\n",
            "2021-08-14 00:00:00 2021-08-22 00:00:00\n",
            "2021-08-23 00:00:00 2021-08-31 00:00:00\n",
            "2021-09-01 00:00:00 2021-09-09 00:00:00\n",
            "2021-09-10 00:00:00 2021-09-18 00:00:00\n",
            "2021-06-03 00:00:00 2021-06-11 00:00:00\n",
            "2021-06-12 00:00:00 2021-06-20 00:00:00\n",
            "2021-06-21 00:00:00 2021-06-29 00:00:00\n",
            "2021-06-30 00:00:00 2021-07-08 00:00:00\n",
            "2021-07-09 00:00:00 2021-07-17 00:00:00\n",
            "2021-07-18 00:00:00 2021-07-26 00:00:00\n",
            "2021-07-27 00:00:00 2021-08-04 00:00:00\n",
            "2021-08-05 00:00:00 2021-08-13 00:00:00\n",
            "2021-08-14 00:00:00 2021-08-22 00:00:00\n",
            "2021-08-23 00:00:00 2021-08-31 00:00:00\n",
            "2021-09-01 00:00:00 2021-09-09 00:00:00\n",
            "2021-09-10 00:00:00 2021-09-18 00:00:00\n",
            "2021-06-03 00:00:00 2021-06-11 00:00:00\n",
            "2021-06-12 00:00:00 2021-06-20 00:00:00\n",
            "2021-06-21 00:00:00 2021-06-29 00:00:00\n",
            "2021-06-30 00:00:00 2021-07-08 00:00:00\n",
            "2021-07-09 00:00:00 2021-07-17 00:00:00\n",
            "2021-07-18 00:00:00 2021-07-26 00:00:00\n",
            "2021-07-27 00:00:00 2021-08-04 00:00:00\n",
            "2021-08-05 00:00:00 2021-08-13 00:00:00\n",
            "2021-08-14 00:00:00 2021-08-22 00:00:00\n",
            "2021-08-23 00:00:00 2021-08-31 00:00:00\n",
            "2021-09-01 00:00:00 2021-09-09 00:00:00\n",
            "2021-09-10 00:00:00 2021-09-18 00:00:00\n",
            "2021-06-03 00:00:00 2021-06-11 00:00:00\n",
            "2021-06-12 00:00:00 2021-06-20 00:00:00\n",
            "2021-06-21 00:00:00 2021-06-29 00:00:00\n",
            "2021-06-30 00:00:00 2021-07-08 00:00:00\n",
            "2021-07-09 00:00:00 2021-07-17 00:00:00\n",
            "2021-07-18 00:00:00 2021-07-26 00:00:00\n",
            "2021-07-27 00:00:00 2021-08-04 00:00:00\n",
            "2021-08-05 00:00:00 2021-08-13 00:00:00\n",
            "2021-08-14 00:00:00 2021-08-22 00:00:00\n",
            "2021-08-23 00:00:00 2021-08-31 00:00:00\n",
            "2021-09-01 00:00:00 2021-09-09 00:00:00\n",
            "2021-09-10 00:00:00 2021-09-18 00:00:00\n",
            "2021-06-03 00:00:00 2021-06-11 00:00:00\n",
            "2021-06-12 00:00:00 2021-06-20 00:00:00\n",
            "2021-06-21 00:00:00 2021-06-29 00:00:00\n",
            "2021-06-30 00:00:00 2021-07-08 00:00:00\n",
            "2021-07-09 00:00:00 2021-07-17 00:00:00\n",
            "2021-07-18 00:00:00 2021-07-26 00:00:00\n",
            "2021-07-27 00:00:00 2021-08-04 00:00:00\n",
            "2021-08-05 00:00:00 2021-08-13 00:00:00\n",
            "2021-08-14 00:00:00 2021-08-22 00:00:00\n",
            "2021-08-23 00:00:00 2021-08-31 00:00:00\n",
            "2021-09-01 00:00:00 2021-09-09 00:00:00\n",
            "2021-09-10 00:00:00 2021-09-18 00:00:00\n",
            "2021-06-03 00:00:00 2021-06-11 00:00:00\n",
            "2021-06-12 00:00:00 2021-06-20 00:00:00\n",
            "2021-06-21 00:00:00 2021-06-29 00:00:00\n",
            "2021-06-30 00:00:00 2021-07-08 00:00:00\n",
            "2021-07-09 00:00:00 2021-07-17 00:00:00\n",
            "2021-07-18 00:00:00 2021-07-26 00:00:00\n",
            "2021-07-27 00:00:00 2021-08-04 00:00:00\n",
            "2021-08-05 00:00:00 2021-08-13 00:00:00\n",
            "2021-08-14 00:00:00 2021-08-22 00:00:00\n",
            "2021-08-23 00:00:00 2021-08-31 00:00:00\n",
            "2021-09-01 00:00:00 2021-09-09 00:00:00\n",
            "2021-09-10 00:00:00 2021-09-18 00:00:00\n",
            "2021-06-03 00:00:00 2021-06-11 00:00:00\n",
            "2021-06-12 00:00:00 2021-06-20 00:00:00\n",
            "2021-06-21 00:00:00 2021-06-29 00:00:00\n",
            "2021-06-30 00:00:00 2021-07-08 00:00:00\n",
            "2021-07-09 00:00:00 2021-07-17 00:00:00\n",
            "2021-07-18 00:00:00 2021-07-26 00:00:00\n",
            "2021-07-27 00:00:00 2021-08-04 00:00:00\n",
            "2021-08-05 00:00:00 2021-08-13 00:00:00\n",
            "2021-08-14 00:00:00 2021-08-22 00:00:00\n",
            "2021-08-23 00:00:00 2021-08-31 00:00:00\n",
            "2021-09-01 00:00:00 2021-09-09 00:00:00\n",
            "2021-09-10 00:00:00 2021-09-18 00:00:00\n",
            "2021-06-03 00:00:00 2021-06-11 00:00:00\n",
            "2021-06-12 00:00:00 2021-06-20 00:00:00\n",
            "2021-06-21 00:00:00 2021-06-29 00:00:00\n",
            "2021-06-30 00:00:00 2021-07-08 00:00:00\n",
            "2021-07-09 00:00:00 2021-07-17 00:00:00\n",
            "2021-07-18 00:00:00 2021-07-26 00:00:00\n",
            "2021-07-27 00:00:00 2021-08-04 00:00:00\n",
            "2021-08-05 00:00:00 2021-08-13 00:00:00\n",
            "2021-08-14 00:00:00 2021-08-22 00:00:00\n",
            "2021-08-23 00:00:00 2021-08-31 00:00:00\n",
            "2021-09-01 00:00:00 2021-09-09 00:00:00\n",
            "2021-09-10 00:00:00 2021-09-18 00:00:00\n",
            "2021-06-03 00:00:00 2021-06-11 00:00:00\n",
            "2021-06-12 00:00:00 2021-06-20 00:00:00\n",
            "2021-06-21 00:00:00 2021-06-29 00:00:00\n",
            "2021-06-30 00:00:00 2021-07-08 00:00:00\n",
            "2021-07-09 00:00:00 2021-07-17 00:00:00\n",
            "2021-07-18 00:00:00 2021-07-26 00:00:00\n",
            "2021-07-27 00:00:00 2021-08-04 00:00:00\n",
            "2021-08-05 00:00:00 2021-08-13 00:00:00\n",
            "2021-08-14 00:00:00 2021-08-22 00:00:00\n",
            "2021-08-23 00:00:00 2021-08-31 00:00:00\n",
            "2021-09-01 00:00:00 2021-09-09 00:00:00\n",
            "2021-09-10 00:00:00 2021-09-18 00:00:00\n"
          ]
        },
        {
          "output_type": "execute_result",
          "data": {
            "text/plain": [
              "[9.752444816668898,\n",
              " 19.274474044107205,\n",
              " 18.57080993305603,\n",
              " 17.936655864556382,\n",
              " 18.282129263441288,\n",
              " 19.612591841510504,\n",
              " 9.76482743284841,\n",
              " 18.801936918068943,\n",
              " 9.958871109279112,\n",
              " 19.460084876555808]"
            ]
          },
          "metadata": {},
          "execution_count": 139
        }
      ]
    },
    {
      "cell_type": "code",
      "metadata": {
        "colab": {
          "base_uri": "https://localhost:8080/",
          "height": 497
        },
        "id": "z0Sf1eBj0EHW",
        "outputId": "d47d7f44-f253-4d5a-82f5-521bca986176"
      },
      "source": [
        "model=sm.tsa.statespace.SARIMAX(df4['品川'],exog=exog_shina[305:], order=(1,0,1), seasonal_order=(1,1,1,7))\n",
        "fit = model.fit()\n",
        "start = pd.to_datetime('2021-09-27 00:00:00')\n",
        "end = pd.to_datetime('2021-10-05 00:00:00')\n",
        "pred = fit.predict(start=start, end=end, exog=pred_exog_shina)\n",
        "result.append(pred)\n",
        "sns.lineplot(x='日付', y='品川',data=df4[-50:])\n",
        "sns.lineplot(data=pred)\n",
        "plt.xticks(rotation=90)\n",
        "pred"
      ],
      "execution_count": null,
      "outputs": [
        {
          "output_type": "execute_result",
          "data": {
            "text/plain": [
              "2021-09-27    38834.885514\n",
              "2021-09-28    38727.120718\n",
              "2021-09-29    39591.071241\n",
              "2021-09-30    39509.220590\n",
              "2021-10-01    41052.152254\n",
              "2021-10-02    22186.684535\n",
              "2021-10-03    19544.484789\n",
              "2021-10-04    38461.135745\n",
              "2021-10-05    38561.302892\n",
              "Freq: D, dtype: float64"
            ]
          },
          "metadata": {},
          "execution_count": 28
        },
        {
          "output_type": "display_data",
          "data": {
            "image/png": "[encoded data removed]",
            "text/plain": [
              "<Figure size 432x288 with 1 Axes>"
            ]
          },
          "metadata": {
            "needs_background": "light"
          }
        }
      ]
    },
    {
      "cell_type": "code",
      "metadata": {
        "colab": {
          "base_uri": "https://localhost:8080/",
          "height": 297
        },
        "id": "qce_4xTI5awK",
        "outputId": "1a451e51-ad28-4f5d-aadd-38a36fc0e5ea"
      },
      "source": [
        "pred = pd.DataFrame()\n",
        "syntex(pred)\n",
        "exog_xiabei = pd.DataFrame()\n",
        "exog_xiabei['日付'] = pd.date_range(start='01/01/2020', periods=631, freq='D')\n",
        "pred_exog_xiabei = pd.DataFrame()\n",
        "pred_exog_xiabei['日付'] = pd.date_range(start='09/23/2020', periods=13, freq='D')\n",
        "found = 0\n",
        "for cols in Shimokitazawa_list:\n",
        "  col, r = cols\n",
        "  if col == 'off':\n",
        "    found = 1\n",
        "    continue\n",
        "  if col not in pred.columns:\n",
        "    continue\n",
        "  exog_xiabei[col] = pd_x[col].values\n",
        "  pred_exog_xiabei[col] = pred[col].values\n",
        "if found:\n",
        "  exog_xiabei['off'] = pd_x['off'].values\n",
        "  pred_exog_xiabei['off'] = pred['off'].values\n",
        "exog_xiabei = exog_xiabei.set_index('日付')\n",
        "pred_exog_xiabei = pred_exog_xiabei.set_index('日付')\n",
        "pred_exog_xiabei.tail(7)"
      ],
      "execution_count": null,
      "outputs": [
        {
          "output_type": "execute_result",
          "data": {
            "text/html": [
              "<div>\n",
              "<style scoped>\n",
              "    .dataframe tbody tr th:only-of-type {\n",
              "        vertical-align: middle;\n",
              "    }\n",
              "\n",
              "    .dataframe tbody tr th {\n",
              "        vertical-align: top;\n",
              "    }\n",
              "\n",
              "    .dataframe thead th {\n",
              "        text-align: right;\n",
              "    }\n",
              "</style>\n",
              "<table border=\"1\" class=\"dataframe\">\n",
              "  <thead>\n",
              "    <tr style=\"text-align: right;\">\n",
              "      <th></th>\n",
              "      <th>漫画</th>\n",
              "    </tr>\n",
              "    <tr>\n",
              "      <th>日付</th>\n",
              "      <th></th>\n",
              "    </tr>\n",
              "  </thead>\n",
              "  <tbody>\n",
              "    <tr>\n",
              "      <th>2020-09-29</th>\n",
              "      <td>4096.047758</td>\n",
              "    </tr>\n",
              "    <tr>\n",
              "      <th>2020-09-30</th>\n",
              "      <td>4145.322291</td>\n",
              "    </tr>\n",
              "    <tr>\n",
              "      <th>2020-10-01</th>\n",
              "      <td>4231.620766</td>\n",
              "    </tr>\n",
              "    <tr>\n",
              "      <th>2020-10-02</th>\n",
              "      <td>4899.893344</td>\n",
              "    </tr>\n",
              "    <tr>\n",
              "      <th>2020-10-03</th>\n",
              "      <td>4852.524501</td>\n",
              "    </tr>\n",
              "    <tr>\n",
              "      <th>2020-10-04</th>\n",
              "      <td>4255.255303</td>\n",
              "    </tr>\n",
              "    <tr>\n",
              "      <th>2020-10-05</th>\n",
              "      <td>4107.752670</td>\n",
              "    </tr>\n",
              "  </tbody>\n",
              "</table>\n",
              "</div>"
            ],
            "text/plain": [
              "                     漫画\n",
              "日付                     \n",
              "2020-09-29  4096.047758\n",
              "2020-09-30  4145.322291\n",
              "2020-10-01  4231.620766\n",
              "2020-10-02  4899.893344\n",
              "2020-10-03  4852.524501\n",
              "2020-10-04  4255.255303\n",
              "2020-10-05  4107.752670"
            ]
          },
          "metadata": {},
          "execution_count": 29
        }
      ]
    },
    {
      "cell_type": "code",
      "metadata": {
        "colab": {
          "base_uri": "https://localhost:8080/"
        },
        "id": "Hh77jEWh41TJ",
        "outputId": "24712bbc-d40f-48b4-ef52-a50f82ce027b"
      },
      "source": [
        "xiabei_pdq_list = get_list(df5['下北沢'], exog_xiabei[305:])\n",
        "print(xiabei_pdq_list)\n",
        "scores_xiabei = get_cv_scores(df5['下北沢'], exog_xiabei[305:], xiabei_pdq_list)\n",
        "print(scores_xiabei)\n"
      ],
      "execution_count": null,
      "outputs": [
        {
          "output_type": "stream",
          "name": "stdout",
          "text": [
            "[(5391.973778739337, (1, 1, 1), (0, 1, 1, 7)), (5393.950951468158, (1, 1, 1), (1, 1, 1, 7)), (5404.3505223741595, (0, 1, 1), (0, 1, 1, 7)), (5406.307538631136, (0, 1, 1), (1, 1, 1, 7)), (5412.010807954757, (1, 0, 1), (0, 1, 1, 7)), (5413.96122287326, (1, 0, 1), (1, 1, 1, 7)), (5426.288705539226, (1, 1, 0), (0, 1, 1, 7)), (5428.050357887356, (1, 1, 0), (1, 1, 1, 7)), (5438.970176381343, (1, 0, 0), (0, 1, 1, 7)), (5440.581127366307, (1, 0, 0), (1, 1, 1, 7))]\n",
            "[11.024232096220805, 11.308329036259304, 11.130791921493596, 11.463734420092564, 9.666907850431292, 9.399380805068192, 11.020869065462984, 11.3047206234744, 9.440460136627795, 9.443375054788364]\n"
          ]
        }
      ]
    },
    {
      "cell_type": "code",
      "metadata": {
        "colab": {
          "base_uri": "https://localhost:8080/"
        },
        "id": "m7nD4KK27Mtl",
        "outputId": "b55cf8a1-9a3b-4e2a-a12d-88fb2ebc6cde"
      },
      "source": [
        "xiabei_pdq_list"
      ],
      "execution_count": null,
      "outputs": [
        {
          "output_type": "execute_result",
          "data": {
            "text/plain": [
              "[(5391.973778739337, (1, 1, 1), (0, 1, 1, 7)),\n",
              " (5393.950951468158, (1, 1, 1), (1, 1, 1, 7)),\n",
              " (5404.3505223741595, (0, 1, 1), (0, 1, 1, 7)),\n",
              " (5406.307538631136, (0, 1, 1), (1, 1, 1, 7)),\n",
              " (5412.010807954757, (1, 0, 1), (0, 1, 1, 7)),\n",
              " (5413.96122287326, (1, 0, 1), (1, 1, 1, 7)),\n",
              " (5426.288705539226, (1, 1, 0), (0, 1, 1, 7)),\n",
              " (5428.050357887356, (1, 1, 0), (1, 1, 1, 7)),\n",
              " (5438.970176381343, (1, 0, 0), (0, 1, 1, 7)),\n",
              " (5440.581127366307, (1, 0, 0), (1, 1, 1, 7))]"
            ]
          },
          "metadata": {},
          "execution_count": 146
        }
      ]
    },
    {
      "cell_type": "code",
      "metadata": {
        "colab": {
          "base_uri": "https://localhost:8080/"
        },
        "id": "wSY4SXDc7Q02",
        "outputId": "e4dd9ab3-a127-41f5-8713-368af249cae1"
      },
      "source": [
        "scores_xiabei"
      ],
      "execution_count": null,
      "outputs": [
        {
          "output_type": "execute_result",
          "data": {
            "text/plain": [
              "[11.024232096220805,\n",
              " 11.308329036259304,\n",
              " 11.130791921493596,\n",
              " 11.463734420092564,\n",
              " 9.666907850431292,\n",
              " 9.399380805068192,\n",
              " 11.020869065462984,\n",
              " 11.3047206234744,\n",
              " 9.440460136627795,\n",
              " 9.443375054788364]"
            ]
          },
          "metadata": {},
          "execution_count": 147
        }
      ]
    },
    {
      "cell_type": "code",
      "metadata": {
        "colab": {
          "base_uri": "https://localhost:8080/",
          "height": 497
        },
        "id": "2pn4Ezcf5Vx2",
        "outputId": "78c2874b-00cc-4a16-f86e-5a1a9f87ccf8"
      },
      "source": [
        "model=sm.tsa.statespace.SARIMAX(df5['下北沢'],exog=exog_xiabei[305:], order=(1,0,1), seasonal_order=(1,1,1,7))\n",
        "fit = model.fit()\n",
        "start = pd.to_datetime('2021-09-27 00:00:00')\n",
        "end = pd.to_datetime('2021-10-05 00:00:00')\n",
        "pred = fit.predict(start=start, end=end, exog=pred_exog_xiabei)\n",
        "result.append(pred)\n",
        "sns.lineplot(x='日付', y='下北沢',data=df5[-50:])\n",
        "sns.lineplot(data=pred)\n",
        "plt.xticks(rotation=90)\n",
        "pred"
      ],
      "execution_count": null,
      "outputs": [
        {
          "output_type": "execute_result",
          "data": {
            "text/plain": [
              "2021-09-27    15620.034909\n",
              "2021-09-28    15885.879163\n",
              "2021-09-29    16121.233879\n",
              "2021-09-30    16055.048966\n",
              "2021-10-01    16816.369864\n",
              "2021-10-02    14129.139631\n",
              "2021-10-03    12953.641842\n",
              "2021-10-04    15434.038492\n",
              "2021-10-05    15793.564497\n",
              "Freq: D, dtype: float64"
            ]
          },
          "metadata": {},
          "execution_count": 30
        },
        {
          "output_type": "display_data",
          "data": {
            "image/png": "[encoded data removed]",
            "text/plain": [
              "<Figure size 432x288 with 1 Axes>"
            ]
          },
          "metadata": {
            "needs_background": "light"
          }
        }
      ]
    },
    {
      "cell_type": "code",
      "metadata": {
        "colab": {
          "base_uri": "https://localhost:8080/",
          "height": 297
        },
        "id": "7XlE3oG67v9X",
        "outputId": "6206816d-2a64-4b5d-e2b9-56e0856b818f"
      },
      "source": [
        "pred = pd.DataFrame()\n",
        "syntex(pred)\n",
        "exog_hachi = pd.DataFrame()\n",
        "exog_hachi['日付'] = pd.date_range(start='01/01/2020', periods=631, freq='D')\n",
        "pred_exog_hachi = pd.DataFrame()\n",
        "pred_exog_hachi['日付'] = pd.date_range(start='09/23/2020', periods=13, freq='D')\n",
        "for cols in hachi_list:\n",
        "  col, r = cols\n",
        "  if col not in pred.columns:\n",
        "    continue\n",
        "  exog_hachi[col] = pd_x[col].values\n",
        "  pred_exog_hachi[col] = pred[col].values\n",
        "exog_hachi = exog_hachi.set_index('日付')\n",
        "pred_exog_hachi = pred_exog_hachi.set_index('日付')\n",
        "pred_exog_hachi.tail(7)"
      ],
      "execution_count": null,
      "outputs": [
        {
          "output_type": "execute_result",
          "data": {
            "text/html": [
              "<div>\n",
              "<style scoped>\n",
              "    .dataframe tbody tr th:only-of-type {\n",
              "        vertical-align: middle;\n",
              "    }\n",
              "\n",
              "    .dataframe tbody tr th {\n",
              "        vertical-align: top;\n",
              "    }\n",
              "\n",
              "    .dataframe thead th {\n",
              "        text-align: right;\n",
              "    }\n",
              "</style>\n",
              "<table border=\"1\" class=\"dataframe\">\n",
              "  <thead>\n",
              "    <tr style=\"text-align: right;\">\n",
              "      <th></th>\n",
              "      <th>漫画</th>\n",
              "      <th>デリバリー</th>\n",
              "      <th>off</th>\n",
              "    </tr>\n",
              "    <tr>\n",
              "      <th>日付</th>\n",
              "      <th></th>\n",
              "      <th></th>\n",
              "      <th></th>\n",
              "    </tr>\n",
              "  </thead>\n",
              "  <tbody>\n",
              "    <tr>\n",
              "      <th>2020-09-29</th>\n",
              "      <td>4096.047758</td>\n",
              "      <td>429.857054</td>\n",
              "      <td>0</td>\n",
              "    </tr>\n",
              "    <tr>\n",
              "      <th>2020-09-30</th>\n",
              "      <td>4145.322291</td>\n",
              "      <td>460.336679</td>\n",
              "      <td>0</td>\n",
              "    </tr>\n",
              "    <tr>\n",
              "      <th>2020-10-01</th>\n",
              "      <td>4231.620766</td>\n",
              "      <td>473.656713</td>\n",
              "      <td>0</td>\n",
              "    </tr>\n",
              "    <tr>\n",
              "      <th>2020-10-02</th>\n",
              "      <td>4899.893344</td>\n",
              "      <td>652.041535</td>\n",
              "      <td>1</td>\n",
              "    </tr>\n",
              "    <tr>\n",
              "      <th>2020-10-03</th>\n",
              "      <td>4852.524501</td>\n",
              "      <td>648.798255</td>\n",
              "      <td>1</td>\n",
              "    </tr>\n",
              "    <tr>\n",
              "      <th>2020-10-04</th>\n",
              "      <td>4255.255303</td>\n",
              "      <td>420.029137</td>\n",
              "      <td>0</td>\n",
              "    </tr>\n",
              "    <tr>\n",
              "      <th>2020-10-05</th>\n",
              "      <td>4107.752670</td>\n",
              "      <td>427.999884</td>\n",
              "      <td>0</td>\n",
              "    </tr>\n",
              "  </tbody>\n",
              "</table>\n",
              "</div>"
            ],
            "text/plain": [
              "                     漫画       デリバリー  off\n",
              "日付                                      \n",
              "2020-09-29  4096.047758  429.857054    0\n",
              "2020-09-30  4145.322291  460.336679    0\n",
              "2020-10-01  4231.620766  473.656713    0\n",
              "2020-10-02  4899.893344  652.041535    1\n",
              "2020-10-03  4852.524501  648.798255    1\n",
              "2020-10-04  4255.255303  420.029137    0\n",
              "2020-10-05  4107.752670  427.999884    0"
            ]
          },
          "metadata": {},
          "execution_count": 31
        }
      ]
    },
    {
      "cell_type": "code",
      "metadata": {
        "colab": {
          "base_uri": "https://localhost:8080/"
        },
        "id": "ZOryx1mz8Q1c",
        "outputId": "0ba428e8-a2dc-45ae-e19d-7bca891be320"
      },
      "source": [
        "hachi_pdq_list = get_list(df6['八王子'], exog_hachi[305:])\n",
        "\n",
        "scores_hachi = get_cv_scores(df6['八王子'], exog_hachi[305:], hachi_pdq_list)\n",
        "scores_hachi"
      ],
      "execution_count": null,
      "outputs": [
        {
          "output_type": "execute_result",
          "data": {
            "text/plain": [
              "[10.032343878696574,\n",
              " 10.207143834709695,\n",
              " 10.727780516179186,\n",
              " 10.864465776218692,\n",
              " 10.028886466027538,\n",
              " 9.984951188210138,\n",
              " 10.669759225834587,\n",
              " 10.872140273073036,\n",
              " 9.137466392171278,\n",
              " 9.750665407902057]"
            ]
          },
          "metadata": {},
          "execution_count": 153
        }
      ]
    },
    {
      "cell_type": "code",
      "metadata": {
        "colab": {
          "base_uri": "https://localhost:8080/"
        },
        "id": "r93KefUY9p19",
        "outputId": "2e281386-a1a4-49cc-9325-7af836d67749"
      },
      "source": [
        "hachi_pdq_list"
      ],
      "execution_count": null,
      "outputs": [
        {
          "output_type": "execute_result",
          "data": {
            "text/plain": [
              "[(4684.806445527475, (1, 1, 1), (0, 1, 1, 7)),\n",
              " (4686.70715926517, (1, 1, 1), (1, 1, 1, 7)),\n",
              " (4689.985629405464, (0, 1, 1), (0, 1, 1, 7)),\n",
              " (4691.948276372281, (0, 1, 1), (1, 1, 1, 7)),\n",
              " (4693.207916097376, (1, 0, 1), (0, 1, 1, 7)),\n",
              " (4693.6310519120525, (1, 0, 1), (1, 1, 1, 7)),\n",
              " (4713.766607689799, (1, 1, 0), (0, 1, 1, 7)),\n",
              " (4715.593264788948, (1, 1, 0), (1, 1, 1, 7)),\n",
              " (4725.81798755036, (1, 0, 0), (1, 1, 1, 7)),\n",
              " (4728.146594485928, (1, 0, 0), (0, 1, 1, 7))]"
            ]
          },
          "metadata": {},
          "execution_count": 154
        }
      ]
    },
    {
      "cell_type": "code",
      "metadata": {
        "colab": {
          "base_uri": "https://localhost:8080/",
          "height": 498
        },
        "id": "5GXB2WJg9tMh",
        "outputId": "c33b25ed-2768-4754-817d-48f04cd1adb3"
      },
      "source": [
        "model=sm.tsa.statespace.SARIMAX(df6['八王子'],exog=exog_hachi[305:], order=(1,0,0), seasonal_order=(1,1,1,7))\n",
        "fit = model.fit()\n",
        "start = pd.to_datetime('2021-09-27 00:00:00')\n",
        "end = pd.to_datetime('2021-10-05 00:00:00')\n",
        "pred = fit.predict(start=start, end=end, exog=pred_exog_hachi)\n",
        "result.append(pred)\n",
        "sns.lineplot(x='日付', y='八王子',data=df6[-50:])\n",
        "sns.lineplot(data=pred)\n",
        "plt.xticks(rotation=90)\n",
        "pred"
      ],
      "execution_count": null,
      "outputs": [
        {
          "output_type": "execute_result",
          "data": {
            "text/plain": [
              "2021-09-27    5966.400108\n",
              "2021-09-28    5949.856446\n",
              "2021-09-29    6098.994800\n",
              "2021-09-30    5983.717164\n",
              "2021-10-01    6342.727385\n",
              "2021-10-02    5225.810851\n",
              "2021-10-03    4413.617460\n",
              "2021-10-04    5832.660532\n",
              "2021-10-05    5912.567720\n",
              "Freq: D, dtype: float64"
            ]
          },
          "metadata": {},
          "execution_count": 32
        },
        {
          "output_type": "display_data",
          "data": {
            "image/png": "[encoded data removed]",
            "text/plain": [
              "<Figure size 432x288 with 1 Axes>"
            ]
          },
          "metadata": {
            "needs_background": "light"
          }
        }
      ]
    },
    {
      "cell_type": "code",
      "metadata": {
        "colab": {
          "base_uri": "https://localhost:8080/",
          "height": 297
        },
        "id": "B7w6Izqs-Brv",
        "outputId": "66f1f8d2-154f-4dd5-d38c-149a742908a7"
      },
      "source": [
        "pred = pd.DataFrame()\n",
        "syntex(pred)\n",
        "exog_osaka = pd.DataFrame()\n",
        "exog_osaka['日付'] = pd.date_range(start='01/01/2020', periods=631, freq='D')\n",
        "pred_exog_osaka = pd.DataFrame()\n",
        "pred_exog_osaka['日付'] = pd.date_range(start='09/23/2020', periods=13, freq='D')\n",
        "for cols in osaka_list:\n",
        "  col, r = cols\n",
        "  if col not in pred.columns:\n",
        "    continue\n",
        "  exog_osaka[col] = pd_x[col].values\n",
        "  pred_exog_osaka[col] = pred[col].values\n",
        "exog_osaka = exog_osaka.set_index('日付')\n",
        "pred_exog_osaka = pred_exog_osaka.set_index('日付')\n",
        "pred_exog_osaka.tail(7)"
      ],
      "execution_count": null,
      "outputs": [
        {
          "output_type": "execute_result",
          "data": {
            "text/html": [
              "<div>\n",
              "<style scoped>\n",
              "    .dataframe tbody tr th:only-of-type {\n",
              "        vertical-align: middle;\n",
              "    }\n",
              "\n",
              "    .dataframe tbody tr th {\n",
              "        vertical-align: top;\n",
              "    }\n",
              "\n",
              "    .dataframe thead th {\n",
              "        text-align: right;\n",
              "    }\n",
              "</style>\n",
              "<table border=\"1\" class=\"dataframe\">\n",
              "  <thead>\n",
              "    <tr style=\"text-align: right;\">\n",
              "      <th></th>\n",
              "      <th>デリバリー</th>\n",
              "    </tr>\n",
              "    <tr>\n",
              "      <th>日付</th>\n",
              "      <th></th>\n",
              "    </tr>\n",
              "  </thead>\n",
              "  <tbody>\n",
              "    <tr>\n",
              "      <th>2020-09-29</th>\n",
              "      <td>429.857054</td>\n",
              "    </tr>\n",
              "    <tr>\n",
              "      <th>2020-09-30</th>\n",
              "      <td>460.336679</td>\n",
              "    </tr>\n",
              "    <tr>\n",
              "      <th>2020-10-01</th>\n",
              "      <td>473.656713</td>\n",
              "    </tr>\n",
              "    <tr>\n",
              "      <th>2020-10-02</th>\n",
              "      <td>652.041535</td>\n",
              "    </tr>\n",
              "    <tr>\n",
              "      <th>2020-10-03</th>\n",
              "      <td>648.798255</td>\n",
              "    </tr>\n",
              "    <tr>\n",
              "      <th>2020-10-04</th>\n",
              "      <td>420.029137</td>\n",
              "    </tr>\n",
              "    <tr>\n",
              "      <th>2020-10-05</th>\n",
              "      <td>427.999884</td>\n",
              "    </tr>\n",
              "  </tbody>\n",
              "</table>\n",
              "</div>"
            ],
            "text/plain": [
              "                 デリバリー\n",
              "日付                    \n",
              "2020-09-29  429.857054\n",
              "2020-09-30  460.336679\n",
              "2020-10-01  473.656713\n",
              "2020-10-02  652.041535\n",
              "2020-10-03  648.798255\n",
              "2020-10-04  420.029137\n",
              "2020-10-05  427.999884"
            ]
          },
          "metadata": {},
          "execution_count": 33
        }
      ]
    },
    {
      "cell_type": "code",
      "metadata": {
        "colab": {
          "base_uri": "https://localhost:8080/"
        },
        "id": "6N8174uv-N82",
        "outputId": "360084d8-a611-43a4-cf01-3ce333169c91"
      },
      "source": [
        "osaka_pdq_list = get_list(df7['大阪難波'], exog_osaka[305:])\n",
        "scores_osaka = get_cv_scores(df7['大阪難波'], exog_osaka[305:], osaka_pdq_list)\n",
        "osaka_pdq_list"
      ],
      "execution_count": null,
      "outputs": [
        {
          "output_type": "execute_result",
          "data": {
            "text/plain": [
              "[(5836.726520827949, (1, 0, 1), (1, 1, 1, 7)),\n",
              " (5839.083179950302, (0, 1, 1), (1, 1, 1, 7)),\n",
              " (5839.189919774287, (1, 0, 1), (0, 1, 1, 7)),\n",
              " (5839.233345096974, (0, 1, 1), (0, 1, 1, 7)),\n",
              " (5845.868957913632, (1, 1, 1), (0, 1, 1, 7)),\n",
              " (5847.554355645205, (1, 1, 1), (1, 1, 1, 7)),\n",
              " (5862.079312260226, (1, 0, 0), (1, 1, 1, 7)),\n",
              " (5864.94934336265, (1, 1, 0), (1, 1, 1, 7)),\n",
              " (5865.826698155942, (1, 1, 0), (0, 1, 1, 7)),\n",
              " (5873.8820318847875, (0, 1, 0), (1, 1, 1, 7))]"
            ]
          },
          "metadata": {},
          "execution_count": 164
        }
      ]
    },
    {
      "cell_type": "code",
      "metadata": {
        "colab": {
          "base_uri": "https://localhost:8080/"
        },
        "id": "_RigoCRD_kiL",
        "outputId": "d53241ad-83e2-4807-dcf3-de9b89b80d2c"
      },
      "source": [
        "scores_osaka"
      ],
      "execution_count": null,
      "outputs": [
        {
          "output_type": "execute_result",
          "data": {
            "text/plain": [
              "[8.371291842162288,\n",
              " 10.077483197818953,\n",
              " 8.344229144771022,\n",
              " 9.88747048879863,\n",
              " 9.535156124859567,\n",
              " 9.294218436917637,\n",
              " 8.956810786512323,\n",
              " 10.118744277525535,\n",
              " 9.964525106964297,\n",
              " 10.13024187863136]"
            ]
          },
          "metadata": {},
          "execution_count": 165
        }
      ]
    },
    {
      "cell_type": "code",
      "metadata": {
        "colab": {
          "base_uri": "https://localhost:8080/",
          "height": 497
        },
        "id": "p7YDD8yd_t0X",
        "outputId": "c225aa3e-d084-493a-bf1f-d4395cd75786"
      },
      "source": [
        "model=sm.tsa.statespace.SARIMAX(df7['大阪難波'],exog=exog_osaka[305:], order=(1,0,1), seasonal_order=(0,1,1,7))\n",
        "fit = model.fit()\n",
        "start = pd.to_datetime('2021-09-27 00:00:00')\n",
        "end = pd.to_datetime('2021-10-05 00:00:00')\n",
        "pred = fit.predict(start=start, end=end, exog=pred_exog_osaka)\n",
        "result.append(pred)\n",
        "sns.lineplot(x='日付', y='大阪難波',data=df7[-50:])\n",
        "sns.lineplot(data=pred)\n",
        "plt.xticks(rotation=90)\n",
        "pred"
      ],
      "execution_count": null,
      "outputs": [
        {
          "output_type": "execute_result",
          "data": {
            "text/plain": [
              "2021-09-27    29994.442122\n",
              "2021-09-28    30218.130122\n",
              "2021-09-29    30617.840722\n",
              "2021-09-30    30491.509226\n",
              "2021-10-01    32222.045093\n",
              "2021-10-02    27677.684274\n",
              "2021-10-03    24797.395256\n",
              "2021-10-04    29778.271395\n",
              "2021-10-05    30213.296603\n",
              "Freq: D, dtype: float64"
            ]
          },
          "metadata": {},
          "execution_count": 34
        },
        {
          "output_type": "display_data",
          "data": {
            "image/png": "[encoded data removed]",
            "text/plain": [
              "<Figure size 432x288 with 1 Axes>"
            ]
          },
          "metadata": {
            "needs_background": "light"
          }
        }
      ]
    },
    {
      "cell_type": "code",
      "metadata": {
        "colab": {
          "base_uri": "https://localhost:8080/",
          "height": 297
        },
        "id": "AvVBRfuDApm4",
        "outputId": "85ce0a86-6bc7-4b15-e842-278eb81e9983"
      },
      "source": [
        "pred = pd.DataFrame()\n",
        "syntex(pred)\n",
        "exog_zha = pd.DataFrame()\n",
        "exog_zha['日付'] = pd.date_range(start='01/01/2020', periods=631, freq='D')\n",
        "pred_exog_zha = pd.DataFrame()\n",
        "pred_exog_zha['日付'] = pd.date_range(start='09/23/2020', periods=13, freq='D')\n",
        "for cols in zha_list:\n",
        "  col, r = cols\n",
        "  if col not in pred.columns:\n",
        "    continue\n",
        "  if col == 'off':\n",
        "    continue\n",
        "  exog_zha[col] = pd_x[col].values\n",
        "  pred_exog_zha[col] = pred[col].values\n",
        "exog_zha['off'] = pd_x['off'].values\n",
        "pred_exog_zha['off'] = pred['off'].values\n",
        "exog_zha = exog_zha.set_index('日付')\n",
        "pred_exog_zha = pred_exog_zha.set_index('日付')\n",
        "pred_exog_zha.tail(7)"
      ],
      "execution_count": null,
      "outputs": [
        {
          "output_type": "execute_result",
          "data": {
            "text/html": [
              "<div>\n",
              "<style scoped>\n",
              "    .dataframe tbody tr th:only-of-type {\n",
              "        vertical-align: middle;\n",
              "    }\n",
              "\n",
              "    .dataframe tbody tr th {\n",
              "        vertical-align: top;\n",
              "    }\n",
              "\n",
              "    .dataframe thead th {\n",
              "        text-align: right;\n",
              "    }\n",
              "</style>\n",
              "<table border=\"1\" class=\"dataframe\">\n",
              "  <thead>\n",
              "    <tr style=\"text-align: right;\">\n",
              "      <th></th>\n",
              "      <th>漫画</th>\n",
              "      <th>off</th>\n",
              "    </tr>\n",
              "    <tr>\n",
              "      <th>日付</th>\n",
              "      <th></th>\n",
              "      <th></th>\n",
              "    </tr>\n",
              "  </thead>\n",
              "  <tbody>\n",
              "    <tr>\n",
              "      <th>2020-09-29</th>\n",
              "      <td>4096.047758</td>\n",
              "      <td>0</td>\n",
              "    </tr>\n",
              "    <tr>\n",
              "      <th>2020-09-30</th>\n",
              "      <td>4145.322291</td>\n",
              "      <td>0</td>\n",
              "    </tr>\n",
              "    <tr>\n",
              "      <th>2020-10-01</th>\n",
              "      <td>4231.620766</td>\n",
              "      <td>0</td>\n",
              "    </tr>\n",
              "    <tr>\n",
              "      <th>2020-10-02</th>\n",
              "      <td>4899.893344</td>\n",
              "      <td>1</td>\n",
              "    </tr>\n",
              "    <tr>\n",
              "      <th>2020-10-03</th>\n",
              "      <td>4852.524501</td>\n",
              "      <td>1</td>\n",
              "    </tr>\n",
              "    <tr>\n",
              "      <th>2020-10-04</th>\n",
              "      <td>4255.255303</td>\n",
              "      <td>0</td>\n",
              "    </tr>\n",
              "    <tr>\n",
              "      <th>2020-10-05</th>\n",
              "      <td>4107.752670</td>\n",
              "      <td>0</td>\n",
              "    </tr>\n",
              "  </tbody>\n",
              "</table>\n",
              "</div>"
            ],
            "text/plain": [
              "                     漫画  off\n",
              "日付                          \n",
              "2020-09-29  4096.047758    0\n",
              "2020-09-30  4145.322291    0\n",
              "2020-10-01  4231.620766    0\n",
              "2020-10-02  4899.893344    1\n",
              "2020-10-03  4852.524501    1\n",
              "2020-10-04  4255.255303    0\n",
              "2020-10-05  4107.752670    0"
            ]
          },
          "metadata": {},
          "execution_count": 35
        }
      ]
    },
    {
      "cell_type": "code",
      "metadata": {
        "colab": {
          "base_uri": "https://localhost:8080/"
        },
        "id": "2t2e6RcBAR-G",
        "outputId": "93c7ff32-6663-4d43-fc9d-561bcc63d73a"
      },
      "source": [
        "zha_pdq_list = get_list(df8['札幌大通'], exog_zha[305:])\n",
        "scores_zha = get_cv_scores(df8['札幌大通'], exog_zha[305:], zha_pdq_list)\n",
        "zha_pdq_list"
      ],
      "execution_count": null,
      "outputs": [
        {
          "output_type": "execute_result",
          "data": {
            "text/plain": [
              "[(5237.937166107591, (1, 1, 1), (0, 1, 1, 7)),\n",
              " (5239.767582877308, (1, 1, 1), (1, 1, 1, 7)),\n",
              " (5242.465795900589, (0, 1, 1), (0, 1, 1, 7)),\n",
              " (5243.51191097399, (0, 1, 1), (1, 1, 1, 7)),\n",
              " (5247.304839460428, (1, 0, 1), (1, 1, 1, 7)),\n",
              " (5247.713620592947, (1, 0, 1), (0, 1, 1, 7)),\n",
              " (5259.606337967707, (1, 1, 0), (0, 1, 1, 7)),\n",
              " (5260.2934604939965, (1, 1, 0), (1, 1, 1, 7)),\n",
              " (5272.72612056767, (1, 0, 0), (1, 1, 1, 7)),\n",
              " (5274.203714237944, (0, 1, 0), (1, 1, 1, 7))]"
            ]
          },
          "metadata": {},
          "execution_count": 170
        }
      ]
    },
    {
      "cell_type": "code",
      "metadata": {
        "colab": {
          "base_uri": "https://localhost:8080/"
        },
        "id": "FWMCiGC_DoJX",
        "outputId": "43ec35f7-d533-427a-fe49-a22b8c2cb50d"
      },
      "source": [
        "scores_zha"
      ],
      "execution_count": null,
      "outputs": [
        {
          "output_type": "execute_result",
          "data": {
            "text/plain": [
              "[9.449532529916953,\n",
              " 9.564956382090022,\n",
              " 13.94922794965329,\n",
              " 13.132763037455618,\n",
              " 7.746220984428085,\n",
              " 7.660835373349219,\n",
              " 14.037449565346742,\n",
              " 13.146375671160927,\n",
              " 7.672369603866671,\n",
              " 13.294506890621058]"
            ]
          },
          "metadata": {},
          "execution_count": 171
        }
      ]
    },
    {
      "cell_type": "code",
      "metadata": {
        "colab": {
          "base_uri": "https://localhost:8080/",
          "height": 497
        },
        "id": "YH6pia8FDwRh",
        "outputId": "c9be7bdb-ffa1-46fd-bb63-933bce9a8395"
      },
      "source": [
        "model=sm.tsa.statespace.SARIMAX(df8['札幌大通'],exog=exog_zha[305:], order=(1,0,1), seasonal_order=(0,1,1,7))\n",
        "fit = model.fit()\n",
        "start = pd.to_datetime('2021-09-27 00:00:00')\n",
        "end = pd.to_datetime('2021-10-05 00:00:00')\n",
        "pred = fit.predict(start=start, end=end, exog=pred_exog_zha)\n",
        "result.append(pred)\n",
        "sns.lineplot(x='日付', y='札幌大通',data=df8[-50:])\n",
        "sns.lineplot(data=pred)\n",
        "plt.xticks(rotation=90)\n",
        "pred"
      ],
      "execution_count": null,
      "outputs": [
        {
          "output_type": "execute_result",
          "data": {
            "text/plain": [
              "2021-09-27    16585.223331\n",
              "2021-09-28    16658.971470\n",
              "2021-09-29    16792.836363\n",
              "2021-09-30    16645.206178\n",
              "2021-10-01    17340.861415\n",
              "2021-10-02    11413.143743\n",
              "2021-10-03     9301.150145\n",
              "2021-10-04    16505.529107\n",
              "2021-10-05    16602.069219\n",
              "Freq: D, dtype: float64"
            ]
          },
          "metadata": {},
          "execution_count": 36
        },
        {
          "output_type": "display_data",
          "data": {
            "image/png": "[encoded data removed]",
            "text/plain": [
              "<Figure size 432x288 with 1 Axes>"
            ]
          },
          "metadata": {
            "needs_background": "light"
          }
        }
      ]
    },
    {
      "cell_type": "code",
      "metadata": {
        "colab": {
          "base_uri": "https://localhost:8080/",
          "height": 297
        },
        "id": "wJ1NClpJEMor",
        "outputId": "c9026e29-9100-47f5-9ef5-6623e2930918"
      },
      "source": [
        "pred = pd.DataFrame()\n",
        "syntex(pred)\n",
        "exog_xian = pd.DataFrame()\n",
        "exog_xian['日付'] = pd.date_range(start='01/01/2020', periods=631, freq='D')\n",
        "pred_exog_xian = pd.DataFrame()\n",
        "pred_exog_xian['日付'] = pd.date_range(start='09/23/2020', periods=13, freq='D')\n",
        "for cols in xian_list:\n",
        "  col, r = cols\n",
        "  if col not in pred.columns:\n",
        "    continue\n",
        "  if 'off' == col:\n",
        "    continue\n",
        "  exog_xian[col] = pd_x[col].values\n",
        "  pred_exog_xian[col] = pred[col].values\n",
        "exog_xian['off'] = pd_x['off'].values\n",
        "pred_exog_xian['off'] = pred['off'].values\n",
        "exog_xian = exog_xian.set_index('日付')\n",
        "pred_exog_xian = pred_exog_xian.set_index('日付')\n",
        "pred_exog_xian.tail(7)"
      ],
      "execution_count": null,
      "outputs": [
        {
          "output_type": "execute_result",
          "data": {
            "text/html": [
              "<div>\n",
              "<style scoped>\n",
              "    .dataframe tbody tr th:only-of-type {\n",
              "        vertical-align: middle;\n",
              "    }\n",
              "\n",
              "    .dataframe tbody tr th {\n",
              "        vertical-align: top;\n",
              "    }\n",
              "\n",
              "    .dataframe thead th {\n",
              "        text-align: right;\n",
              "    }\n",
              "</style>\n",
              "<table border=\"1\" class=\"dataframe\">\n",
              "  <thead>\n",
              "    <tr style=\"text-align: right;\">\n",
              "      <th></th>\n",
              "      <th>漫画</th>\n",
              "      <th>デリバリー</th>\n",
              "      <th>off</th>\n",
              "    </tr>\n",
              "    <tr>\n",
              "      <th>日付</th>\n",
              "      <th></th>\n",
              "      <th></th>\n",
              "      <th></th>\n",
              "    </tr>\n",
              "  </thead>\n",
              "  <tbody>\n",
              "    <tr>\n",
              "      <th>2020-09-29</th>\n",
              "      <td>4096.047758</td>\n",
              "      <td>429.857054</td>\n",
              "      <td>0</td>\n",
              "    </tr>\n",
              "    <tr>\n",
              "      <th>2020-09-30</th>\n",
              "      <td>4145.322291</td>\n",
              "      <td>460.336679</td>\n",
              "      <td>0</td>\n",
              "    </tr>\n",
              "    <tr>\n",
              "      <th>2020-10-01</th>\n",
              "      <td>4231.620766</td>\n",
              "      <td>473.656713</td>\n",
              "      <td>0</td>\n",
              "    </tr>\n",
              "    <tr>\n",
              "      <th>2020-10-02</th>\n",
              "      <td>4899.893344</td>\n",
              "      <td>652.041535</td>\n",
              "      <td>1</td>\n",
              "    </tr>\n",
              "    <tr>\n",
              "      <th>2020-10-03</th>\n",
              "      <td>4852.524501</td>\n",
              "      <td>648.798255</td>\n",
              "      <td>1</td>\n",
              "    </tr>\n",
              "    <tr>\n",
              "      <th>2020-10-04</th>\n",
              "      <td>4255.255303</td>\n",
              "      <td>420.029137</td>\n",
              "      <td>0</td>\n",
              "    </tr>\n",
              "    <tr>\n",
              "      <th>2020-10-05</th>\n",
              "      <td>4107.752670</td>\n",
              "      <td>427.999884</td>\n",
              "      <td>0</td>\n",
              "    </tr>\n",
              "  </tbody>\n",
              "</table>\n",
              "</div>"
            ],
            "text/plain": [
              "                     漫画       デリバリー  off\n",
              "日付                                      \n",
              "2020-09-29  4096.047758  429.857054    0\n",
              "2020-09-30  4145.322291  460.336679    0\n",
              "2020-10-01  4231.620766  473.656713    0\n",
              "2020-10-02  4899.893344  652.041535    1\n",
              "2020-10-03  4852.524501  648.798255    1\n",
              "2020-10-04  4255.255303  420.029137    0\n",
              "2020-10-05  4107.752670  427.999884    0"
            ]
          },
          "metadata": {},
          "execution_count": 37
        }
      ]
    },
    {
      "cell_type": "code",
      "metadata": {
        "colab": {
          "base_uri": "https://localhost:8080/"
        },
        "id": "Aatbxu-uEiam",
        "outputId": "8d638e77-5635-4400-cf41-3e1807607dbb"
      },
      "source": [
        "xian_pdq_list = get_list(df9['仙台駅'], exog_xian[305:])\n",
        "scores_xian = get_cv_scores(df9['仙台駅'], exog_xian[305:], xian_pdq_list)\n",
        "xian_pdq_list"
      ],
      "execution_count": null,
      "outputs": [
        {
          "output_type": "execute_result",
          "data": {
            "text/plain": [
              "[(5366.348933010331, (1, 1, 1), (0, 1, 1, 7)),\n",
              " (5367.70682188417, (1, 1, 1), (1, 1, 1, 7)),\n",
              " (5388.132210075953, (1, 0, 1), (0, 1, 1, 7)),\n",
              " (5389.346931035183, (1, 0, 1), (1, 1, 1, 7)),\n",
              " (5393.013343798023, (0, 1, 1), (0, 1, 1, 7)),\n",
              " (5393.409330179953, (0, 1, 1), (1, 1, 1, 7)),\n",
              " (5411.557190219159, (1, 0, 0), (0, 1, 1, 7)),\n",
              " (5412.303052794146, (1, 0, 0), (1, 1, 1, 7)),\n",
              " (5416.783334637097, (1, 1, 0), (1, 1, 1, 7)),\n",
              " (5417.79985755617, (1, 1, 0), (0, 1, 1, 7))]"
            ]
          },
          "metadata": {},
          "execution_count": 175
        }
      ]
    },
    {
      "cell_type": "code",
      "metadata": {
        "colab": {
          "base_uri": "https://localhost:8080/"
        },
        "id": "RMNjIQS7EwBL",
        "outputId": "a1834dc1-fc7d-4aeb-ff16-ade5500ca31e"
      },
      "source": [
        "scores_xian"
      ],
      "execution_count": null,
      "outputs": [
        {
          "output_type": "execute_result",
          "data": {
            "text/plain": [
              "[8.837056729658595,\n",
              " 8.70781952041183,\n",
              " 9.86799484417137,\n",
              " 10.84474961906596,\n",
              " 10.989380840550135,\n",
              " 11.233021484049665,\n",
              " 10.029413918318413,\n",
              " 10.622389005616862,\n",
              " 11.377264724509395,\n",
              " 11.176021240304513]"
            ]
          },
          "metadata": {},
          "execution_count": 176
        }
      ]
    },
    {
      "cell_type": "code",
      "metadata": {
        "colab": {
          "base_uri": "https://localhost:8080/",
          "height": 497
        },
        "id": "4wEPgo6EEzHO",
        "outputId": "d48e539f-2aa7-4899-d49b-1796e57f985e"
      },
      "source": [
        "model=sm.tsa.statespace.SARIMAX(df9['仙台駅'],exog=exog_xian[305:], order=(1,1,1), seasonal_order=(1,1,1,7))\n",
        "fit = model.fit()\n",
        "start = pd.to_datetime('2021-09-27 00:00:00')\n",
        "end = pd.to_datetime('2021-10-05 00:00:00')\n",
        "pred = fit.predict(start=start, end=end, exog=pred_exog_xian)\n",
        "result.append(pred)\n",
        "sns.lineplot(x='日付', y='仙台駅',data=df9[-50:])\n",
        "sns.lineplot(data=pred)\n",
        "plt.xticks(rotation=90)\n",
        "pred"
      ],
      "execution_count": null,
      "outputs": [
        {
          "output_type": "execute_result",
          "data": {
            "text/plain": [
              "2021-09-27    20404.702771\n",
              "2021-09-28    19536.508494\n",
              "2021-09-29    19667.189481\n",
              "2021-09-30    19680.678240\n",
              "2021-10-01    21140.246065\n",
              "2021-10-02    16033.494129\n",
              "2021-10-03    15084.373836\n",
              "2021-10-04    20104.206455\n",
              "2021-10-05    19709.045490\n",
              "Freq: D, dtype: float64"
            ]
          },
          "metadata": {},
          "execution_count": 38
        },
        {
          "output_type": "display_data",
          "data": {
            "image/png": "[encoded data removed]",
            "text/plain": [
              "<Figure size 432x288 with 1 Axes>"
            ]
          },
          "metadata": {
            "needs_background": "light"
          }
        }
      ]
    },
    {
      "cell_type": "code",
      "metadata": {
        "colab": {
          "base_uri": "https://localhost:8080/",
          "height": 297
        },
        "id": "mVjL0ekVGWOZ",
        "outputId": "87a9e15f-5992-4d2e-bcd8-0e10140d4ecf"
      },
      "source": [
        "pred = pd.DataFrame()\n",
        "syntex(pred)\n",
        "exog_fu = pd.DataFrame()\n",
        "exog_fu['日付'] = pd.date_range(start='01/01/2020', periods=631, freq='D')\n",
        "pred_exog_fu = pd.DataFrame()\n",
        "pred_exog_fu['日付'] = pd.date_range(start='09/23/2020', periods=13, freq='D')\n",
        "for cols in fu_list:\n",
        "  col, r = cols\n",
        "  if col not in pred.columns:\n",
        "    continue\n",
        "  if 'off' == col:\n",
        "    continue\n",
        "  exog_fu[col] = pd_x[col].values\n",
        "  pred_exog_fu[col] = pred[col].values\n",
        "exog_fu['off'] = pd_x['off'].values\n",
        "pred_exog_fu['off'] = pred['off'].values\n",
        "exog_fu = exog_fu.set_index('日付')\n",
        "pred_exog_fu = pred_exog_fu.set_index('日付')\n",
        "pred_exog_fu.tail(7)"
      ],
      "execution_count": null,
      "outputs": [
        {
          "output_type": "execute_result",
          "data": {
            "text/html": [
              "<div>\n",
              "<style scoped>\n",
              "    .dataframe tbody tr th:only-of-type {\n",
              "        vertical-align: middle;\n",
              "    }\n",
              "\n",
              "    .dataframe tbody tr th {\n",
              "        vertical-align: top;\n",
              "    }\n",
              "\n",
              "    .dataframe thead th {\n",
              "        text-align: right;\n",
              "    }\n",
              "</style>\n",
              "<table border=\"1\" class=\"dataframe\">\n",
              "  <thead>\n",
              "    <tr style=\"text-align: right;\">\n",
              "      <th></th>\n",
              "      <th>漫画</th>\n",
              "      <th>デリバリー</th>\n",
              "      <th>off</th>\n",
              "    </tr>\n",
              "    <tr>\n",
              "      <th>日付</th>\n",
              "      <th></th>\n",
              "      <th></th>\n",
              "      <th></th>\n",
              "    </tr>\n",
              "  </thead>\n",
              "  <tbody>\n",
              "    <tr>\n",
              "      <th>2020-09-29</th>\n",
              "      <td>4096.047758</td>\n",
              "      <td>429.857054</td>\n",
              "      <td>0</td>\n",
              "    </tr>\n",
              "    <tr>\n",
              "      <th>2020-09-30</th>\n",
              "      <td>4145.322291</td>\n",
              "      <td>460.336679</td>\n",
              "      <td>0</td>\n",
              "    </tr>\n",
              "    <tr>\n",
              "      <th>2020-10-01</th>\n",
              "      <td>4231.620766</td>\n",
              "      <td>473.656713</td>\n",
              "      <td>0</td>\n",
              "    </tr>\n",
              "    <tr>\n",
              "      <th>2020-10-02</th>\n",
              "      <td>4899.893344</td>\n",
              "      <td>652.041535</td>\n",
              "      <td>1</td>\n",
              "    </tr>\n",
              "    <tr>\n",
              "      <th>2020-10-03</th>\n",
              "      <td>4852.524501</td>\n",
              "      <td>648.798255</td>\n",
              "      <td>1</td>\n",
              "    </tr>\n",
              "    <tr>\n",
              "      <th>2020-10-04</th>\n",
              "      <td>4255.255303</td>\n",
              "      <td>420.029137</td>\n",
              "      <td>0</td>\n",
              "    </tr>\n",
              "    <tr>\n",
              "      <th>2020-10-05</th>\n",
              "      <td>4107.752670</td>\n",
              "      <td>427.999884</td>\n",
              "      <td>0</td>\n",
              "    </tr>\n",
              "  </tbody>\n",
              "</table>\n",
              "</div>"
            ],
            "text/plain": [
              "                     漫画       デリバリー  off\n",
              "日付                                      \n",
              "2020-09-29  4096.047758  429.857054    0\n",
              "2020-09-30  4145.322291  460.336679    0\n",
              "2020-10-01  4231.620766  473.656713    0\n",
              "2020-10-02  4899.893344  652.041535    1\n",
              "2020-10-03  4852.524501  648.798255    1\n",
              "2020-10-04  4255.255303  420.029137    0\n",
              "2020-10-05  4107.752670  427.999884    0"
            ]
          },
          "metadata": {},
          "execution_count": 39
        }
      ]
    },
    {
      "cell_type": "code",
      "metadata": {
        "colab": {
          "base_uri": "https://localhost:8080/"
        },
        "id": "ycOO4GgyGiLv",
        "outputId": "11c547f2-573c-4ff9-decb-6cf633a3d96b"
      },
      "source": [
        "fu_pdq_list = get_list(df10['福岡天神'], exog_fu[305:])\n",
        "scores_fu = get_cv_scores(df10['福岡天神'], exog_fu[305:], fu_pdq_list)\n",
        "fu_pdq_list"
      ],
      "execution_count": null,
      "outputs": [
        {
          "output_type": "execute_result",
          "data": {
            "text/plain": [
              "[(5287.189006727567, (1, 1, 1), (0, 1, 1, 7)),\n",
              " (5287.551622251101, (1, 1, 1), (1, 1, 1, 7)),\n",
              " (5297.277602975828, (0, 1, 1), (1, 1, 1, 7)),\n",
              " (5301.50984479332, (0, 1, 1), (0, 1, 1, 7)),\n",
              " (5312.357848966381, (1, 0, 1), (1, 1, 1, 7)),\n",
              " (5313.565264929414, (1, 1, 0), (1, 1, 1, 7)),\n",
              " (5314.451022102587, (1, 0, 1), (0, 1, 1, 7)),\n",
              " (5315.585909303275, (0, 1, 0), (1, 1, 1, 7)),\n",
              " (5318.604413522402, (1, 1, 0), (0, 1, 1, 7)),\n",
              " (5319.98634199282, (0, 1, 0), (0, 1, 1, 7))]"
            ]
          },
          "metadata": {},
          "execution_count": 181
        }
      ]
    },
    {
      "cell_type": "code",
      "metadata": {
        "colab": {
          "base_uri": "https://localhost:8080/"
        },
        "id": "STmxk2SOGtrG",
        "outputId": "143a6426-17e7-45d4-f3f7-f54e3d9e19b5"
      },
      "source": [
        "scores_fu"
      ],
      "execution_count": null,
      "outputs": [
        {
          "output_type": "execute_result",
          "data": {
            "text/plain": [
              "[16.341138706615506,\n",
              " 16.315514816131866,\n",
              " 17.03864205270584,\n",
              " 16.799014834305424,\n",
              " 10.219002066737117,\n",
              " 16.920413702497783,\n",
              " 10.462237334529854,\n",
              " 16.728528594051443,\n",
              " 16.790272393653208,\n",
              " 16.49040162327077]"
            ]
          },
          "metadata": {},
          "execution_count": 182
        }
      ]
    },
    {
      "cell_type": "code",
      "metadata": {
        "colab": {
          "base_uri": "https://localhost:8080/",
          "height": 497
        },
        "id": "xBRAqU3ZGwDr",
        "outputId": "3616d046-4e65-46cb-adec-302314076ed2"
      },
      "source": [
        "model=sm.tsa.statespace.SARIMAX(df10['福岡天神'],exog=exog_fu[305:], order=(1,0,1), seasonal_order=(1,1,1,7))\n",
        "fit = model.fit()\n",
        "start = pd.to_datetime('2021-09-27 00:00:00')\n",
        "end = pd.to_datetime('2021-10-05 00:00:00')\n",
        "pred = fit.predict(start=start, end=end, exog=pred_exog_fu)\n",
        "result.append(pred)\n",
        "sns.lineplot(x='日付', y='福岡天神',data=df10[-50:])\n",
        "sns.lineplot(data=pred)\n",
        "plt.xticks(rotation=90)\n",
        "pred"
      ],
      "execution_count": null,
      "outputs": [
        {
          "output_type": "execute_result",
          "data": {
            "text/plain": [
              "2021-09-27    16379.688087\n",
              "2021-09-28    16533.724782\n",
              "2021-09-29    16740.245608\n",
              "2021-09-30    16527.280263\n",
              "2021-10-01    17159.322842\n",
              "2021-10-02    11624.178516\n",
              "2021-10-03     9850.317205\n",
              "2021-10-04    16489.979146\n",
              "2021-10-05    16641.808868\n",
              "Freq: D, dtype: float64"
            ]
          },
          "metadata": {},
          "execution_count": 40
        },
        {
          "output_type": "display_data",
          "data": {
            "image/png": "[encoded data removed]",
            "text/plain": [
              "<Figure size 432x288 with 1 Axes>"
            ]
          },
          "metadata": {
            "needs_background": "light"
          }
        }
      ]
    },
    {
      "cell_type": "code",
      "metadata": {
        "colab": {
          "base_uri": "https://localhost:8080/"
        },
        "id": "dUgitEok9zF3",
        "outputId": "e77930d0-a2a2-4db2-a836-7c796dd2bc46"
      },
      "source": [
        "results = np.array(result, dtype=int).T\n",
        "results"
      ],
      "execution_count": null,
      "outputs": [
        {
          "output_type": "execute_result",
          "data": {
            "text/plain": [
              "array([[62155, 45732, 84639, 38834, 15620,  5966, 29994, 16585, 20404,\n",
              "        16379],\n",
              "       [63095, 46125, 84071, 38727, 15885,  5949, 30218, 16658, 19536,\n",
              "        16533],\n",
              "       [65021, 47311, 85221, 39591, 16121,  6098, 30617, 16792, 19667,\n",
              "        16740],\n",
              "       [64171, 46542, 84915, 39509, 16055,  5983, 30491, 16645, 19680,\n",
              "        16527],\n",
              "       [68374, 50461, 90068, 41052, 16816,  6342, 32222, 17340, 21140,\n",
              "        17159],\n",
              "       [59400, 44815, 54715, 22186, 14129,  5225, 27677, 11413, 16033,\n",
              "        11624],\n",
              "       [52925, 39750, 51541, 19544, 12953,  4413, 24797,  9301, 15084,\n",
              "         9850],\n",
              "       [61728, 45294, 84002, 38461, 15434,  5832, 29778, 16505, 20104,\n",
              "        16489],\n",
              "       [63225, 46017, 83881, 38561, 15793,  5912, 30213, 16602, 19709,\n",
              "        16641]])"
            ]
          },
          "metadata": {},
          "execution_count": 41
        }
      ]
    },
    {
      "cell_type": "code",
      "metadata": {
        "colab": {
          "base_uri": "https://localhost:8080/"
        },
        "id": "B_wI491o-ApS",
        "outputId": "45e411ac-029f-43c1-caef-409ca091c457"
      },
      "source": [
        "evaluation = df[-10:]\n",
        "evaluation.index"
      ],
      "execution_count": null,
      "outputs": [
        {
          "output_type": "execute_result",
          "data": {
            "text/plain": [
              "DatetimeIndex(['2021-09-13', '2021-09-14', '2021-09-15', '2021-09-16',\n",
              "               '2021-09-17', '2021-09-18', '2021-09-19', '2021-09-20',\n",
              "               '2021-09-21', '2021-09-22'],\n",
              "              dtype='datetime64[ns]', name='日付', freq=None)"
            ]
          },
          "metadata": {},
          "execution_count": 42
        }
      ]
    },
    {
      "cell_type": "code",
      "metadata": {
        "colab": {
          "base_uri": "https://localhost:8080/",
          "height": 359
        },
        "id": "wbUkpVS1-D64",
        "outputId": "f17e6144-8721-4dbc-a141-8472c6f3566e"
      },
      "source": [
        "df_result = pd.DataFrame(results, index=evaluation.index[:-1])\n",
        "new_index = ['2021/9/27','2021/9/28', '2021/9/29','2021/9/30', '2021/10/1', '2021/10/2', '2021/10/3','2021/10/4', '2021/10/5']\n",
        "df_result = df_result.reindex(new_index)\n",
        "df_result = pd.DataFrame(results, index=df_result.index)\n",
        "df_result"
      ],
      "execution_count": null,
      "outputs": [
        {
          "output_type": "execute_result",
          "data": {
            "text/html": [
              "<div>\n",
              "<style scoped>\n",
              "    .dataframe tbody tr th:only-of-type {\n",
              "        vertical-align: middle;\n",
              "    }\n",
              "\n",
              "    .dataframe tbody tr th {\n",
              "        vertical-align: top;\n",
              "    }\n",
              "\n",
              "    .dataframe thead th {\n",
              "        text-align: right;\n",
              "    }\n",
              "</style>\n",
              "<table border=\"1\" class=\"dataframe\">\n",
              "  <thead>\n",
              "    <tr style=\"text-align: right;\">\n",
              "      <th></th>\n",
              "      <th>0</th>\n",
              "      <th>1</th>\n",
              "      <th>2</th>\n",
              "      <th>3</th>\n",
              "      <th>4</th>\n",
              "      <th>5</th>\n",
              "      <th>6</th>\n",
              "      <th>7</th>\n",
              "      <th>8</th>\n",
              "      <th>9</th>\n",
              "    </tr>\n",
              "    <tr>\n",
              "      <th>日付</th>\n",
              "      <th></th>\n",
              "      <th></th>\n",
              "      <th></th>\n",
              "      <th></th>\n",
              "      <th></th>\n",
              "      <th></th>\n",
              "      <th></th>\n",
              "      <th></th>\n",
              "      <th></th>\n",
              "      <th></th>\n",
              "    </tr>\n",
              "  </thead>\n",
              "  <tbody>\n",
              "    <tr>\n",
              "      <th>2021/9/27</th>\n",
              "      <td>62155</td>\n",
              "      <td>45732</td>\n",
              "      <td>84639</td>\n",
              "      <td>38834</td>\n",
              "      <td>15620</td>\n",
              "      <td>5966</td>\n",
              "      <td>29994</td>\n",
              "      <td>16585</td>\n",
              "      <td>20404</td>\n",
              "      <td>16379</td>\n",
              "    </tr>\n",
              "    <tr>\n",
              "      <th>2021/9/28</th>\n",
              "      <td>63095</td>\n",
              "      <td>46125</td>\n",
              "      <td>84071</td>\n",
              "      <td>38727</td>\n",
              "      <td>15885</td>\n",
              "      <td>5949</td>\n",
              "      <td>30218</td>\n",
              "      <td>16658</td>\n",
              "      <td>19536</td>\n",
              "      <td>16533</td>\n",
              "    </tr>\n",
              "    <tr>\n",
              "      <th>2021/9/29</th>\n",
              "      <td>65021</td>\n",
              "      <td>47311</td>\n",
              "      <td>85221</td>\n",
              "      <td>39591</td>\n",
              "      <td>16121</td>\n",
              "      <td>6098</td>\n",
              "      <td>30617</td>\n",
              "      <td>16792</td>\n",
              "      <td>19667</td>\n",
              "      <td>16740</td>\n",
              "    </tr>\n",
              "    <tr>\n",
              "      <th>2021/9/30</th>\n",
              "      <td>64171</td>\n",
              "      <td>46542</td>\n",
              "      <td>84915</td>\n",
              "      <td>39509</td>\n",
              "      <td>16055</td>\n",
              "      <td>5983</td>\n",
              "      <td>30491</td>\n",
              "      <td>16645</td>\n",
              "      <td>19680</td>\n",
              "      <td>16527</td>\n",
              "    </tr>\n",
              "    <tr>\n",
              "      <th>2021/10/1</th>\n",
              "      <td>68374</td>\n",
              "      <td>50461</td>\n",
              "      <td>90068</td>\n",
              "      <td>41052</td>\n",
              "      <td>16816</td>\n",
              "      <td>6342</td>\n",
              "      <td>32222</td>\n",
              "      <td>17340</td>\n",
              "      <td>21140</td>\n",
              "      <td>17159</td>\n",
              "    </tr>\n",
              "    <tr>\n",
              "      <th>2021/10/2</th>\n",
              "      <td>59400</td>\n",
              "      <td>44815</td>\n",
              "      <td>54715</td>\n",
              "      <td>22186</td>\n",
              "      <td>14129</td>\n",
              "      <td>5225</td>\n",
              "      <td>27677</td>\n",
              "      <td>11413</td>\n",
              "      <td>16033</td>\n",
              "      <td>11624</td>\n",
              "    </tr>\n",
              "    <tr>\n",
              "      <th>2021/10/3</th>\n",
              "      <td>52925</td>\n",
              "      <td>39750</td>\n",
              "      <td>51541</td>\n",
              "      <td>19544</td>\n",
              "      <td>12953</td>\n",
              "      <td>4413</td>\n",
              "      <td>24797</td>\n",
              "      <td>9301</td>\n",
              "      <td>15084</td>\n",
              "      <td>9850</td>\n",
              "    </tr>\n",
              "    <tr>\n",
              "      <th>2021/10/4</th>\n",
              "      <td>61728</td>\n",
              "      <td>45294</td>\n",
              "      <td>84002</td>\n",
              "      <td>38461</td>\n",
              "      <td>15434</td>\n",
              "      <td>5832</td>\n",
              "      <td>29778</td>\n",
              "      <td>16505</td>\n",
              "      <td>20104</td>\n",
              "      <td>16489</td>\n",
              "    </tr>\n",
              "    <tr>\n",
              "      <th>2021/10/5</th>\n",
              "      <td>63225</td>\n",
              "      <td>46017</td>\n",
              "      <td>83881</td>\n",
              "      <td>38561</td>\n",
              "      <td>15793</td>\n",
              "      <td>5912</td>\n",
              "      <td>30213</td>\n",
              "      <td>16602</td>\n",
              "      <td>19709</td>\n",
              "      <td>16641</td>\n",
              "    </tr>\n",
              "  </tbody>\n",
              "</table>\n",
              "</div>"
            ],
            "text/plain": [
              "               0      1      2      3      4     5      6      7      8      9\n",
              "日付                                                                            \n",
              "2021/9/27  62155  45732  84639  38834  15620  5966  29994  16585  20404  16379\n",
              "2021/9/28  63095  46125  84071  38727  15885  5949  30218  16658  19536  16533\n",
              "2021/9/29  65021  47311  85221  39591  16121  6098  30617  16792  19667  16740\n",
              "2021/9/30  64171  46542  84915  39509  16055  5983  30491  16645  19680  16527\n",
              "2021/10/1  68374  50461  90068  41052  16816  6342  32222  17340  21140  17159\n",
              "2021/10/2  59400  44815  54715  22186  14129  5225  27677  11413  16033  11624\n",
              "2021/10/3  52925  39750  51541  19544  12953  4413  24797   9301  15084   9850\n",
              "2021/10/4  61728  45294  84002  38461  15434  5832  29778  16505  20104  16489\n",
              "2021/10/5  63225  46017  83881  38561  15793  5912  30213  16602  19709  16641"
            ]
          },
          "metadata": {},
          "execution_count": 43
        }
      ]
    },
    {
      "cell_type": "code",
      "metadata": {
        "id": "eZa9w3xo-TTi"
      },
      "source": [
        "df_result.to_csv(\"final1.csv\", header=False, date_format=\"%Y/%-m/%-d\")"
      ],
      "execution_count": null,
      "outputs": []
    },
    {
      "cell_type": "markdown",
      "metadata": {
        "id": "xO6fZpsy8sow"
      },
      "source": [
        "1.加紧急事态\n",
        "\n",
        "2。pdq调成（0，2）之间 \n",
        "\n",
        "3。加新增人数 "
      ]
    }
  ]
}